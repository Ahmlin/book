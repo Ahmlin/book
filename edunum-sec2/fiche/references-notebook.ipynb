{
 "cells": [
  {
   "cell_type": "markdown",
   "metadata": {},
   "source": [
    "# Musique\n",
    "\n",
    "<img src=\"https://img.discogs.com/PBM-d6jLOSimkpPeW3iOBG3qDBQ=/fit-in/600x592/filters:strip_icc():format(jpeg):mode_rgb():quality(90)/discogs-images/R-267006-1437571060-4256.jpeg.jpg\" />\n",
    "\n",
    "## Minimalisme\n",
    "\n",
    "### Labels \n",
    "\n",
    "* **Nom (libre)** : Grey Scale\n",
    "* **Genre (contraint)** : plugged\n",
    "* **Type (contraint)** : référence\n",
    "* **Durée (libre)** : 30mn\n",
    "* **Thème (contraint / selon plan d'études)** : introduction à l'algorithmique\n",
    "* **Sujet (contraint / selon plan d'études)** : découpage d'un problème en étapes\n",
    "* **Outils de mise en place (libre)** : internet / écran à montrer aux élèves / matériel de sortie audio\n",
    "* **Pédagogie (contraint)** : ? \n",
    "* **Niveau (contraint)** : facile\n",
    "* **Objectifs info (libre)** : comprendre la notion d'algorithme / comprendre la différence programme - humain\n",
    "* **Objectifs socio (libre)** : les machines peuvent-elles vraiment faire \"comme nous\" ?\n",
    "* **Compétences visées (libre)** : analyse, réflexion, créativité, imagination\n",
    "* **Mots-clefs (libre)** : musique, art, minimalisme\n",
    "* **Applications célèbres liées à la ressource (libre)** : ? \n",
    "* **Centres d'intérêts (libre)** : musique, art, minimalisme, culture\n",
    "* **Auteur(s)**\n",
    "* **Relecteur(s)**\n",
    "* **Testeur(s)**\n",
    "\n",
    "\n",
    "### Grey Scale\n",
    "\n",
    ":key: Cette page peut être partagée avec les étudiants. Cliquez sur `Share` en haut à droite et activez `Public Access` pour publier la page. Copiez le lien pour la partager. \n",
    "\n",
    ">**Contenus abordés** : Algorithmique et programmation, machine learning, robotique\n",
    "\n",
    "\n",
    "***\n",
    "\n",
    "\n",
    "### 🙇‍♂️ Introduction\n",
    "\n",
    "*Grey Scale* est une oeuvre du musicien David Cunningham, publiée en 1977, dans laquelle chaque musicien joue une phrase mélodique en boucle. Lorsqu'il commet une erreur dans la boucle, il recommence une nouvelle boucle à partir de l'erreur elle-même, jusqu'à l'erreur suivante, créant ainsi un objet musical opérant un équilibre magique entre chaos et ordre. \n",
    "\n",
    "### Vidéo\n",
    "\n",
    "https://www.youtube.com/watch?v=NYEIjLj85oM&t=118s\n",
    "\n",
    "### Sujets concernés\n",
    "\n",
    "1. Algorithmes\n",
    "2. Différences hommes-machines\n",
    "3. Notion d'aléatoire en programmation\n",
    "\n",
    "### 🤓 Prolongement débats\n",
    "\n",
    "> Voilà une liste non exhaustive de questions qui peuvent être soulevées à l'issue de cette activité. \n",
    "\n",
    "1. Un ordinateur est-il capable de commettre une \"erreur\" dans un programme ? \n",
    "2. Comment l'aléatoire est-il généré par un ordinateur ? \n"
   ]
  },
  {
   "cell_type": "code",
   "execution_count": null,
   "metadata": {},
   "outputs": [],
   "source": []
  },
  {
   "cell_type": "code",
   "execution_count": null,
   "metadata": {},
   "outputs": [],
   "source": []
  }
 ],
 "metadata": {
  "kernelspec": {
   "display_name": "Python 3",
   "language": "python",
   "name": "python3"
  },
  "language_info": {
   "codemirror_mode": {
    "name": "ipython",
    "version": 3
   },
   "file_extension": ".py",
   "mimetype": "text/x-python",
   "name": "python",
   "nbconvert_exporter": "python",
   "pygments_lexer": "ipython3",
   "version": "3.8.3"
  }
 },
 "nbformat": 4,
 "nbformat_minor": 4
}
