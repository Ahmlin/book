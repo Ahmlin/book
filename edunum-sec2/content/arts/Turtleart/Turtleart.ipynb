{
 "cells": [
  {
   "cell_type": "markdown",
   "metadata": {},
   "source": [
    "# Turtle art\n",
    "\n",
    "## Description de l'activité\n",
    "\n",
    "*Turtle art* est une activité artistique, qui repose sur le langage Logo, développé par Seymourt Paper au MIT, adapté à Python. \n",
    "\n",
    "## Objectifs de l'activité\n",
    "\n",
    "Cette activité a pour but d'introduire des éléments de langages de programmation à travers le medium du dessin. \n",
    "\n",
    "## Objectifs pédagogiques\n",
    "\n",
    "* Aborder des éléments de syntaxe Python (i.e : listes, boucles, variables, conditions, etc.)\n",
    "* Construire une approche \"computationnelle\" des arts visuels"
   ]
  },
  {
   "cell_type": "markdown",
   "metadata": {},
   "source": [
    "# Introduction\n",
    "\n",
    "Dans une conférence donnée au sujet de ce qu'il appelle \"art algorithmique\" (https://www.youtube.com/watch?v=x-qAPvYdXgM), l'artiste Frieder Nake raconte cette anecdote.\n",
    "\n",
    "À la première exposition de computer art, à la Technische Hochschule de Stuttgart, en 1965, un artiste demande sceptique demande “Ces dessins sont bien jolis, mais est-ce que votre ordinateur est capable de peindre comme *moi* je peins.” La réponse : \"Seulement si vous êtes capables de *m'expliquer* comment vous peignez\". \n",
    "\n",
    "Un ordinateur exécute les tâches qu'on lui demande d'exécuter. Contrairement à l'artiste qui laisserait sa main se balader au hasard du dessin, l'ordinateur a besoin d'instructions. Tant qu'on est capable de décrire comment un dessin a été exécuté, on est capable de le faire faire par une machine. "
   ]
  },
  {
   "cell_type": "markdown",
   "metadata": {},
   "source": [
    "# Déroulement\n",
    "\n",
    "* On présente aux élèves les dessins ci-desosus, exécutés par un programme.\n",
    "* On leur laisse le temps de les découvrir, de les analyser. \n",
    "* On oriente leur recherche en leur présentant les variables au coeur du dessin : variables de couleur, motifs qui se répétent, épaisseur du trait, formes géométriques identifiables (cercles, triangles, carrés, etc.). \n",
    "* On leur demande d'imaginer la série d'instructions qui a pu être donnée pour produire tel ou tel dessin. On les aide dans leur recherche. \n",
    "* *Note : à tout moment, en cours d'activité, on peut diminuer la difficulté en les orientant sur certaines notions, en leur donnant des pistes.*\n",
    "* On leur présente le programme, et avec eux, on analyse les points essentiels du script. Y a-t-il des boucles qui se répètent ? Des positions *x, y* qu'on peut identifier, des choix de couleur, des types de déplacements ?\n",
    "\n",
    "> Important : un aspect essentiel de cette activité est de privilégier, autant que possible, l'aller-retour de l'élève entre le programme et la feuille de papier. Le laisser jouer avec des variables du programme, mais lui demander en même temps d'utiliser ces variations dans le but de comprendre ce que le programme est en train de dessiner. "
   ]
  },
  {
   "cell_type": "markdown",
   "metadata": {},
   "source": [
    "# Mise en place\n",
    "\n",
    "Il est important, lors de la mise en place de l'activité, de présenter le système de coordonnées sur lequel repose le dessin qu'ils ont sous les yeux. \n",
    "\n",
    "![title](img/quadrant-coordinates.png)\n",
    "\n",
    "> À cela il faut ajouter que la taille que l'on donne à la fenêtre dans la configuration du programme, ne limite pas le déplacement de la tortue. Si sa position est hors du dessin mais qu'elle trace un cercle de diamètre suffisament grand, un arc de cercle pourra être visible sur le dessin final. *Note : ceci est même un des secrets de fabrication du premier dessin ci-dessous.*"
   ]
  },
  {
   "cell_type": "markdown",
   "metadata": {},
   "source": [
    "# Programmes à analyser\n",
    "\n"
   ]
  },
  {
   "cell_type": "markdown",
   "metadata": {},
   "source": [
    "# Exemple d'analyse\n",
    "\n",
    "## Image utilisée\n",
    "\n",
    "![title](img/bbq.png)\n",
    "\n",
    "## Programme \n",
    "\n",
    "*Note : à remplacer par programme Python*\n",
    "\n",
    "![title](img/palm.code.png)\n",
    "\n",
    "## Analyse \n",
    "\n",
    "![title](img/palm.code1.png)\n",
    "\n",
    "1. Je remarque la couleur du background utilisée. \n",
    "\n",
    "![title](img/palm.code2.png)\n",
    "\n",
    "2. Je constate qu'il y a une position de départ de la tortue.\n",
    "\n",
    "![title](img/palm.code3.png)\n",
    "\n",
    "3. Je vois que quelque part il y a une boucle qui fait que quelque chose se répète 34 fois. \n",
    "\n",
    "![title](img/palm.code4.png)\n",
    "\n",
    "4. Dans cette boucle il y a un cercle dont je connais le radius. \n",
    "\n"
   ]
  },
  {
   "cell_type": "markdown",
   "metadata": {},
   "source": [
    "### Conclusion \n",
    "\n",
    "Toutes ces informations me permettent-elles de comprendre comment la machine à effectuer ce dessin ? Visiblement, elle répète un cercle, ayant toujours le même radius, en modifiant l'épaisseur du trait selon une certaine fonction. "
   ]
  },
  {
   "cell_type": "markdown",
   "metadata": {},
   "source": [
    "# Exemple d'analyse 2\n",
    "\n",
    "## Image utilisée\n",
    "\n",
    "![title](img/bbq.png)\n",
    "\n",
    "## Programme \n",
    "\n",
    "*Note : à remplacer par programme Python*\n",
    "\n",
    "## Analyse \n",
    "\n",
    "![title](img/bbq1.png)\n",
    "\n",
    "1. Je comprends qu'il y a trois patterns supperposés. Je comprends l'ordre dans lequel ils ont été dessinés par le programme. \n",
    "\n",
    "![title](img/bbq2.png)\n",
    "\n",
    "2. Je vois qu'il y a différentes épaisseurs de trait. Mais il ne semble pas y avoir de pattern régulier. Il y a donc de l'aléatoire. \n",
    "\n",
    "![title](img/bbq3.png)\n",
    "\n",
    "3. Je constate que la tortue a suivi trois *orientations* différentes pour dessiner ses lignes. Il y a donc probablement trois *directions* à partir desquelles elle a dessiné, qui correspondent à des angles différents. \n",
    "\n",
    "![title](img/bbq4.png)\n",
    "\n",
    "4. Enfin, je constate qu'il y a trois *positions-limites*, correspondant à un point sur l'axe *x, y*. Le 8 et le 10 sont une position sur l'axe des *x*, le 9 est une positions sur l'axe *y*. \n",
    "\n",
    "## Conclusion\n",
    "\n",
    "Le programme fonctionne en trois *étapes* chacune reproduisant le même pattern, des lignes d'épaisseurs variables allant du noir au jaune. Les *étapes* se suivent comme tel : d'abord un pattern orienté 45°, ensuite un pattern verticla, puis un pattern 45° mais inverse du premier. "
   ]
  },
  {
   "cell_type": "code",
   "execution_count": null,
   "metadata": {},
   "outputs": [],
   "source": []
  },
  {
   "cell_type": "markdown",
   "metadata": {},
   "source": [
    "# Annexe\n",
    "\n",
    "## Dessins à analyser\n",
    "\n",
    "## Source : https://turtleart.org/programming/index.html\n",
    "\n",
    "![bbq](img/bbq.png)\n",
    "![title](img/blackhole.png)\n",
    "![title](img/panes.png)\n",
    "![title](img/bridge.png)\n",
    "![title](img/chrysanthemum.png)\n",
    "![title](img/dunes.png)\n",
    "![title](img/overlaps.png)\n",
    "![title](img/sandworms.png)\n",
    "![title](img/spaceframe.png)\n",
    "![title](img/squiggles.png)\n",
    "![title](img/stringtheory.png)\n",
    "![title](img/lettinggo.png)\n",
    "![title](img/sticks.png)\n",
    "![title](img/snowflake.png)\n",
    "![title](img/watching.png)\n",
    "![title](img/unpredictable.png)\n",
    "![title](img/brushes.png)\n",
    "![title](img/genie.png)\n",
    "![title](img/palm.png)"
   ]
  },
  {
   "cell_type": "code",
   "execution_count": null,
   "metadata": {},
   "outputs": [],
   "source": []
  }
 ],
 "metadata": {
  "kernelspec": {
   "display_name": "Python 3",
   "language": "python",
   "name": "python3"
  },
  "language_info": {
   "codemirror_mode": {
    "name": "ipython",
    "version": 3
   },
   "file_extension": ".py",
   "mimetype": "text/x-python",
   "name": "python",
   "nbconvert_exporter": "python",
   "pygments_lexer": "ipython3",
   "version": "3.8.3"
  }
 },
 "nbformat": 4,
 "nbformat_minor": 4
}
