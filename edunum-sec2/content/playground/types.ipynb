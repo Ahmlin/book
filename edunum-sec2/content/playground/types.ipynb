{
 "metadata": {
  "language_info": {
   "codemirror_mode": {
    "name": "ipython",
    "version": 3
   },
   "file_extension": ".py",
   "mimetype": "text/x-python",
   "name": "python",
   "nbconvert_exporter": "python",
   "pygments_lexer": "ipython3",
   "version": "3.7.3-final"
  },
  "orig_nbformat": 2,
  "kernelspec": {
   "name": "python3",
   "display_name": "Python 3"
  }
 },
 "nbformat": 4,
 "nbformat_minor": 2,
 "cells": [
  {
   "source": [
    "# Types dans Python\n",
    "\n",
    "Tous les objets en Python ont un type (ou classe). Voici trois valeurs simples qui ont tous un type différent:\n",
    "\n"
   ],
   "cell_type": "markdown",
   "metadata": {}
  },
  {
   "cell_type": "code",
   "execution_count": 51,
   "metadata": {},
   "outputs": [
    {
     "output_type": "execute_result",
     "data": {
      "text/plain": [
       "(123, True, 'abd')"
      ]
     },
     "metadata": {},
     "execution_count": 51
    }
   ],
   "source": [
    "123, True, 'abd'"
   ]
  },
  {
   "source": [
    "Ces trois valeurs sont de type:\n",
    "\n",
    "- entier\n",
    "- booléen\n",
    "- chaîne\n",
    "\n",
    "La fonction ``type()`` retourne le type d'une valeur. L'instruction suivante retourne le type du nombre 123."
   ],
   "cell_type": "markdown",
   "metadata": {}
  },
  {
   "cell_type": "code",
   "execution_count": 44,
   "metadata": {},
   "outputs": [
    {
     "output_type": "execute_result",
     "data": {
      "text/plain": [
       "int"
      ]
     },
     "metadata": {},
     "execution_count": 44
    }
   ],
   "source": [
    "type(123)"
   ]
  },
  {
   "source": [
    "Pour un entier le type est ``int``.  \n",
    "Pour une valeur booléenne (True ou False) le type est ``bool``.  \n",
    "Pour une chaine de carachtères le type est ``str``."
   ],
   "cell_type": "markdown",
   "metadata": {}
  },
  {
   "cell_type": "code",
   "execution_count": 45,
   "metadata": {},
   "outputs": [
    {
     "output_type": "execute_result",
     "data": {
      "text/plain": [
       "(bool, str)"
      ]
     },
     "metadata": {},
     "execution_count": 45
    }
   ],
   "source": [
    "type(True), type('abc')"
   ]
  },
  {
   "source": [
    "Parmis les valeurs numériques, Python fait la différene entre entier et nombre à virgule flottante."
   ],
   "cell_type": "markdown",
   "metadata": {}
  },
  {
   "cell_type": "code",
   "execution_count": 49,
   "metadata": {},
   "outputs": [
    {
     "output_type": "execute_result",
     "data": {
      "text/plain": [
       "(int, float)"
      ]
     },
     "metadata": {},
     "execution_count": 49
    }
   ],
   "source": [
    "type(123), type(1.23)"
   ]
  },
  {
   "source": [
    "Python connait aussi la valeur ``None`` qui est retourné par la fonction ``print``,\n",
    "Son type est ``NoneType``.  Voici trois lignes de démonstration: \n",
    "- la variable **x** va contenir la valeur de retour de la fonction print.   \n",
    "  dont l'effet secondaire est d'afficher ``hello``\n",
    "- mais la valeur de **x** est ``None``\n",
    "- son type est ``NoneType``"
   ],
   "cell_type": "markdown",
   "metadata": {}
  },
  {
   "source": [
    "x = print('hello')\n",
    "print(x)\n",
    "print(type(x))"
   ],
   "cell_type": "code",
   "metadata": {},
   "execution_count": 50,
   "outputs": [
    {
     "output_type": "stream",
     "name": "stdout",
     "text": [
      "hello\nNone\n<class 'NoneType'>\n"
     ]
    }
   ]
  }
 ]
}