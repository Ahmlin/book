{
 "cells": [
  {
   "cell_type": "markdown",
   "metadata": {},
   "source": [
    "# Structures\n",
    "\n",
    "Un programme est une séquence d'instructions. "
   ]
  },
  {
   "cell_type": "markdown",
   "metadata": {},
   "source": [
    "Exemple d'une boucle.  \n",
    "![repeat](https://media.giphy.com/media/VTtANKl0beDFQRLDTh/giphy.gif)"
   ]
  },
  {
   "cell_type": "markdown",
   "metadata": {},
   "source": [
    "## Qu'est un programme ?\n",
    "Un **programme** est une séquence d'instructions pour faire quelque chose. Par exemple:\n",
    "\n",
    "- faire un calcul mathématique\n",
    "- trier une liste de mots\n",
    "- résoudre une équation\n",
    "\n",
    "En général les langues de programmation a ces 5 composants\n",
    "\n",
    "- une entrée (clavier, fichier)\n",
    "- une sortie (écran, fichier)\n",
    "- des opérations mathématiques\n",
    "- des executions conditionelles (if-else)\n",
    "- des répétitions (boucles)"
   ]
  },
  {
   "cell_type": "markdown",
   "metadata": {},
   "source": [
    "## Le premier programme\n",
    "\n",
    "Ce document contient deux types de cellules:\n",
    "\n",
    "- texte (comme celle-ci)\n",
    "- code (comme la suivante)"
   ]
  },
  {
   "cell_type": "code",
   "execution_count": 9,
   "metadata": {},
   "outputs": [
    {
     "name": "stdout",
     "output_type": "stream",
     "text": [
      "bonjour\n"
     ]
    }
   ],
   "source": [
    "print('bonjour')"
   ]
  },
  {
   "cell_type": "markdown",
   "metadata": {},
   "source": [
    "Ce premier programme consiste:\n",
    "\n",
    "- d'une fonction `print` qui affiche son argument\n",
    "- des parenthèses `()` qui entourent l'argument\n",
    "- des guillemets `'...'` qui délimitent une chaîne de texte\n",
    "- du texte `bonjour` qui est délimité par des guillemets"
   ]
  },
  {
   "cell_type": "markdown",
   "metadata": {},
   "source": [
    "### Opérations arithmétiques\n",
    "\n",
    "Python peut faire des opérations arithmétiques tel que l'addition, "
   ]
  },
  {
   "cell_type": "code",
   "execution_count": 11,
   "metadata": {},
   "outputs": [
    {
     "data": {
      "text/plain": [
       "35"
      ]
     },
     "execution_count": 11,
     "metadata": {},
     "output_type": "execute_result"
    }
   ],
   "source": [
    "12 + 23"
   ]
  },
  {
   "cell_type": "markdown",
   "metadata": {},
   "source": [
    "la multiplication,"
   ]
  },
  {
   "cell_type": "code",
   "execution_count": 12,
   "metadata": {},
   "outputs": [
    {
     "data": {
      "text/plain": [
       "276"
      ]
     },
     "execution_count": 12,
     "metadata": {},
     "output_type": "execute_result"
    }
   ],
   "source": [
    "12 * 23"
   ]
  },
  {
   "cell_type": "markdown",
   "metadata": {},
   "source": [
    "ou la division."
   ]
  },
  {
   "cell_type": "code",
   "execution_count": 17,
   "metadata": {},
   "outputs": [
    {
     "data": {
      "text/plain": [
       "4.0"
      ]
     },
     "execution_count": 17,
     "metadata": {},
     "output_type": "execute_result"
    }
   ],
   "source": [
    "12 / 3"
   ]
  },
  {
   "cell_type": "markdown",
   "metadata": {},
   "source": [
    "L'opérateur de puissance est `**`."
   ]
  },
  {
   "cell_type": "code",
   "execution_count": 16,
   "metadata": {},
   "outputs": [
    {
     "data": {
      "text/plain": [
       "1169008215014432917465348578887506800769541157267"
      ]
     },
     "execution_count": 16,
     "metadata": {},
     "output_type": "execute_result"
    }
   ],
   "source": [
    "123 ** 23"
   ]
  },
  {
   "cell_type": "markdown",
   "metadata": {},
   "source": [
    "## Faire des erreurs\n",
    "\n",
    "Que se passe-t-il si vous faites une erreur avec le nom de la fonction ?\n",
    "\n",
    "    prnt('hello')\n",
    "    \n",
    "si vous oubliez un guillement ?\n",
    "\n",
    "    print('hello)\n",
    "    \n",
    "si vous oubliez une parenthèse?\n",
    "\n",
    "    print('hello'"
   ]
  },
  {
   "cell_type": "markdown",
   "metadata": {},
   "source": [
    "## Boucle\n",
    "\n",
    "Une boucle permet de répeter une instructions."
   ]
  },
  {
   "cell_type": "code",
   "execution_count": 2,
   "metadata": {},
   "outputs": [
    {
     "name": "stdout",
     "output_type": "stream",
     "text": [
      "0\n",
      "1\n",
      "2\n"
     ]
    }
   ],
   "source": [
    "for i in range(3):\n",
    "    print(i)"
   ]
  },
  {
   "cell_type": "markdown",
   "metadata": {},
   "source": [
    "## Heading 2"
   ]
  },
  {
   "cell_type": "markdown",
   "metadata": {},
   "source": [
    "### Heading 3"
   ]
  },
  {
   "cell_type": "markdown",
   "metadata": {},
   "source": [
    "#### Heading 4"
   ]
  },
  {
   "cell_type": "markdown",
   "metadata": {},
   "source": [
    "### Listes\n",
    "\n",
    "#### A puce\n",
    "\n",
    "- item\n",
    "- item\n",
    "- item\n",
    "\n",
    "#### Numérotées\n",
    "\n",
    "1. item\n",
    "1. item\n",
    "1. item\n",
    "\n",
    "### Styles \n",
    "\n",
    "**bold**,  *italics*, `code`, ``code``\n",
    "\n",
    "### Formules mathématiques\n",
    "\n",
    "inline $x_2$ formule \n",
    "\n",
    "display formule\n",
    "\n",
    "$$ c^2 = a^2 + b^2 $$"
   ]
  },
  {
   "cell_type": "markdown",
   "metadata": {},
   "source": [
    "### Kanjis et emojis"
   ]
  },
  {
   "cell_type": "code",
   "execution_count": 5,
   "metadata": {},
   "outputs": [],
   "source": [
    "liste = ['夢', '龍', '空手']"
   ]
  },
  {
   "cell_type": "code",
   "execution_count": 6,
   "metadata": {},
   "outputs": [
    {
     "name": "stdout",
     "output_type": "stream",
     "text": [
      "夢\n",
      "龍\n",
      "空手\n"
     ]
    }
   ],
   "source": [
    "for x in liste:\n",
    "    print(x)"
   ]
  },
  {
   "cell_type": "code",
   "execution_count": 8,
   "metadata": {},
   "outputs": [
    {
     "name": "stdout",
     "output_type": "stream",
     "text": [
      "😀\n",
      "🍎\n",
      "😍\n"
     ]
    }
   ],
   "source": [
    "emoji = ['😀', '🍎', '😍']\n",
    "for x in emoji:\n",
    "    print(x)"
   ]
  },
  {
   "cell_type": "markdown",
   "metadata": {},
   "source": [
    "## Turtle Art\n",
    "\n",
    "![patches](turtleart_patches.png)"
   ]
  },
  {
   "cell_type": "code",
   "execution_count": 5,
   "metadata": {},
   "outputs": [],
   "source": [
    "# %load turtleart_patches.py\n",
    "# book 2 - patches\n",
    "from turtle import *\n",
    "from colorsys import hls_to_rgb\n",
    "from random import randint, uniform\n",
    "\n",
    "bgcolor('black')\n",
    "up()\n",
    "speed(0)\n",
    "hue = 0\n",
    "\n",
    "def patch(x0, y0):\n",
    "    for i in range(30):\n",
    "        x = x0 + randint(0, 30)\n",
    "        y = y0 + randint(0, 90)\n",
    "        goto(x, y)\n",
    "        setheading(randint(-5, 5))\n",
    "        \n",
    "        color = hls_to_rgb(hue, uniform(0.4, 0.9), 1)\n",
    "        pencolor(color)\n",
    "        pensize(randint(10, 15))\n",
    "        \n",
    "        down()\n",
    "        forward(randint(80, 90))\n",
    "        up()\n",
    "        \n",
    "def star():\n",
    "    setheading(0)\n",
    "    pensize(7)\n",
    "    pencolor('black')\n",
    "    for i in range(5):\n",
    "        forward(80)\n",
    "        right(2*360/5)\n",
    "    pensize(5)\n",
    "    color = hls_to_rgb(hue, 0.5, 1)\n",
    "    pencolor(color)\n",
    "    for i in range(5):\n",
    "        forward(80)\n",
    "        right(2*360/5)\n",
    "    up()\n",
    "\n",
    "for x in range(-320, 250, 130):\n",
    "    for y in range(-270, 200, 110):\n",
    "        patch(x, y)\n",
    "        up()\n",
    "        goto(x+20, y+60)\n",
    "        down()\n",
    "        hue = hue + 0.2\n",
    "        star()\n",
    "        hue = hue + 0.1"
   ]
  },
  {
   "cell_type": "code",
   "execution_count": null,
   "metadata": {},
   "outputs": [],
   "source": []
  },
  {
   "cell_type": "code",
   "execution_count": null,
   "metadata": {},
   "outputs": [],
   "source": []
  }
 ],
 "metadata": {
  "kernelspec": {
   "display_name": "Python 3",
   "language": "python",
   "name": "python3"
  },
  "language_info": {
   "codemirror_mode": {
    "name": "ipython",
    "version": 3
   },
   "file_extension": ".py",
   "mimetype": "text/x-python",
   "name": "python",
   "nbconvert_exporter": "python",
   "pygments_lexer": "ipython3",
   "version": "3.7.4"
  }
 },
 "nbformat": 4,
 "nbformat_minor": 4
}
