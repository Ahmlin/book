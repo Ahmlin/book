{
 "cells": [
  {
   "cell_type": "markdown",
   "metadata": {},
   "source": [
    "# Contrôle de flux\n",
    "\n",
    "Jusqu'à maintenant un programme était une suite linéaire d'instructions. Dans cette section nous allons voir les instructions de contrôle de flux : \n",
    "\n",
    "- les branchements (execution conditionelle)\n",
    "- les boucles"
   ]
  },
  {
   "cell_type": "markdown",
   "metadata": {},
   "source": [
    "## Les expressions conditionnelles\n",
    "\n",
    "Les expression conditionelles permettent d'executer une suite d'instructions seulement si une condition est remplie. Nous rencontrons des dizaines de conditions par jour, ceci régit les actions que nous entreprenons. \n",
    "\n",
    "Par exemple: face à deux files d'attente au supermarché nous allons nous diriger vers la file qui contiens le moins de client. Concrètement nous avons fait le test logique suivant: Est-ce que le nombre de client dans la file A est inférieur au nombre de client dans la file B? Si la réponse à ce test logique est vraie, on se dirige vers la file A sinon on se dirige vesr la file B."
   ]
  },
  {
   "cell_type": "markdown",
   "metadata": {},
   "source": [
    "### Les tests logiques\n",
    "\n",
    "Un test logique permet d'obtenir une valeur booléenne `True` ou `False` suite à une question qui serait posée à un certain moment du programme. Pour poser ces questions nous devons utiliser un opérateur de comparaison ou un opérateur logique."
   ]
  },
  {
   "cell_type": "markdown",
   "metadata": {},
   "source": [
    "### Les opérateurs de comparaison\n",
    " Comme leur nom l'indique ces opérateurs sont utilisés pour comparer des valeurs numériques ou textuelles. Ainsi, la question *Est-ce que la valeur contenue dans la variable a est inférieur à 4* se transcrira `a < 4`.\n",
    "\n",
    "- `>` (plus grand que...)\n",
    "- `<` (plus petit que...)\n",
    "- `<=` (plus petit ou égal à...)\n",
    "- `>=` (plus grand ou égal à...)\n",
    "- `==` (égal à...)\n",
    "- `!=` (non égal à...)\n",
    "\n",
    "**Note**  \n",
    "Ne pas confondre le signe `=` qui permet d'assigner une valeur à une variable et l'opérateur de comparaison `==` qui permet de comparer si deux valeurs ou deux chaines de caractères sont égales."
   ]
  },
  {
   "cell_type": "markdown",
   "metadata": {},
   "source": [
    "### Les opérateurs logiques\n",
    "Quand il est nécessaire de réaliser un test logique plus complexe, des opérateurs logiques peuvent être utilisés. Ces opérateurs renvoient un booléen suite à l'analyse logique d'autres booléens. On retrouve les opérateurs logiques suivants:\n",
    "\n",
    "- `not` (non)\n",
    "- `and` (et)\n",
    "- `or` (ou)"
   ]
  },
  {
   "cell_type": "markdown",
   "metadata": {},
   "source": [
    "## L'instruction if\n",
    "L'instruction `if` permet d'executer une suite d'instruction si une condition est remplie. Si la condition n'est pas remplie le programme suit son cours sans executer ces instructions."
   ]
  },
  {
   "cell_type": "code",
   "execution_count": 7,
   "metadata": {},
   "outputs": [
    {
     "name": "stdout",
     "output_type": "stream",
     "text": [
      "a est plus grande que 4\n"
     ]
    }
   ],
   "source": [
    "a = 5\n",
    "if a > 4:\n",
    "    print('a est plus grande que 4')"
   ]
  },
  {
   "cell_type": "markdown",
   "metadata": {},
   "source": [
    "### L'instruction if...else\n",
    "L'instruction `if...else` permet d'executer une suite d'instruction si une condition est remplie ou une autre suite d'instruction si la condition n'est pas remplie. "
   ]
  },
  {
   "cell_type": "code",
   "execution_count": 8,
   "metadata": {},
   "outputs": [
    {
     "name": "stdout",
     "output_type": "stream",
     "text": [
      "la variable a est plus petite ou égale à 4\n"
     ]
    }
   ],
   "source": [
    "a = 4\n",
    "if a > 4:\n",
    "    print('la variable a est plus grande que 4')\n",
    "else:\n",
    "    print('la variable a est plus petite ou égale à 4')"
   ]
  },
  {
   "cell_type": "markdown",
   "metadata": {},
   "source": [
    "### L'instruction if...elif...else\n",
    "L'instruction `if...elif...else` permet d'executer une suite d'instruction si une condition est remplie. Si la première condition n'est pas remplie, une autre est testée."
   ]
  },
  {
   "cell_type": "code",
   "execution_count": 9,
   "metadata": {},
   "outputs": [
    {
     "name": "stdout",
     "output_type": "stream",
     "text": [
      "la variable a est égale à 3\n"
     ]
    }
   ],
   "source": [
    "a = 3\n",
    "if a == 4:\n",
    "    print('la variable a est égale à 4')\n",
    "elif a == 3:\n",
    "    print('la variable a est égale à 3')\n",
    "elif a == 2:\n",
    "    print('la variable a est égale à 2')\n",
    "else:\n",
    "    print('la variable a est différente de 2, 3 ou 4')"
   ]
  },
  {
   "cell_type": "markdown",
   "metadata": {},
   "source": [
    "## Indentation "
   ]
  },
  {
   "cell_type": "markdown",
   "metadata": {},
   "source": [
    "## Execution conditionnelle (If-elif-else) "
   ]
  },
  {
   "cell_type": "markdown",
   "metadata": {},
   "source": [
    "## Opérations logiques (and, or, not) "
   ]
  },
  {
   "cell_type": "markdown",
   "metadata": {},
   "source": [
    "## La boucle for "
   ]
  },
  {
   "cell_type": "markdown",
   "metadata": {},
   "source": [
    "## La boucle while "
   ]
  },
  {
   "cell_type": "markdown",
   "metadata": {},
   "source": [
    "Une boucle permet de répeter une séquence d'instructions.  \n",
    "Pour répéter `n` fois nous utilisons l'expression `for i in range(n)`.\n",
    "\n",
    "La variable `i` est appelé **compteur de boucle** et prend les valeur $0, 1, ... (n-1)$"
   ]
  },
  {
   "cell_type": "code",
   "execution_count": 10,
   "metadata": {},
   "outputs": [
    {
     "name": "stdout",
     "output_type": "stream",
     "text": [
      "0\n",
      "1\n",
      "2\n"
     ]
    }
   ],
   "source": [
    "for i in range(3):\n",
    "    print(i)"
   ]
  },
  {
   "cell_type": "markdown",
   "metadata": {},
   "source": [
    "Nous pouvons utiliser le compter de boucle `i` pour faire un calcul, tel que la puissance de de (`i**2`)."
   ]
  },
  {
   "cell_type": "code",
   "execution_count": 11,
   "metadata": {},
   "outputs": [
    {
     "name": "stdout",
     "output_type": "stream",
     "text": [
      "le carré de 0 est 0\n",
      "le carré de 1 est 1\n",
      "le carré de 2 est 4\n",
      "le carré de 3 est 9\n",
      "le carré de 4 est 16\n"
     ]
    }
   ],
   "source": [
    "for i in range(5):\n",
    "    print('le carré de', i, 'est', i**2 )"
   ]
  },
  {
   "cell_type": "markdown",
   "metadata": {},
   "source": [
    "### Transformer un algorithme en programme\n",
    "\n",
    "Donnons l'exemple d'un algoritme.  \n",
    "Calculez la somme cumulative des entiers.\n",
    "\n",
    "$$ \\sum_{i=0}^n i = 0 + 1 + 2 + ... + n $$\n",
    "\n",
    "En code ceci donne:"
   ]
  },
  {
   "cell_type": "code",
   "execution_count": 12,
   "metadata": {},
   "outputs": [
    {
     "name": "stdout",
     "output_type": "stream",
     "text": [
      "i = 0  somme = 0\n",
      "i = 1  somme = 1\n",
      "i = 2  somme = 3\n",
      "i = 3  somme = 6\n",
      "i = 4  somme = 10\n",
      "i = 5  somme = 15\n"
     ]
    }
   ],
   "source": [
    "n = 5\n",
    "somme = 0\n",
    "for i in range(n+1):\n",
    "    somme = somme + i\n",
    "    print('i =', i, ' somme =', somme)"
   ]
  },
  {
   "cell_type": "code",
   "execution_count": null,
   "metadata": {},
   "outputs": [],
   "source": []
  },
  {
   "cell_type": "markdown",
   "metadata": {},
   "source": [
    "## Exercice\n",
    "\n",
    "Essayez de trouver par vous-mêmes le programme qui imprime ces formes, sans regarder la solution."
   ]
  },
  {
   "cell_type": "markdown",
   "metadata": {},
   "source": [
    "### Carré\n",
    "Faites un programme qui affiche un carré de longueur `n` avec des `x`. "
   ]
  },
  {
   "cell_type": "code",
   "execution_count": null,
   "metadata": {},
   "outputs": [],
   "source": []
  },
  {
   "cell_type": "code",
   "execution_count": null,
   "metadata": {},
   "outputs": [],
   "source": []
  },
  {
   "cell_type": "code",
   "execution_count": 13,
   "metadata": {
    "tags": [
     "hide-input"
    ]
   },
   "outputs": [
    {
     "name": "stdout",
     "output_type": "stream",
     "text": [
      "xxxxx\n",
      "xxxxx\n",
      "xxxxx\n",
      "xxxxx\n",
      "xxxxx\n"
     ]
    }
   ],
   "source": [
    "n = 5\n",
    "for i in range(n):\n",
    "    print('x' * n) "
   ]
  },
  {
   "cell_type": "markdown",
   "metadata": {},
   "source": [
    "### Triangle\n",
    "Faites un programme qui affiche un triangle de hauteur `n` avec des `x`. "
   ]
  },
  {
   "cell_type": "code",
   "execution_count": 14,
   "metadata": {
    "tags": [
     "hide-input"
    ]
   },
   "outputs": [
    {
     "name": "stdout",
     "output_type": "stream",
     "text": [
      "x\n",
      "xx\n",
      "xxx\n",
      "xxxx\n",
      "xxxxx\n"
     ]
    }
   ],
   "source": [
    "n = 5\n",
    "for i in range(n):\n",
    "    print('x' * (i+1))"
   ]
  },
  {
   "cell_type": "markdown",
   "metadata": {},
   "source": [
    "### Boite\n",
    "Faites un programme qui affiche une boite de hauteur `a` et longueur `b` avec des `x`. L'interieur de la boite doit rester vide. "
   ]
  },
  {
   "cell_type": "code",
   "execution_count": 15,
   "metadata": {
    "tags": [
     "hide-input"
    ]
   },
   "outputs": [
    {
     "name": "stdout",
     "output_type": "stream",
     "text": [
      "xxxxxxxxxxxxx\n",
      "x           x\n",
      "x           x\n",
      "x           x\n",
      "xxxxxxxxxxxxx\n"
     ]
    }
   ],
   "source": [
    "a = 5\n",
    "b = 13\n",
    "print('x' * b)\n",
    "for i in range(a - 2):\n",
    "    print('x' + ' '*(b-2) + 'x')\n",
    "print('x' * b)"
   ]
  }
 ],
 "metadata": {
  "celltoolbar": "Tags",
  "kernelspec": {
   "display_name": "Python 3",
   "language": "python",
   "name": "python3"
  },
  "language_info": {
   "codemirror_mode": {
    "name": "ipython",
    "version": 3
   },
   "file_extension": ".py",
   "mimetype": "text/x-python",
   "name": "python",
   "nbconvert_exporter": "python",
   "pygments_lexer": "ipython3",
   "version": "3.7.4"
  }
 },
 "nbformat": 4,
 "nbformat_minor": 4
}
