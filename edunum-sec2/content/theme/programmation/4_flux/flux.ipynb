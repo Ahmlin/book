{
 "cells": [
  {
   "cell_type": "markdown",
   "metadata": {},
   "source": [
    "# Contrôle de flux "
   ]
  },
  {
   "cell_type": "markdown",
   "metadata": {},
   "source": [
    "## Indentation "
   ]
  },
  {
   "cell_type": "markdown",
   "metadata": {},
   "source": [
    "## Execution conditionnelle (If-elif-else) "
   ]
  },
  {
   "cell_type": "markdown",
   "metadata": {},
   "source": [
    "## Opérations logiques (and, or, not) "
   ]
  },
  {
   "cell_type": "markdown",
   "metadata": {},
   "source": [
    "## La boucle for "
   ]
  },
  {
   "cell_type": "markdown",
   "metadata": {},
   "source": [
    "## La boucle while "
   ]
  },
  {
   "cell_type": "markdown",
   "metadata": {},
   "source": [
    "Une boucle permet de répeter une séquence d'instructions.  \n",
    "Pour répéter `n` fois nous utilisons la boucle `for i in range(n)`.\n",
    "La variable i est appelé **compteur de boucle** et prend les valeur $0, 1, ... (n-1)$"
   ]
  },
  {
   "cell_type": "code",
   "execution_count": 1,
   "metadata": {},
   "outputs": [
    {
     "name": "stdout",
     "output_type": "stream",
     "text": [
      "0\n",
      "1\n",
      "2\n"
     ]
    }
   ],
   "source": [
    "for i in range(3):\n",
    "    print(i)"
   ]
  },
  {
   "cell_type": "markdown",
   "metadata": {},
   "source": [
    "Nous pouvons utiliser le compter de boucle `i` pour faire un calcul, tel que la puissance de de (`i**2`)."
   ]
  },
  {
   "cell_type": "code",
   "execution_count": 2,
   "metadata": {},
   "outputs": [
    {
     "name": "stdout",
     "output_type": "stream",
     "text": [
      "le carré de 0 est 0\n",
      "le carré de 1 est 1\n",
      "le carré de 2 est 4\n",
      "le carré de 3 est 9\n",
      "le carré de 4 est 16\n"
     ]
    }
   ],
   "source": [
    "for i in range(5):\n",
    "    print('le carré de', i, 'est', i**2 )"
   ]
  },
  {
   "cell_type": "markdown",
   "metadata": {},
   "source": [
    "Donnons l'exemple d'un algoritme\n",
    "\n",
    "$$ \\sum_{i=0}^n i = 0 + 1 + 2 + ... + n $$"
   ]
  },
  {
   "cell_type": "code",
   "execution_count": 3,
   "metadata": {},
   "outputs": [
    {
     "name": "stdout",
     "output_type": "stream",
     "text": [
      "i = 0  somme = 0\n",
      "i = 1  somme = 1\n",
      "i = 2  somme = 3\n",
      "i = 3  somme = 6\n",
      "i = 4  somme = 10\n",
      "i = 5  somme = 15\n"
     ]
    }
   ],
   "source": [
    "n = 5\n",
    "somme = 0\n",
    "for i in range(n+1):\n",
    "    somme = somme + i\n",
    "    print('i =', i, ' somme =', somme)"
   ]
  },
  {
   "cell_type": "markdown",
   "metadata": {
    "toc-hr-collapsed": true,
    "toc-nb-collapsed": true
   },
   "source": [
    "## Exercice\n",
    "\n",
    "Essaye de trouver le programme qui imprime ces formes, sans regarder la solution."
   ]
  },
  {
   "cell_type": "markdown",
   "metadata": {},
   "source": [
    "### Carré\n",
    "Faites un programme qui affiche un carré de longueur `n` avec des `x`. "
   ]
  },
  {
   "cell_type": "code",
   "execution_count": 4,
   "metadata": {
    "tags": [
     "hide-input"
    ]
   },
   "outputs": [
    {
     "name": "stdout",
     "output_type": "stream",
     "text": [
      "xxxxx\n",
      "xxxxx\n",
      "xxxxx\n",
      "xxxxx\n",
      "xxxxx\n"
     ]
    }
   ],
   "source": [
    "n = 5\n",
    "for i in range(n):\n",
    "    print('x' * n) "
   ]
  },
  {
   "cell_type": "markdown",
   "metadata": {},
   "source": [
    "### Triangle\n",
    "Faites un programme qui affiche un triangle de hauteur `n` avec des `x`. "
   ]
  },
  {
   "cell_type": "code",
   "execution_count": 5,
   "metadata": {
    "tags": [
     "hide-input"
    ]
   },
   "outputs": [
    {
     "name": "stdout",
     "output_type": "stream",
     "text": [
      "x\n",
      "xx\n",
      "xxx\n",
      "xxxx\n",
      "xxxxx\n"
     ]
    }
   ],
   "source": [
    "n = 5\n",
    "for i in range(n):\n",
    "    print('x' * (i+1))"
   ]
  },
  {
   "cell_type": "markdown",
   "metadata": {},
   "source": [
    "### Boite\n",
    "Faites un programme qui affiche une boite de hauteur `a` et longueur `b` avec des `x`. L'interieur de la boite doit rester vide. "
   ]
  },
  {
   "cell_type": "code",
   "execution_count": 6,
   "metadata": {
    "tags": [
     "hide-input"
    ]
   },
   "outputs": [
    {
     "name": "stdout",
     "output_type": "stream",
     "text": [
      "xxxxxxxxxxxxx\n",
      "x           x\n",
      "x           x\n",
      "x           x\n",
      "xxxxxxxxxxxxx\n"
     ]
    }
   ],
   "source": [
    "a = 5\n",
    "b = 13\n",
    "print('x' * b)\n",
    "for i in range(a - 2):\n",
    "    print('x' + ' '*(b-2) + 'x')\n",
    "print('x' * b)"
   ]
  },
  {
   "cell_type": "markdown",
   "metadata": {},
   "source": [
    "La cellule suivante utilise les tag `hide-output` et `hide-input`."
   ]
  },
  {
   "cell_type": "code",
   "execution_count": 7,
   "metadata": {
    "tags": [
     "hide-output",
     "hide-input"
    ]
   },
   "outputs": [
    {
     "name": "stdout",
     "output_type": "stream",
     "text": [
      "xxxxxxxxxxxxx\n",
      "x           x\n",
      "x           x\n",
      "x           x\n",
      "xxxxxxxxxxxxx\n"
     ]
    }
   ],
   "source": [
    "a = 5\n",
    "b = 13\n",
    "print('x' * b)\n",
    "for i in range(a - 2):\n",
    "    print('x' + ' '*(b-2) + 'x')\n",
    "print('x' * b)"
   ]
  },
  {
   "cell_type": "markdown",
   "metadata": {},
   "source": [
    "La cellule suivante utilise les tag `hide-cell`."
   ]
  },
  {
   "cell_type": "code",
   "execution_count": 8,
   "metadata": {
    "tags": [
     "hide-cell"
    ]
   },
   "outputs": [
    {
     "name": "stdout",
     "output_type": "stream",
     "text": [
      "xxxxxxxxxxxxx\n",
      "x           x\n",
      "x           x\n",
      "x           x\n",
      "xxxxxxxxxxxxx\n"
     ]
    }
   ],
   "source": [
    "a = 5\n",
    "b = 13\n",
    "print('x' * b)\n",
    "for i in range(a - 2):\n",
    "    print('x' + ' '*(b-2) + 'x')\n",
    "print('x' * b)"
   ]
  },
  {
   "cell_type": "code",
   "execution_count": null,
   "metadata": {},
   "outputs": [],
   "source": []
  }
 ],
 "metadata": {
  "celltoolbar": "Tags",
  "kernelspec": {
   "display_name": "Python 3",
   "language": "python",
   "name": "python3"
  },
  "language_info": {
   "codemirror_mode": {
    "name": "ipython",
    "version": 3
   },
   "file_extension": ".py",
   "mimetype": "text/x-python",
   "name": "python",
   "nbconvert_exporter": "python",
   "pygments_lexer": "ipython3",
   "version": "3.8.3"
  }
 },
 "nbformat": 4,
 "nbformat_minor": 4
}
