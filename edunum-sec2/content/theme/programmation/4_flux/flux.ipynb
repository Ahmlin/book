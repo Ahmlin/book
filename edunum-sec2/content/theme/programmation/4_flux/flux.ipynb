{
 "cells": [
  {
   "cell_type": "markdown",
   "metadata": {},
   "source": [
    "# Contrôle de flux "
   ]
  },
  {
   "cell_type": "markdown",
   "metadata": {},
   "source": [
    "## Indentation \n",
    "L'indentation est un retrait du texte par rapport à la marge pouvant être inséré grâce à la touche `TAB ->`\n",
    "Une suite d'instructions étant indentées de la même manière forme un bloc d'instruction. Ces blocs sont généralement utiles aux fonctions, aus expressions conditionnelles ou aux boucles."
   ]
  },
  {
   "cell_type": "code",
   "execution_count": 30,
   "metadata": {},
   "outputs": [
    {
     "name": "stdout",
     "output_type": "stream",
     "text": [
      "cours 0\n",
      "cours 1\n",
      "cours 2\n",
      "cours 3\n"
     ]
    }
   ],
   "source": [
    "def aucube(n):\n",
    "    cube = n * n * n                  #cette instruction appartien au bloc de la fonction 'aucube'\n",
    "    print('le cube de',n,'est',cube)  #cette instruction appartien au bloc de la fonction 'aucube'\n",
    "    return cube                       #cette instruction appartien au bloc de la fonction 'aucube'\n",
    "\n",
    "a = 6\n",
    "if a < 10:\n",
    "    tarif = 'jeune'                   #cette instruction appartien au bloc de l'expression conditionnelle\n",
    "    prix = 14                         #cette instruction appartien au bloc de l'expression conditionnelle\n",
    "\n",
    "for i in range(4):\n",
    "    print('cours',i)                  #cette instruction appartien au bloc de la boucle 'for'"
   ]
  },
  {
   "cell_type": "markdown",
   "metadata": {},
   "source": [
    "## Les expressions conditionnelles\n",
    "Les expression conditionelles permettent d'executer une suite d'instructions seulement si une condition est remplie. Nous rencontrons des dizaines de conditions par jour, ceci régit les actions que nous entrenons. Par exemple: face à deux files d'attente au supermarché nous allons nous diriger vers la file qui contiens le moins de client. Concrètement nous avons fait le test logique suivant : Est-ce que le nombre de client dans la file A est inférieur au nombre de client dans la file B ? Si la réponse à ce test logique est vraie, on se dirige vers la file A sinon on se dirige vesr la file B.\n",
    "\n",
    "### Les tests logiques\n",
    " Un test logique permet d'obtenir une valeur booléenne \"TRUE\" ou \"FALSE\" suite à une une question qui serait posée à un certain moment du programme. Pour poser ces questions nous devons utiliser un opérateur de comparaison ou un opérateur logique.\n",
    "### Les opérateurs de comparaison\n",
    " Comme leur nom l'indique ces opérateurs sont utilisés pour comparer des valeurs numériques ou textuelles. Ainsi, la question \"Est-ce que la valeur contenue dans la variable a est inférieur à 4\" se transcrira \"a < 4\".\n",
    " * \n",
    " * **>** \"plus grand que...\"\n",
    " * **<** *\"plus petit que...\"*\n",
    " * **<=** *\"plus petit ou égal à...\"*\n",
    " * **>=** *\"plus grand ou égal à...\"*\n",
    " * **==** *\"égal à...\"*\n",
    " * **!=** *\"non égal à...\"*\n",
    "\n",
    ":::{note} Note\n",
    "Ne pas confondre le signe = qui permet d'assigner une valeur à une variable et l'opérateur de comaraison == qui permet de comparer si deux valeurs ou deux chaines de caractères sont égales.\n",
    ":::\n",
    "\n",
    "### Les opérateurs logiques\n",
    "Quand il est nécessaire de réaliser un test logique plus complexe, des opérateurs logiques peuvent être utilisés. Ces opérateurs renvoient un booléen suite à l'analyse logique d'autres booléens. On retrouve les opérateurs logiques suivants:\n",
    "* not \"non\"\n",
    "* and \"et\"\n",
    "* or \"ou\"\n",
    "* == \"égal à...\"\n",
    "\n",
    "## L'instruction if\n",
    "L'instruction \"if\" permet d'executer une suite d'instruction si une condition est remplie. Si la condition n'est la remplie le programme suit son cours sans executer le bloc instructions."
   ]
  },
  {
   "cell_type": "code",
   "execution_count": 31,
   "metadata": {},
   "outputs": [
    {
     "name": "stdout",
     "output_type": "stream",
     "text": [
      "a est plus grande que 4\n",
      "Mon travail est terminé\n"
     ]
    }
   ],
   "source": [
    "a = 6\n",
    "if a > 4:                            #La réponse au test logique est \"True\" donc le bloc est executé\n",
    "    print('a est plus grande que 4')\n",
    "print('Mon travail est terminé')     #Cette instruction ne fais pas partie du bloc précédent car elle n'est pas indentée"
   ]
  },
  {
   "cell_type": "code",
   "execution_count": 32,
   "metadata": {},
   "outputs": [
    {
     "name": "stdout",
     "output_type": "stream",
     "text": [
      "Mon travail est terminé\n"
     ]
    }
   ],
   "source": [
    "a = 2\n",
    "if a > 4:\n",
    "    print('a est plus grande que 4') #Dans cette situation le bloc d'instruction n'est pas executé\n",
    "print('Mon travail est terminé')"
   ]
  },
  {
   "cell_type": "markdown",
   "metadata": {},
   "source": [
    "### L'instruction if...else\n",
    "L'instruction if...else permet d'executer un bloc d'instruction si une condition est remplie ou une autre suite d'instruction si la condition n'est pas remplie. "
   ]
  },
  {
   "cell_type": "code",
   "execution_count": 33,
   "metadata": {},
   "outputs": [
    {
     "name": "stdout",
     "output_type": "stream",
     "text": [
      "la variable a est plus petite ou égale à 4\n"
     ]
    }
   ],
   "source": [
    "a = 3\n",
    "if a > 4:\n",
    "    print('la variable a est plus grande que 4')\n",
    "else:\n",
    "    print('la variable a est plus petite ou égale à 4')"
   ]
  },
  {
   "cell_type": "markdown",
   "metadata": {},
   "source": [
    "### L'instruction if...elif...else\n",
    "L'instruction if...elif..else permet d'executer un bloc d'instruction si une condition est remplie. Si la première condition n'est pas remplie, une autre est testée."
   ]
  },
  {
   "cell_type": "code",
   "execution_count": 34,
   "metadata": {},
   "outputs": [
    {
     "name": "stdout",
     "output_type": "stream",
     "text": [
      "la variable a est égale à 2\n"
     ]
    }
   ],
   "source": [
    "a = 2\n",
    "if a == 4:\n",
    "    print('la variable a est égale à 4')\n",
    "elif a == 3:\n",
    "    print('la variable a est égale à 3')\n",
    "elif a == 2:\n",
    "    print('la variable a est égale à 2')\n",
    "else:\n",
    "    print('la variable a est différente de 2, 3 ou 4')"
   ]
  },
  {
   "cell_type": "markdown",
   "metadata": {},
   "source": [
    "## Opérations logiques (and, or, not) \n",
    "Pour pouvoir effectuer plusieurs test logiques lors d'une expression conditionnelle, il faudrait imbriquer les conditions."
   ]
  },
  {
   "cell_type": "code",
   "execution_count": 35,
   "metadata": {},
   "outputs": [
    {
     "name": "stdout",
     "output_type": "stream",
     "text": [
      "Connexion autorisée !\n"
     ]
    }
   ],
   "source": [
    "username = 'Jean'\n",
    "password = 'abc1234'\n",
    "\n",
    "if username == 'Jean':\n",
    "    if password == 'abc1234':\n",
    "        print('Connexion autorisée !')"
   ]
  },
  {
   "cell_type": "markdown",
   "metadata": {},
   "source": [
    "Dans l'exemple ci-dessus, nous voulons autoriser la connexion si le nom d'utilisateur ET si le mot de passe sont correcte. Nous pouvons donc utiliser une opération logique. Il y a trois principales opérations logiques : ET, OU, NON que l'on utilise en anglais : and, or, not.\n",
    "### AND\n",
    "L'opération and renvoie 'True' si les deux élément de l'expression sont 'True'"
   ]
  },
  {
   "cell_type": "code",
   "execution_count": 36,
   "metadata": {},
   "outputs": [
    {
     "data": {
      "text/plain": [
       "True"
      ]
     },
     "execution_count": 36,
     "metadata": {},
     "output_type": "execute_result"
    }
   ],
   "source": [
    "True and True"
   ]
  },
  {
   "cell_type": "code",
   "execution_count": 37,
   "metadata": {},
   "outputs": [
    {
     "data": {
      "text/plain": [
       "False"
      ]
     },
     "execution_count": 37,
     "metadata": {},
     "output_type": "execute_result"
    }
   ],
   "source": [
    "True and False"
   ]
  },
  {
   "cell_type": "code",
   "execution_count": 38,
   "metadata": {},
   "outputs": [
    {
     "data": {
      "text/plain": [
       "False"
      ]
     },
     "execution_count": 38,
     "metadata": {},
     "output_type": "execute_result"
    }
   ],
   "source": [
    "False and True"
   ]
  },
  {
   "cell_type": "code",
   "execution_count": 39,
   "metadata": {},
   "outputs": [
    {
     "data": {
      "text/plain": [
       "False"
      ]
     },
     "execution_count": 39,
     "metadata": {},
     "output_type": "execute_result"
    }
   ],
   "source": [
    "False and False"
   ]
  },
  {
   "cell_type": "markdown",
   "metadata": {},
   "source": [
    "### OR\n",
    "L'opération and renvoie 'True' si un des deux élément de l'expression est 'True'"
   ]
  },
  {
   "cell_type": "code",
   "execution_count": 40,
   "metadata": {},
   "outputs": [
    {
     "data": {
      "text/plain": [
       "True"
      ]
     },
     "execution_count": 40,
     "metadata": {},
     "output_type": "execute_result"
    }
   ],
   "source": [
    "True or True"
   ]
  },
  {
   "cell_type": "code",
   "execution_count": 41,
   "metadata": {},
   "outputs": [
    {
     "data": {
      "text/plain": [
       "True"
      ]
     },
     "execution_count": 41,
     "metadata": {},
     "output_type": "execute_result"
    }
   ],
   "source": [
    "True or False"
   ]
  },
  {
   "cell_type": "code",
   "execution_count": 42,
   "metadata": {},
   "outputs": [
    {
     "data": {
      "text/plain": [
       "True"
      ]
     },
     "execution_count": 42,
     "metadata": {},
     "output_type": "execute_result"
    }
   ],
   "source": [
    "False or True"
   ]
  },
  {
   "cell_type": "code",
   "execution_count": 43,
   "metadata": {},
   "outputs": [
    {
     "data": {
      "text/plain": [
       "False"
      ]
     },
     "execution_count": 43,
     "metadata": {},
     "output_type": "execute_result"
    }
   ],
   "source": [
    "False or False"
   ]
  },
  {
   "cell_type": "markdown",
   "metadata": {},
   "source": [
    "### NOT\n",
    "L'opération and renvoie l'inverse de l'expression"
   ]
  },
  {
   "cell_type": "code",
   "execution_count": 44,
   "metadata": {},
   "outputs": [
    {
     "data": {
      "text/plain": [
       "False"
      ]
     },
     "execution_count": 44,
     "metadata": {},
     "output_type": "execute_result"
    }
   ],
   "source": [
    "not True"
   ]
  },
  {
   "cell_type": "code",
   "execution_count": 45,
   "metadata": {},
   "outputs": [
    {
     "data": {
      "text/plain": [
       "True"
      ]
     },
     "execution_count": 45,
     "metadata": {},
     "output_type": "execute_result"
    }
   ],
   "source": [
    "not False"
   ]
  },
  {
   "cell_type": "markdown",
   "metadata": {},
   "source": [
    "En reprennant l'exemple ci-dessus, nous pouvons utiliser l'opération and pour simplifier le programme"
   ]
  },
  {
   "cell_type": "code",
   "execution_count": 46,
   "metadata": {},
   "outputs": [
    {
     "name": "stdout",
     "output_type": "stream",
     "text": [
      "Connexion autorisée !\n"
     ]
    }
   ],
   "source": [
    "username = 'Jean'\n",
    "password = 'abc1234'\n",
    "\n",
    "if username == 'Jean' and password == 'abc1234':\n",
    "    print('Connexion autorisée !')"
   ]
  },
  {
   "cell_type": "markdown",
   "metadata": {},
   "source": [
    "## Les boucles\n",
    "Les boucles permettent de répéter plusieurs fois un bloc d'instructions. On distingue les boucles 'while' utilisées lorsque le nombre de répétition n'est pas détérminé des boucles 'for' utilisées pour répéter un bloc d'instruction un nombre définit de fois."
   ]
  },
  {
   "cell_type": "markdown",
   "metadata": {},
   "source": [
    "## La boucle while\n",
    "La boucle while execute un bloc d'instruction tant qu'une condition est remplie. On peut retrouver une telle situation dans notre quotidien: tant que le feu est rouge, je dois attendre. "
   ]
  },
  {
   "cell_type": "code",
   "execution_count": 49,
   "metadata": {},
   "outputs": [],
   "source": [
    "temperature = 4\n",
    "while temperature < 20:\n",
    "    temperature += 1     #Cette notation permet d'ajouter 1 à la variable sans écrire: temperature = temperature + 1"
   ]
  },
  {
   "cell_type": "markdown",
   "metadata": {},
   "source": [
    "## La boucle for "
   ]
  },
  {
   "cell_type": "markdown",
   "metadata": {},
   "source": [
    "Une boucle 'for' permet de répeter une séquence d'instruction en utilisant une variable appelée **compteur de boucle**. Cette variable est définie lors de la création de la boucle et va s'itérer à chaque répétition.\n",
    "La boucle 'for' peut être utilisée sur une liste, un tuple, un dictionnaire, une chaine de caractère ou avec la fonction range()."
   ]
  },
  {
   "cell_type": "code",
   "execution_count": 51,
   "metadata": {},
   "outputs": [
    {
     "name": "stdout",
     "output_type": "stream",
     "text": [
      "0\n",
      "1\n",
      "2\n"
     ]
    }
   ],
   "source": [
    "for i in range(3):\n",
    "    print(i)"
   ]
  },
  {
   "cell_type": "markdown",
   "metadata": {},
   "source": [
    "Nous pouvons utiliser le compter de boucle `i` pour faire un calcul, tel que la puissance de de (`i**2`)."
   ]
  },
  {
   "cell_type": "code",
   "execution_count": 2,
   "metadata": {},
   "outputs": [
    {
     "name": "stdout",
     "output_type": "stream",
     "text": [
      "le carré de 0 est 0\n",
      "le carré de 1 est 1\n",
      "le carré de 2 est 4\n",
      "le carré de 3 est 9\n",
      "le carré de 4 est 16\n"
     ]
    }
   ],
   "source": [
    "for i in range(5):\n",
    "    print('le carré de', i, 'est', i**2 )"
   ]
  },
  {
   "cell_type": "markdown",
   "metadata": {},
   "source": [
    "Donnons l'exemple d'un algoritme\n",
    "\n",
    "$$ \\sum_{i=0}^n i = 0 + 1 + 2 + ... + n $$"
   ]
  },
  {
   "cell_type": "code",
   "execution_count": 3,
   "metadata": {},
   "outputs": [
    {
     "name": "stdout",
     "output_type": "stream",
     "text": [
      "i = 0  somme = 0\n",
      "i = 1  somme = 1\n",
      "i = 2  somme = 3\n",
      "i = 3  somme = 6\n",
      "i = 4  somme = 10\n",
      "i = 5  somme = 15\n"
     ]
    }
   ],
   "source": [
    "n = 5\n",
    "somme = 0\n",
    "for i in range(n+1):\n",
    "    somme = somme + i\n",
    "    print('i =', i, ' somme =', somme)"
   ]
  },
  {
   "cell_type": "markdown",
   "metadata": {
    "toc-hr-collapsed": true,
    "toc-nb-collapsed": true
   },
   "source": [
    "# Exercices\n",
    "\n",
    "Essaye de trouver le programme qui imprime ces formes, sans regarder la solution."
   ]
  },
  {
   "cell_type": "markdown",
   "metadata": {},
   "source": [
    "### Carré\n",
    "Faites un programme qui affiche un carré de longueur `n` avec des `x`. "
   ]
  },
  {
   "cell_type": "code",
   "execution_count": 4,
   "metadata": {
    "tags": [
     "hide-input"
    ]
   },
   "outputs": [
    {
     "name": "stdout",
     "output_type": "stream",
     "text": [
      "xxxxx\n",
      "xxxxx\n",
      "xxxxx\n",
      "xxxxx\n",
      "xxxxx\n"
     ]
    }
   ],
   "source": [
    "n = 5\n",
    "for i in range(n):\n",
    "    print('x' * n) "
   ]
  },
  {
   "cell_type": "markdown",
   "metadata": {},
   "source": [
    "### Triangle\n",
    "Faites un programme qui affiche un triangle de hauteur `n` avec des `x`. "
   ]
  },
  {
   "cell_type": "code",
   "execution_count": 5,
   "metadata": {
    "tags": [
     "hide-input"
    ]
   },
   "outputs": [
    {
     "name": "stdout",
     "output_type": "stream",
     "text": [
      "x\n",
      "xx\n",
      "xxx\n",
      "xxxx\n",
      "xxxxx\n"
     ]
    }
   ],
   "source": [
    "n = 5\n",
    "for i in range(n):\n",
    "    print('x' * (i+1))"
   ]
  },
  {
   "cell_type": "markdown",
   "metadata": {},
   "source": [
    "### Boite\n",
    "Faites un programme qui affiche une boite de hauteur `a` et longueur `b` avec des `x`. L'interieur de la boite doit rester vide. "
   ]
  },
  {
   "cell_type": "code",
   "execution_count": 6,
   "metadata": {
    "tags": [
     "hide-input"
    ]
   },
   "outputs": [
    {
     "name": "stdout",
     "output_type": "stream",
     "text": [
      "xxxxxxxxxxxxx\n",
      "x           x\n",
      "x           x\n",
      "x           x\n",
      "xxxxxxxxxxxxx\n"
     ]
    }
   ],
   "source": [
    "a = 5\n",
    "b = 13\n",
    "print('x' * b)\n",
    "for i in range(a - 2):\n",
    "    print('x' + ' '*(b-2) + 'x')\n",
    "print('x' * b)"
   ]
  },
  {
   "cell_type": "markdown",
   "metadata": {},
   "source": [
    "La cellule suivante utilise les tag `hide-output` et `hide-input`."
   ]
  },
  {
   "cell_type": "code",
   "execution_count": 7,
   "metadata": {
    "tags": [
     "hide-output",
     "hide-input"
    ]
   },
   "outputs": [
    {
     "name": "stdout",
     "output_type": "stream",
     "text": [
      "xxxxxxxxxxxxx\n",
      "x           x\n",
      "x           x\n",
      "x           x\n",
      "xxxxxxxxxxxxx\n"
     ]
    }
   ],
   "source": [
    "a = 5\n",
    "b = 13\n",
    "print('x' * b)\n",
    "for i in range(a - 2):\n",
    "    print('x' + ' '*(b-2) + 'x')\n",
    "print('x' * b)"
   ]
  },
  {
   "cell_type": "markdown",
   "metadata": {},
   "source": [
    "La cellule suivante utilise les tag `hide-cell`."
   ]
  },
  {
   "cell_type": "code",
   "execution_count": 8,
   "metadata": {
    "tags": [
     "hide-cell"
    ]
   },
   "outputs": [
    {
     "name": "stdout",
     "output_type": "stream",
     "text": [
      "xxxxxxxxxxxxx\n",
      "x           x\n",
      "x           x\n",
      "x           x\n",
      "xxxxxxxxxxxxx\n"
     ]
    }
   ],
   "source": [
    "a = 5\n",
    "b = 13\n",
    "print('x' * b)\n",
    "for i in range(a - 2):\n",
    "    print('x' + ' '*(b-2) + 'x')\n",
    "print('x' * b)"
   ]
  },
  {
   "cell_type": "code",
   "execution_count": null,
   "metadata": {},
   "outputs": [],
   "source": []
  }
 ],
 "metadata": {
  "celltoolbar": "Tags",
  "kernelspec": {
   "display_name": "Python 3",
   "language": "python",
   "name": "python3"
  },
  "language_info": {
   "codemirror_mode": {
    "name": "ipython",
    "version": 3
   },
   "file_extension": ".py",
   "mimetype": "text/x-python",
   "name": "python",
   "nbconvert_exporter": "python",
   "pygments_lexer": "ipython3",
   "version": "3.8.5"
  }
 },
 "nbformat": 4,
 "nbformat_minor": 4
}
