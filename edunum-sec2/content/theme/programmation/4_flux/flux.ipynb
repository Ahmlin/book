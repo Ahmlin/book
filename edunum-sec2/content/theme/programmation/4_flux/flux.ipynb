{
 "cells": [
  {
   "cell_type": "markdown",
   "metadata": {},
   "source": [
    "# Contrôle de flux\n",
    "\n",
    "Jusqu'à maintenant un programme était une **séquence linéaire** d'instructions. Dans cette section nous allons voir les instructions de contrôle de flux : \n",
    "\n",
    "- les branchements (execution conditionelle)\n",
    "- les boucles"
   ]
  },
  {
   "cell_type": "markdown",
   "metadata": {},
   "source": [
    "## Indentation \n",
    "L'indentation est un retrait du texte par rapport à la marge pouvant être inséré grâce à la touche **TAB (->)**.\n",
    "\n",
    "Une suite d'instructions étant indentées de la même manière forme un bloc d'instruction. Ces blocs sont généralement utiles aux fonctions, aux expressions conditionnelles ou aux boucles."
   ]
  },
  {
   "cell_type": "code",
   "execution_count": 1,
   "metadata": {},
   "outputs": [
    {
     "name": "stdout",
     "output_type": "stream",
     "text": [
      "cours 0\n",
      "cours 1\n",
      "cours 2\n",
      "cours 3\n"
     ]
    }
   ],
   "source": [
    "def aucube(n):\n",
    "    cube = n * n * n                  # appartient au bloc 'def'\n",
    "    print('le cube de',n,'est',cube)  # appartient au bloc 'def'\n",
    "    return cube                       # appartient au bloc 'def'\n",
    "\n",
    "a = 6\n",
    "if a < 10:\n",
    "    tarif = 'jeune'                   # appartient au bloc 'if'\n",
    "    prix = 14                         # appartient au bloc 'if'\n",
    "    \n",
    "for i in range(4):\n",
    "    print('cours',i)                  # appartient au bloc 'for'"
   ]
  },
  {
   "cell_type": "markdown",
   "metadata": {},
   "source": [
    "## Les expressions conditionnelles\n",
    "\n",
    "Les expression conditionelles permettent d'executer une suite d'instructions seulement si une condition est remplie. Nous rencontrons des dizaines de conditions par jour, ceci régit les actions que nous entrenons.\n",
    "\n",
    "Par exemple: face à deux files d'attente au supermarché nous allons nous diriger vers la file qui contiens le moins de client. Concrètement nous avons fait le test logique suivant: Est-ce que le nombre de client dans la file A est inférieur au nombre de client dans la file B ? Si la réponse à ce test logique est vraie, on se dirige vers la file A sinon on se dirige vesr la file B."
   ]
  },
  {
   "cell_type": "markdown",
   "metadata": {},
   "source": [
    "### Les tests logiques\n",
    " Un test logique permet d'obtenir une valeur booléenne `True` ou `False` suite à une une question qui serait posée à un certain moment du programme. Pour poser ces questions nous devons utiliser un opérateur de comparaison ou un opérateur logique."
   ]
  },
  {
   "cell_type": "markdown",
   "metadata": {},
   "source": [
    "### Les opérateurs de comparaison\n",
    " Comme leur nom l'indique ces opérateurs sont utilisés pour comparer des valeurs numériques ou textuelles. Ainsi, la question \"Est-ce que la valeur contenue dans la variable a est inférieur à 4\" se transcrira `a < 4`.\n",
    "\n",
    "- `>` (plus grand que...)\n",
    "- `<` (plus petit que...)\n",
    "- `<=` (plus petit ou égal à...)\n",
    "- `>=` (plus grand ou égal à...)\n",
    "- `==` (égal à...)\n",
    "- `!=` (non égal à...)\n",
    "\n",
    ":::{note} Note\n",
    "Ne pas confondre le signe `=` qui permet d'assigner une valeur à une variable et l'opérateur de comparaison `==` qui permet de comparer si deux valeurs ou deux chaines de caractères sont égales.\n",
    ":::"
   ]
  },
  {
   "cell_type": "markdown",
   "metadata": {},
   "source": [
    "### Les opérateurs logiques\n",
    "Quand il est nécessaire de réaliser un test logique plus complexe, des opérateurs logiques peuvent être utilisés. Ces opérateurs renvoient un booléen suite à l'analyse logique d'autres booléens. On retrouve les opérateurs logiques suivants:\n",
    "\n",
    "- `not` (non)\n",
    "- `and` (et)\n",
    "- `or` (ou)"
   ]
  },
  {
   "cell_type": "markdown",
   "metadata": {},
   "source": [
    "## L'instruction if\n",
    "L'instruction `if` permet d'executer une suite d'instruction si une condition est remplie. Si la condition n'est la remplie le programme suit son cours sans executer le bloc instructions."
   ]
  },
  {
   "cell_type": "code",
   "execution_count": 2,
   "metadata": {},
   "outputs": [
    {
     "name": "stdout",
     "output_type": "stream",
     "text": [
      "a est plus grande que 4\n",
      "Mon travail est terminé\n"
     ]
    }
   ],
   "source": [
    "a = 6\n",
    "if a > 4:                            \n",
    "    print('a est plus grande que 4')  # appartient au bloc 'if'\n",
    "print('Mon travail est terminé')      # n'apparient plus au bloc 'if'"
   ]
  },
  {
   "cell_type": "code",
   "execution_count": 3,
   "metadata": {},
   "outputs": [
    {
     "name": "stdout",
     "output_type": "stream",
     "text": [
      "Mon travail est terminé\n"
     ]
    }
   ],
   "source": [
    "a = 2\n",
    "if a > 4:\n",
    "    print('a est plus grande que 4')  # appartient au bloc 'if'\n",
    "print('Mon travail est terminé')"
   ]
  },
  {
   "cell_type": "markdown",
   "metadata": {},
   "source": [
    "### L'instruction if...else\n",
    "L'instruction `if...else` permet d'executer un bloc d'instruction si une condition est remplie ou une autre suite d'instruction si la condition n'est pas remplie. "
   ]
  },
  {
   "cell_type": "code",
   "execution_count": 4,
   "metadata": {},
   "outputs": [
    {
     "name": "stdout",
     "output_type": "stream",
     "text": [
      "la variable a est plus petite ou égale à 4\n"
     ]
    }
   ],
   "source": [
    "a = 3\n",
    "if a > 4:\n",
    "    print('la variable a est plus grande que 4')\n",
    "else:\n",
    "    print('la variable a est plus petite ou égale à 4')"
   ]
  },
  {
   "cell_type": "markdown",
   "metadata": {},
   "source": [
    "### L'instruction if...elif...else\n",
    "L'instruction `if...elif...else` permet d'executer un bloc d'instruction si une condition est remplie. Si la première condition n'est pas remplie, une autre est testée."
   ]
  },
  {
   "cell_type": "code",
   "execution_count": 5,
   "metadata": {},
   "outputs": [
    {
     "name": "stdout",
     "output_type": "stream",
     "text": [
      "la variable a est égale à 2\n"
     ]
    }
   ],
   "source": [
    "a = 2\n",
    "if a == 4:\n",
    "    print('la variable a est égale à 4')\n",
    "elif a == 3:\n",
    "    print('la variable a est égale à 3')\n",
    "elif a == 2:\n",
    "    print('la variable a est égale à 2')\n",
    "else:\n",
    "    print('la variable a est différente de 2, 3 ou 4')"
   ]
  },
  {
   "cell_type": "markdown",
   "metadata": {},
   "source": [
    "## Opérations logiques (and, or, not) \n",
    "Pour pouvoir effectuer plusieurs test logiques lors d'une expression conditionnelle, il faudrait imbriquer les conditions."
   ]
  },
  {
   "cell_type": "code",
   "execution_count": 6,
   "metadata": {},
   "outputs": [
    {
     "name": "stdout",
     "output_type": "stream",
     "text": [
      "Connexion autorisée !\n"
     ]
    }
   ],
   "source": [
    "username = 'Jean'\n",
    "password = 'abc1234'\n",
    "\n",
    "if username == 'Jean':\n",
    "    if password == 'abc1234':\n",
    "        print('Connexion autorisée !')"
   ]
  },
  {
   "cell_type": "markdown",
   "metadata": {},
   "source": [
    "Dans l'exemple ci-dessus, nous voulons autoriser la connexion si le nom d'utilisateur ET si le mot de passe sont correcte. Nous pouvons donc utiliser une opération logique. Il y a trois principales opérations logiques : ET, OU, NON que l'on utilise en anglais : and, or, not."
   ]
  },
  {
   "cell_type": "markdown",
   "metadata": {},
   "source": [
    "### AND\n",
    "L'opération `and` renvoie `True` si les deux élément de l'expression sont `True`"
   ]
  },
  {
   "cell_type": "code",
   "execution_count": 7,
   "metadata": {},
   "outputs": [
    {
     "data": {
      "text/plain": [
       "True"
      ]
     },
     "execution_count": 7,
     "metadata": {},
     "output_type": "execute_result"
    }
   ],
   "source": [
    "True and True"
   ]
  },
  {
   "cell_type": "code",
   "execution_count": 8,
   "metadata": {},
   "outputs": [
    {
     "data": {
      "text/plain": [
       "False"
      ]
     },
     "execution_count": 8,
     "metadata": {},
     "output_type": "execute_result"
    }
   ],
   "source": [
    "True and False"
   ]
  },
  {
   "cell_type": "code",
   "execution_count": 9,
   "metadata": {},
   "outputs": [
    {
     "data": {
      "text/plain": [
       "False"
      ]
     },
     "execution_count": 9,
     "metadata": {},
     "output_type": "execute_result"
    }
   ],
   "source": [
    "False and True"
   ]
  },
  {
   "cell_type": "code",
   "execution_count": 10,
   "metadata": {},
   "outputs": [
    {
     "data": {
      "text/plain": [
       "False"
      ]
     },
     "execution_count": 10,
     "metadata": {},
     "output_type": "execute_result"
    }
   ],
   "source": [
    "False and False"
   ]
  },
  {
   "cell_type": "markdown",
   "metadata": {},
   "source": [
    "### OR\n",
    "L'opération `or` renvoie `True`\n",
    " si un des deux élément de l'expression est `True`"
   ]
  },
  {
   "cell_type": "code",
   "execution_count": 11,
   "metadata": {},
   "outputs": [
    {
     "data": {
      "text/plain": [
       "True"
      ]
     },
     "execution_count": 11,
     "metadata": {},
     "output_type": "execute_result"
    }
   ],
   "source": [
    "True or True"
   ]
  },
  {
   "cell_type": "code",
   "execution_count": 12,
   "metadata": {},
   "outputs": [
    {
     "data": {
      "text/plain": [
       "True"
      ]
     },
     "execution_count": 12,
     "metadata": {},
     "output_type": "execute_result"
    }
   ],
   "source": [
    "True or False"
   ]
  },
  {
   "cell_type": "code",
   "execution_count": 13,
   "metadata": {},
   "outputs": [
    {
     "data": {
      "text/plain": [
       "True"
      ]
     },
     "execution_count": 13,
     "metadata": {},
     "output_type": "execute_result"
    }
   ],
   "source": [
    "False or True"
   ]
  },
  {
   "cell_type": "code",
   "execution_count": 14,
   "metadata": {},
   "outputs": [
    {
     "data": {
      "text/plain": [
       "False"
      ]
     },
     "execution_count": 14,
     "metadata": {},
     "output_type": "execute_result"
    }
   ],
   "source": [
    "False or False"
   ]
  },
  {
   "cell_type": "markdown",
   "metadata": {},
   "source": [
    "### NOT\n",
    "L'opération `not` renvoie l'inverse de l'expression."
   ]
  },
  {
   "cell_type": "code",
   "execution_count": 15,
   "metadata": {},
   "outputs": [
    {
     "data": {
      "text/plain": [
       "False"
      ]
     },
     "execution_count": 15,
     "metadata": {},
     "output_type": "execute_result"
    }
   ],
   "source": [
    "not True"
   ]
  },
  {
   "cell_type": "code",
   "execution_count": 16,
   "metadata": {},
   "outputs": [
    {
     "data": {
      "text/plain": [
       "True"
      ]
     },
     "execution_count": 16,
     "metadata": {},
     "output_type": "execute_result"
    }
   ],
   "source": [
    "not False"
   ]
  },
  {
   "cell_type": "markdown",
   "metadata": {},
   "source": [
    "En reprennant l'exemple ci-dessus, nous pouvons utiliser l'opération `and` pour simplifier le programme"
   ]
  },
  {
   "cell_type": "code",
   "execution_count": 17,
   "metadata": {},
   "outputs": [
    {
     "name": "stdout",
     "output_type": "stream",
     "text": [
      "Connexion autorisée !\n"
     ]
    }
   ],
   "source": [
    "username = 'Jean'\n",
    "password = 'abc1234'\n",
    "\n",
    "if username == 'Jean' and password == 'abc1234':\n",
    "    print('Connexion autorisée !')"
   ]
  },
  {
   "cell_type": "markdown",
   "metadata": {},
   "source": [
    "## La boucle for "
   ]
  },
  {
   "cell_type": "markdown",
   "metadata": {},
   "source": [
    "Une boucle permet de répeter une séquence d'instructions.  \n",
    "Pour répéter `n` fois nous utilisons la boucle `for i in range(n)`.\n",
    "La variable i est appelé **compteur de boucle** et prend les valeur $0, 1, ... (n-1)$"
   ]
  },
  {
   "cell_type": "markdown",
   "metadata": {},
   "source": [
    "## La boucle while "
   ]
  },
  {
   "cell_type": "code",
   "execution_count": 18,
   "metadata": {},
   "outputs": [
    {
     "name": "stdout",
     "output_type": "stream",
     "text": [
      "0\n",
      "1\n",
      "2\n"
     ]
    }
   ],
   "source": [
    "for i in range(3):\n",
    "    print(i)"
   ]
  },
  {
   "cell_type": "markdown",
   "metadata": {},
   "source": [
    "Nous pouvons utiliser le compter de boucle `i` pour faire un calcul, tel que la puissance de de (`i**2`)."
   ]
  },
  {
   "cell_type": "code",
   "execution_count": 19,
   "metadata": {},
   "outputs": [
    {
     "name": "stdout",
     "output_type": "stream",
     "text": [
      "le carré de 0 est 0\n",
      "le carré de 1 est 1\n",
      "le carré de 2 est 4\n",
      "le carré de 3 est 9\n",
      "le carré de 4 est 16\n"
     ]
    }
   ],
   "source": [
    "for i in range(5):\n",
    "    print('le carré de', i, 'est', i**2 )"
   ]
  },
  {
   "cell_type": "markdown",
   "metadata": {},
   "source": [
    "Donnons l'exemple d'un algoritme\n",
    "\n",
    "$$ \\sum_{i=0}^n i = 0 + 1 + 2 + ... + n $$"
   ]
  },
  {
   "cell_type": "code",
   "execution_count": 20,
   "metadata": {},
   "outputs": [
    {
     "name": "stdout",
     "output_type": "stream",
     "text": [
      "i = 0  somme = 0\n",
      "i = 1  somme = 1\n",
      "i = 2  somme = 3\n",
      "i = 3  somme = 6\n",
      "i = 4  somme = 10\n",
      "i = 5  somme = 15\n"
     ]
    }
   ],
   "source": [
    "n = 5\n",
    "somme = 0\n",
    "for i in range(n+1):\n",
    "    somme = somme + i\n",
    "    print('i =', i, ' somme =', somme)"
   ]
  },
  {
   "cell_type": "markdown",
   "metadata": {},
   "source": [
    "## Exercice\n",
    "\n",
    "Essaye de trouver le programme qui imprime ces formes, sans regarder la solution."
   ]
  },
  {
   "cell_type": "markdown",
   "metadata": {},
   "source": [
    "### Carré\n",
    "Faites un programme qui affiche un carré de longueur `n` avec des `x`. "
   ]
  },
  {
   "cell_type": "code",
   "execution_count": 21,
   "metadata": {
    "tags": [
     "hide-input"
    ]
   },
   "outputs": [
    {
     "name": "stdout",
     "output_type": "stream",
     "text": [
      "xxxxx\n",
      "xxxxx\n",
      "xxxxx\n",
      "xxxxx\n",
      "xxxxx\n"
     ]
    }
   ],
   "source": [
    "n = 5\n",
    "for i in range(n):\n",
    "    print('x' * n) "
   ]
  },
  {
   "cell_type": "markdown",
   "metadata": {},
   "source": [
    "### Triangle\n",
    "Faites un programme qui affiche un triangle de hauteur `n` avec des `x`. "
   ]
  },
  {
   "cell_type": "code",
   "execution_count": 22,
   "metadata": {
    "tags": [
     "hide-input"
    ]
   },
   "outputs": [
    {
     "name": "stdout",
     "output_type": "stream",
     "text": [
      "x\n",
      "xx\n",
      "xxx\n",
      "xxxx\n",
      "xxxxx\n"
     ]
    }
   ],
   "source": [
    "n = 5\n",
    "for i in range(n):\n",
    "    print('x' * (i+1))"
   ]
  },
  {
   "cell_type": "markdown",
   "metadata": {},
   "source": [
    "### Boite\n",
    "Faites un programme qui affiche une boite de hauteur `a` et longueur `b` avec des `x`. L'interieur de la boite doit rester vide. "
   ]
  },
  {
   "cell_type": "code",
   "execution_count": 23,
   "metadata": {
    "tags": [
     "hide-input"
    ]
   },
   "outputs": [
    {
     "name": "stdout",
     "output_type": "stream",
     "text": [
      "xxxxxxxxxxxxx\n",
      "x           x\n",
      "x           x\n",
      "x           x\n",
      "xxxxxxxxxxxxx\n"
     ]
    }
   ],
   "source": [
    "a = 5\n",
    "b = 13\n",
    "print('x' * b)\n",
    "for i in range(a - 2):\n",
    "    print('x' + ' '*(b-2) + 'x')\n",
    "print('x' * b)"
   ]
  },
  {
   "cell_type": "code",
   "execution_count": null,
   "metadata": {},
   "outputs": [],
   "source": []
  }
 ],
 "metadata": {
  "celltoolbar": "Tags",
  "kernelspec": {
   "display_name": "Python 3",
   "language": "python",
   "name": "python3"
  },
  "language_info": {
   "codemirror_mode": {
    "name": "ipython",
    "version": 3
   },
   "file_extension": ".py",
   "mimetype": "text/x-python",
   "name": "python",
   "nbconvert_exporter": "python",
   "pygments_lexer": "ipython3",
   "version": "3.7.4"
  }
 },
 "nbformat": 4,
 "nbformat_minor": 4
}
