{
 "cells": [
  {
   "cell_type": "markdown",
   "metadata": {},
   "source": [
    "# Contrôle de flux\n",
    "\n",
    "Jusqu'à maintenant un programme était une **séquence linéaire** d'instructions. Dans cette section nous allons voir les instructions de contrôle de flux : \n",
    "\n",
    "- les branchements (exécution conditionnelle)\n",
    "- les boucles"
   ]
  },
  {
   "cell_type": "markdown",
   "metadata": {},
   "source": [
    "## Indentation \n",
    "L'indentation est un retrait du texte par rapport à la marge pouvant être insérée grâce à la touche tabulateur **TAB** (symbolisée par une flèche à gauche du clavier).\n",
    "\n",
    "Une suite d'instructions étant indentées de la même manière forme un bloc d'instruction. Ces blocs sont généralement utiles aux fonctions, aux expressions conditionnelles ou aux boucles."
   ]
  },
  {
   "cell_type": "code",
   "execution_count": 1,
   "metadata": {},
   "outputs": [
    {
     "name": "stdout",
     "output_type": "stream",
     "text": [
      "cours 0\n",
      "cours 1\n",
      "cours 2\n",
      "cours 3\n"
     ]
    }
   ],
   "source": [
    "a = 6\n",
    "if a < 10:\n",
    "    # bloc 'if'\n",
    "    tarif = 'jeune'                   \n",
    "    prix = 14\n",
    "    \n",
    "for i in range(4):\n",
    "    # bloc 'for'\n",
    "    print('cours',i)"
   ]
  },
  {
   "cell_type": "markdown",
   "metadata": {},
   "source": [
    "## Les expressions conditionnelles\n",
    "Une expression conditionnelle permet d'exécuter une suite d'instructions seulement si une condition est vraie. \n",
    "\n",
    "Nous rencontrons des dizaines de conditions par jour, ceci régit les actions que nous entreprenons. Par exemple: face à deux files d'attente au supermarché nous allons nous diriger vers la file qui a le moins de clients. Concrètement nous avons fait le test logique suivant : est-ce que le nombre de clients dans la file A est inférieur au nombre de clients dans la file B ? Si la réponse à ce test logique est vraie, on se dirige vers la file A sinon on se dirige vers la file B."
   ]
  },
  {
   "cell_type": "markdown",
   "metadata": {},
   "source": [
    "### Les tests logiques\n",
    "Un test logique permet d'obtenir une valeur booléenne `True` ou `False` suite à une question qui serait posée à un certain moment du programme. Pour poser ces questions, nous devons utiliser un opérateur de comparaison ou un opérateur logique."
   ]
  },
  {
   "cell_type": "markdown",
   "metadata": {},
   "source": [
    "### Les opérateurs de comparaison\n",
    "Un opérateur de comparaison compare deux valeurs. \n",
    "\n",
    " * `>` plus grand que\n",
    " * `<` plus petit que\n",
    " * `<=` plus petit ou égal à\n",
    " * `>=` plus grand ou égal à\n",
    " * `==` égal à\n",
    " * `!=` non égal à\n",
    "\n",
    "**Note**   \n",
    "Ne confondez pas l'opérateur d'affectation `=` qui affecte une valeur à une variable et l'opérateur de comparaison `==` qui compare si deux valeurs sont égales.\n",
    "\n",
    "La question  \n",
    "*Est-ce que la valeur contenue dans la variable a est inférieur à 4 ?*   \n",
    "se transcrira comme suit:"
   ]
  },
  {
   "cell_type": "code",
   "execution_count": 2,
   "metadata": {},
   "outputs": [
    {
     "name": "stdout",
     "output_type": "stream",
     "text": [
      "True\n"
     ]
    }
   ],
   "source": [
    "a = 3\n",
    "print(a < 4)"
   ]
  },
  {
   "cell_type": "markdown",
   "metadata": {},
   "source": [
    "### L'instruction if\n",
    "L'instruction `if` permet d'exécuter un bloc d'instruction si une condition est vraie, sinon le programme suit son cours sans executer ce bloc."
   ]
  },
  {
   "cell_type": "code",
   "execution_count": 3,
   "metadata": {},
   "outputs": [
    {
     "name": "stdout",
     "output_type": "stream",
     "text": [
      "6\n",
      "plus grand que 4\n",
      "suite du programme\n"
     ]
    }
   ],
   "source": [
    "a = 6\n",
    "if a > 4:\n",
    "    print(a)\n",
    "    print('plus grand que 4')\n",
    "print('suite du programme')"
   ]
  },
  {
   "cell_type": "markdown",
   "metadata": {},
   "source": [
    "Si la condition est `False` le bloc conditionnel n'est pas exécuté."
   ]
  },
  {
   "cell_type": "code",
   "execution_count": 4,
   "metadata": {},
   "outputs": [
    {
     "name": "stdout",
     "output_type": "stream",
     "text": [
      "suite du programme\n"
     ]
    }
   ],
   "source": [
    "a = 2\n",
    "if a > 4:\n",
    "    print(a)\n",
    "    print('plus grand que 4')\n",
    "print('suite du programme')"
   ]
  },
  {
   "cell_type": "markdown",
   "metadata": {},
   "source": [
    "### L'instruction if...else\n",
    "L'instruction `if...else` permet de choisir entre deux blocs d'instructions selon une condition.\n",
    "Si la condition est vraie le bloc **if** est exécuté, sinon le bloc **else** est exécuté."
   ]
  },
  {
   "cell_type": "code",
   "execution_count": 5,
   "metadata": {},
   "outputs": [
    {
     "name": "stdout",
     "output_type": "stream",
     "text": [
      "la variable a est plus petite ou égale à 4\n"
     ]
    }
   ],
   "source": [
    "a = 3\n",
    "if a > 4:\n",
    "    print('la variable a est plus grande que 4')\n",
    "else:\n",
    "    print('la variable a est plus petite ou égale à 4')"
   ]
  },
  {
   "cell_type": "markdown",
   "metadata": {},
   "source": [
    "### L'instruction if...elif...else\n",
    "L'instruction `if...elif...else` permet d'executer un bloc d'instruction si une condition est vraie. Si la première condition n'est pas remplie, une autre est testée."
   ]
  },
  {
   "cell_type": "code",
   "execution_count": 6,
   "metadata": {},
   "outputs": [
    {
     "name": "stdout",
     "output_type": "stream",
     "text": [
      "la variable a est égale à 2\n"
     ]
    }
   ],
   "source": [
    "a = 2\n",
    "if a == 4:\n",
    "    print('la variable a est égale à 4')\n",
    "elif a == 3:\n",
    "    print('la variable a est égale à 3')\n",
    "elif a == 2:\n",
    "    print('la variable a est égale à 2')\n",
    "else:\n",
    "    print('la variable a est différente de 2, 3 ou 4')"
   ]
  },
  {
   "cell_type": "markdown",
   "metadata": {},
   "source": [
    "### Opérations logiques\n",
    "Un opérateur logique permet de combiner plusieurs valeurs logiques. Ces opérateurs renvoient un booléen comme résultat. Nous avons les opérateurs logiques suivants:\n",
    "* `not` non\n",
    "* `and` et\n",
    "* `or` ou\n",
    "\n",
    "Pour pouvoir effectuer plusieurs tests logiques lors d'une expression conditionnelle, il faudrait imbriquer les conditions."
   ]
  },
  {
   "cell_type": "code",
   "execution_count": 7,
   "metadata": {},
   "outputs": [
    {
     "name": "stdout",
     "output_type": "stream",
     "text": [
      "Connexion autorisée !\n"
     ]
    }
   ],
   "source": [
    "username = 'Jean'\n",
    "password = 'abc1234'\n",
    "\n",
    "if username == 'Jean':\n",
    "    if password == 'abc1234':\n",
    "        print('Connexion autorisée !')"
   ]
  },
  {
   "cell_type": "markdown",
   "metadata": {},
   "source": [
    "Dans l'exemple ci-dessus, nous voulons autoriser la connexion si le nom d'utilisateur **et** (and) si le mot de passe sont correcte. Nous pouvons donc utiliser une opération logique."
   ]
  },
  {
   "cell_type": "markdown",
   "metadata": {},
   "source": [
    "### NOT\n",
    "L'opération `not` renvoie l'inverse de l'expression."
   ]
  },
  {
   "cell_type": "code",
   "execution_count": 8,
   "metadata": {},
   "outputs": [
    {
     "data": {
      "text/plain": [
       "False"
      ]
     },
     "execution_count": 8,
     "metadata": {},
     "output_type": "execute_result"
    }
   ],
   "source": [
    "not True"
   ]
  },
  {
   "cell_type": "code",
   "execution_count": 9,
   "metadata": {},
   "outputs": [
    {
     "data": {
      "text/plain": [
       "True"
      ]
     },
     "execution_count": 9,
     "metadata": {},
     "output_type": "execute_result"
    }
   ],
   "source": [
    "not False"
   ]
  },
  {
   "cell_type": "markdown",
   "metadata": {},
   "source": [
    "### AND\n",
    "L'opération `and` renvoie `True` si les deux éléments de l'expression sont `True`."
   ]
  },
  {
   "cell_type": "code",
   "execution_count": 10,
   "metadata": {},
   "outputs": [
    {
     "data": {
      "text/plain": [
       "True"
      ]
     },
     "execution_count": 10,
     "metadata": {},
     "output_type": "execute_result"
    }
   ],
   "source": [
    "True and True"
   ]
  },
  {
   "cell_type": "markdown",
   "metadata": {},
   "source": [
    "Autrement elle renvoie `False`."
   ]
  },
  {
   "cell_type": "code",
   "execution_count": 11,
   "metadata": {},
   "outputs": [
    {
     "data": {
      "text/plain": [
       "False"
      ]
     },
     "execution_count": 11,
     "metadata": {},
     "output_type": "execute_result"
    }
   ],
   "source": [
    "True and False"
   ]
  },
  {
   "cell_type": "code",
   "execution_count": 12,
   "metadata": {},
   "outputs": [
    {
     "data": {
      "text/plain": [
       "False"
      ]
     },
     "execution_count": 12,
     "metadata": {},
     "output_type": "execute_result"
    }
   ],
   "source": [
    "False and True"
   ]
  },
  {
   "cell_type": "code",
   "execution_count": 13,
   "metadata": {},
   "outputs": [
    {
     "data": {
      "text/plain": [
       "False"
      ]
     },
     "execution_count": 13,
     "metadata": {},
     "output_type": "execute_result"
    }
   ],
   "source": [
    "False and False"
   ]
  },
  {
   "cell_type": "markdown",
   "metadata": {},
   "source": [
    "### OR\n",
    "L'opération `or` renvoie `True` si un des deux éléments de l'expression est `True`."
   ]
  },
  {
   "cell_type": "code",
   "execution_count": 14,
   "metadata": {},
   "outputs": [
    {
     "data": {
      "text/plain": [
       "True"
      ]
     },
     "execution_count": 14,
     "metadata": {},
     "output_type": "execute_result"
    }
   ],
   "source": [
    "True or True"
   ]
  },
  {
   "cell_type": "code",
   "execution_count": 15,
   "metadata": {},
   "outputs": [
    {
     "data": {
      "text/plain": [
       "True"
      ]
     },
     "execution_count": 15,
     "metadata": {},
     "output_type": "execute_result"
    }
   ],
   "source": [
    "True or False"
   ]
  },
  {
   "cell_type": "code",
   "execution_count": 16,
   "metadata": {},
   "outputs": [
    {
     "data": {
      "text/plain": [
       "True"
      ]
     },
     "execution_count": 16,
     "metadata": {},
     "output_type": "execute_result"
    }
   ],
   "source": [
    "False or True"
   ]
  },
  {
   "cell_type": "markdown",
   "metadata": {},
   "source": [
    "Autrement elle renvoie `False`."
   ]
  },
  {
   "cell_type": "code",
   "execution_count": 17,
   "metadata": {},
   "outputs": [
    {
     "data": {
      "text/plain": [
       "False"
      ]
     },
     "execution_count": 17,
     "metadata": {},
     "output_type": "execute_result"
    }
   ],
   "source": [
    "False or False"
   ]
  },
  {
   "cell_type": "markdown",
   "metadata": {},
   "source": [
    "En reprenant l'exemple ci-dessus, nous pouvons utiliser l'opération `and` pour simplifier le programme"
   ]
  },
  {
   "cell_type": "code",
   "execution_count": 18,
   "metadata": {},
   "outputs": [
    {
     "name": "stdout",
     "output_type": "stream",
     "text": [
      "Connexion autorisée !\n"
     ]
    }
   ],
   "source": [
    "username = 'Jean'\n",
    "password = 'abc1234'\n",
    "\n",
    "if username == 'Jean' and password == 'abc1234':\n",
    "    print('Connexion autorisée !')\n",
    "else:\n",
    "    print('Connexion refusée !')"
   ]
  },
  {
   "cell_type": "markdown",
   "metadata": {},
   "source": [
    "## Les boucles\n",
    "Les boucles permettent de répéter plusieurs fois un bloc d'instructions. On utilise: \n",
    "- la boucle `while` pour répéter basé sur une condition et \n",
    "- la boucle `for` pour itérer sur une séquence."
   ]
  },
  {
   "cell_type": "markdown",
   "metadata": {},
   "source": [
    "### La boucle while\n",
    "La boucle `while` exécute un bloc d'instruction tant qu'une condition est vraie. On peut retrouver une telle situation dans notre quotidien: tant que le feu est rouge, je dois attendre. "
   ]
  },
  {
   "cell_type": "code",
   "execution_count": 19,
   "metadata": {},
   "outputs": [
    {
     "name": "stdout",
     "output_type": "stream",
     "text": [
      "La température est de  20  degrés.\n"
     ]
    }
   ],
   "source": [
    "temperature = 4\n",
    "while temperature < 20:\n",
    "    temperature += 1\n",
    "\n",
    "print('La température est de ',temperature,' degrés.')    "
   ]
  },
  {
   "cell_type": "markdown",
   "metadata": {},
   "source": [
    "### La boucle for "
   ]
  },
  {
   "cell_type": "markdown",
   "metadata": {},
   "source": [
    "Une boucle `for` itère sur une séquence (liste, chaine, plage de nombres, dictionnaire). La **variable d'itération** parcourt un par un tous les éléments de le séquence.\n",
    "\n",
    "Dans l'exemple suivant, la variable d'itération `i` parcourt la plage numérique [0, 1, 2]."
   ]
  },
  {
   "cell_type": "code",
   "execution_count": 20,
   "metadata": {},
   "outputs": [
    {
     "name": "stdout",
     "output_type": "stream",
     "text": [
      "0\n",
      "1\n",
      "2\n"
     ]
    }
   ],
   "source": [
    "for i in range(3):\n",
    "    print(i)"
   ]
  },
  {
   "cell_type": "markdown",
   "metadata": {},
   "source": [
    "Nous pouvons utiliser la variable d'itération `i` pour faire un calcul, tel que calculer sa puissance."
   ]
  },
  {
   "cell_type": "code",
   "execution_count": 21,
   "metadata": {},
   "outputs": [
    {
     "name": "stdout",
     "output_type": "stream",
     "text": [
      "le carré de 1 est 1\n",
      "le carré de 2 est 4\n",
      "le carré de 3 est 9\n",
      "le carré de 4 est 16\n"
     ]
    }
   ],
   "source": [
    "for i in range(1, 5):\n",
    "    print('le carré de', i, 'est', i**2 )"
   ]
  },
  {
   "cell_type": "markdown",
   "metadata": {},
   "source": [
    "Avec une boucle il est possible de retranscrire un algorithme. Ici la somme des entiers de 0 à n\n",
    "\n",
    "$$ \\sum_{i=0}^n i = 0 + 1 + 2 + ... + n $$"
   ]
  },
  {
   "cell_type": "code",
   "execution_count": 22,
   "metadata": {},
   "outputs": [
    {
     "name": "stdout",
     "output_type": "stream",
     "text": [
      "i = 0  somme = 0\n",
      "i = 1  somme = 1\n",
      "i = 2  somme = 3\n",
      "i = 3  somme = 6\n",
      "i = 4  somme = 10\n",
      "i = 5  somme = 15\n"
     ]
    }
   ],
   "source": [
    "n = 5\n",
    "somme = 0\n",
    "for i in range(n+1):\n",
    "    somme = somme + i\n",
    "    print('i =', i, ' somme =', somme)"
   ]
  },
  {
   "cell_type": "markdown",
   "metadata": {},
   "source": [
    "## Exercices"
   ]
  },
  {
   "cell_type": "markdown",
   "metadata": {},
   "source": [
    "### Ex\n",
    "Vérifiez si une variable `x` est entre deux bornes [a, b]."
   ]
  },
  {
   "cell_type": "markdown",
   "metadata": {},
   "source": [
    "### Ex\n",
    "Faites un programme qui pose une question simple à l'utilisateur. Si sa réponse est juste, retournez **Bravo !**"
   ]
  },
  {
   "cell_type": "markdown",
   "metadata": {},
   "source": [
    "### Ex\n",
    "Faites un programme qui demande à l'utilisateur son âge. Si l'âge est supérieur ou égal à 18, le programme doit afficher: \"Vous êtes majeur, vous pouvez voter\" et si l'âge est inférieur à 18, le programme doit afficher: \"Vous êtes mineur, vous pourrez voter dans (*calcul de la différence*) année(s)\""
   ]
  },
  {
   "cell_type": "markdown",
   "metadata": {},
   "source": [
    "### Ex\n",
    "Faites un programme qui demande à l'utilisateur un chiffre entre 0 et 2. Si l'utilisateur entre le chiffre 0 le programme doit retourner **Caillou**, si l'utilisateur entre le chiffre 1 le programme doit retourner **Feuille** et si l'utilisateur entre le chiffre 2 le programme doit retourner **Ciseaux**."
   ]
  },
  {
   "cell_type": "markdown",
   "metadata": {},
   "source": [
    "### Ex\n",
    "Faites un programme qui affiche un carré de longueur `n` avec des `x`. "
   ]
  },
  {
   "cell_type": "code",
   "execution_count": 23,
   "metadata": {
    "tags": [
     "hide-input"
    ]
   },
   "outputs": [
    {
     "name": "stdout",
     "output_type": "stream",
     "text": [
      "xxxxx\n",
      "xxxxx\n",
      "xxxxx\n",
      "xxxxx\n",
      "xxxxx\n"
     ]
    }
   ],
   "source": [
    "n = 5\n",
    "for i in range(n):\n",
    "    print('x' * n) "
   ]
  },
  {
   "cell_type": "markdown",
   "metadata": {},
   "source": [
    "### Ex\n",
    "Faites un programme qui affiche un triangle de hauteur `n` avec des `x`. "
   ]
  },
  {
   "cell_type": "code",
   "execution_count": 24,
   "metadata": {
    "tags": [
     "hide-input"
    ]
   },
   "outputs": [
    {
     "name": "stdout",
     "output_type": "stream",
     "text": [
      "x\n",
      "xx\n",
      "xxx\n",
      "xxxx\n",
      "xxxxx\n"
     ]
    }
   ],
   "source": [
    "n = 5\n",
    "for i in range(n):\n",
    "    print('x' * (i+1))"
   ]
  },
  {
   "cell_type": "markdown",
   "metadata": {},
   "source": [
    "### Ex\n",
    "Faites un programme qui affiche une boite de hauteur `a` et longueur `b` avec des `x`. L'intérieur de la boite doit rester vide. "
   ]
  },
  {
   "cell_type": "code",
   "execution_count": 25,
   "metadata": {
    "tags": [
     "hide-input"
    ]
   },
   "outputs": [
    {
     "name": "stdout",
     "output_type": "stream",
     "text": [
      "xxxxxxxxxxxxx\n",
      "x           x\n",
      "x           x\n",
      "x           x\n",
      "xxxxxxxxxxxxx\n"
     ]
    }
   ],
   "source": [
    "a = 5\n",
    "b = 13\n",
    "print('x' * b)\n",
    "for i in range(a - 2):\n",
    "    print('x' + ' '*(b-2) + 'x')\n",
    "print('x' * b)"
   ]
  }
 ],
 "metadata": {
  "celltoolbar": "Tags",
  "kernelspec": {
   "display_name": "Python 3",
   "language": "python",
   "name": "python3"
  },
  "language_info": {
   "codemirror_mode": {
    "name": "ipython",
    "version": 3
   },
   "file_extension": ".py",
   "mimetype": "text/x-python",
   "name": "python",
   "nbconvert_exporter": "python",
   "pygments_lexer": "ipython3",
   "version": "3.7.9"
  }
 },
 "nbformat": 4,
 "nbformat_minor": 4
}
