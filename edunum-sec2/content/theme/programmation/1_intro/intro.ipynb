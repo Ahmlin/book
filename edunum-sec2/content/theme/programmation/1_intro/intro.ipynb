{
 "cells": [
  {
   "cell_type": "markdown",
   "metadata": {},
   "source": [
    "# Introduction à la programmation \n",
    "\n",
    "La programmation est le processus de dire à un ordinateur ce qu'il doit faire.\n",
    "\n",
    "![](https://media.giphy.com/media/26tn33aiTi1jkl6H6/giphy.gif)"
   ]
  },
  {
   "cell_type": "markdown",
   "metadata": {},
   "source": [
    "## Historique\n",
    "\n",
    "En 1642, Blaise Pascal inventa la machine à calculer. Mais il faudra attendre 200 ans, avant l'invention d'un langage de programmation qui permettra de **spécifier des opérations** et de les exécuter de façon automatique."
   ]
  },
  {
   "cell_type": "markdown",
   "metadata": {},
   "source": [
    "### Métier à tisser\n",
    "La première machine programmable est probablement le **métier à tisser de Jacquard**, réalisé en 1800. La machine utilisait des cartes perforées pour spécifier le motif à tisser. "
   ]
  },
  {
   "cell_type": "markdown",
   "metadata": {},
   "source": [
    "### Ada Lovelace\n",
    "\n",
    "Ada Lovelace, la fille du poète Lord Byron, est connue pour avoir réalisé en 1843 le premier programme informatique sur un ancêtre de l'ordinateur: la machine analytique de Charles Babbage.\n",
    "\n",
    "![](ada.jpeg)"
   ]
  },
  {
   "cell_type": "markdown",
   "metadata": {},
   "source": [
    "### La machine de Turing\n",
    "En informatique théorique, la **machine de Turing** est un modèle abstrait d'un appareil mécanique de calcul. Ce modèle a été imaginé par Alan Turing en 1936. Une machine de Turing comporte les éléments suivants:\n",
    "\n",
    "- un **ruban infini** divisé en cases. Chaque case contient un symbole (par exemple des 0 et des 1)\n",
    "- une **tête de lecture/écriture** qui permet de lire les symboles sur le ruban\n",
    "- un **registre d'état** qui mémorise l'état actuel\n",
    "- une **table d'actions** qui indique quel symbole écrire, basé sur l'état actuel et le symbole lu\n",
    "\n",
    "![](turing.jpeg) "
   ]
  },
  {
   "cell_type": "markdown",
   "metadata": {},
   "source": [
    "## Langages de programmation\n",
    "\n",
    "Les instructions d'un processeur sont représentées avec des séquences binaires (des 0 et des 1). C'est difficile pour un programmeur humain de comprendre un tel langage. \n",
    "\n",
    "Rapidement, des **assembleurs et compilateurs** ont été développés, qui permettaient de spécifier un programme avec des commandes basé sur l'anglais et plus facilement compréhensible pour un humain."
   ]
  },
  {
   "cell_type": "markdown",
   "metadata": {},
   "source": [
    "### Langage machine\n",
    "Un processeur peut exécuter un certain nombre d'instructions mathématiques et logiques. Ces instructions sont représentées par un code binaire.  C'est le langage machine ou langage assembleur.\n",
    "\n",
    "Un exemple typique est une instruction qui charge une valeur (10) dans un registre (a).\n",
    "\n",
    "    load a, #10\n",
    "    \n",
    "Un autre exemple est une instruction qui additionne un nombre (2) à un registre.\n",
    "\n",
    "    add a, #2\n",
    "    \n",
    "Une instruction problématique est l'infâme `goto` qui transfère le contrôle vers un autre endroit dans le code.\n",
    "\n",
    "    goto label\n",
    "    \n",
    "Son utilisation peut rendre un programme difficil à comprendre et prône à des erreurs."
   ]
  },
  {
   "cell_type": "markdown",
   "metadata": {},
   "source": [
    "### Langages haut niveau\n",
    "\n",
    "Les langages à haut niveau (C, Java, Python) remplacent l'instruction `goto` par des \n",
    "\n",
    "- boucles (for, while)\n",
    "- appels de fonction\n"
   ]
  },
  {
   "cell_type": "markdown",
   "metadata": {},
   "source": [
    "### Langages web\n",
    "\n",
    "Pour des sites web, trois langues sont indispensables:\n",
    "\n",
    "- **HTML** pour le contenu de la page\n",
    "- **CSS** pour le style et le format de la page\n",
    "- **JavaScript (JS)** pour programmer l'interactivité de la page\n",
    "\n",
    "![](web.jpeg)"
   ]
  },
  {
   "cell_type": "markdown",
   "metadata": {},
   "source": [
    "## Tendances actuelles\n",
    "Le domaine de l'informatique connait plusieurs tendances qui sont à la mode en ce moment. Ces sujets apparaissent régulièrement dans la presse et dans les médias."
   ]
  },
  {
   "cell_type": "markdown",
   "metadata": {},
   "source": [
    "### Machine learning\n",
    "L'apprentissage automatique, où machine learning (ML) en anglais, est un champ d'intelligence artificielle qui donne à l'ordinateur la capacité d'apprendre à partir des données massives."
   ]
  },
  {
   "cell_type": "markdown",
   "metadata": {},
   "source": [
    "### Big data\n",
    "Les données massives, **big data** en anglais, désignent les informations qui résultent d'une explosion quantitative des données durant ces dernières années. Ils nécessitent souvent multiples machines et des traitements parallélisés.\n",
    "\n",
    "![](big_data.png)"
   ]
  },
  {
   "cell_type": "markdown",
   "metadata": {},
   "source": [
    "### Intelligence artificielle\n",
    "L'intelligence artificielle (IA) est l'ensemble des théories et techniques pour simuler l'intelligence humaine.\n",
    "\n",
    "Une avancée majeure était l'ordinateur **Deep Blue** développé par IBM qui était le premier ordinateur à battre un champion mondial d'échecs, Garry Kasparov, en 1997.\n",
    "\n",
    "En 2011 l'ordinateur **IBM Watson** a gagné au jeu télévisé **Jeopardy!** en répondant à des questions et en utilisant un traitement de langage naturel."
   ]
  },
  {
   "cell_type": "markdown",
   "metadata": {},
   "source": [
    "### Internet des objets\n",
    "L'**internet des objets**, ou Internet of Things (IoT) en anglais, désigne un nombre croissant d'objets connectés à l'internet, dans le domaine de la santé, de la domotique et de la logistique.\n",
    "\n",
    "![](iot.jpeg)"
   ]
  },
  {
   "cell_type": "markdown",
   "metadata": {},
   "source": [
    "### Cybersécurité (blockchain) \n",
    "Le **blockchain** est une technologie de stockage et de transmission d'informations sans organe de contrôle. \n",
    "C'est une base de données distribuée, et protégée contre la falsification.\n",
    "\n",
    "La monnaie virtuelle **bitcoin** utilise cette technologie."
   ]
  },
  {
   "cell_type": "code",
   "execution_count": null,
   "metadata": {},
   "outputs": [],
   "source": []
  }
 ],
 "metadata": {
  "kernelspec": {
   "display_name": "Python 3",
   "language": "python",
   "name": "python3"
  },
  "language_info": {
   "codemirror_mode": {
    "name": "ipython",
    "version": 3
   },
   "file_extension": ".py",
   "mimetype": "text/x-python",
   "name": "python",
   "nbconvert_exporter": "python",
   "pygments_lexer": "ipython3",
   "version": "3.7.9"
  }
 },
 "nbformat": 4,
 "nbformat_minor": 4
}
