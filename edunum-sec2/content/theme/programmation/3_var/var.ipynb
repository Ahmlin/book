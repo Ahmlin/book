{
 "cells": [
  {
   "cell_type": "markdown",
   "metadata": {},
   "source": [
    "# Variables et expressions \n",
    "\n",
    "Les variables sont des places dans la mémoire de l'ordinateur pour stoquer des objets. Ces objets peuvent être:\n",
    "\n",
    "- des nombres\n",
    "- des caractères\n",
    "- des valeures booléennes (Vrai/Faux)\n",
    "\n",
    "![boxes](boxes.png)"
   ]
  },
  {
   "cell_type": "markdown",
   "metadata": {},
   "source": [
    "## Affectation \n",
    "\n",
    "Une variable est caractérisé par \n",
    "\n",
    "- un nom de variable\n",
    "- une valeur\n",
    "- un type\n",
    "\n",
    "On appelle **affectation** l'instruction d'associer une valeur à un nom de variable. \n",
    "Par exemple l'expression suivante associe 123 à la variable **x**."
   ]
  },
  {
   "cell_type": "code",
   "execution_count": 1,
   "metadata": {},
   "outputs": [],
   "source": [
    "x = 123"
   ]
  },
  {
   "cell_type": "markdown",
   "metadata": {},
   "source": [
    "Par la suite nous pouvons utiliser la variable `x` dans une expression mathématique, tel que"
   ]
  },
  {
   "cell_type": "code",
   "execution_count": 3,
   "metadata": {},
   "outputs": [
    {
     "data": {
      "text/plain": [
       "(125, 246, 15129)"
      ]
     },
     "execution_count": 3,
     "metadata": {},
     "output_type": "execute_result"
    }
   ],
   "source": [
    "x+2, x*2, x**2"
   ]
  },
  {
   "cell_type": "markdown",
   "metadata": {},
   "source": [
    "A n'importe quel moment la variable peut être réaffecté, et donc changer de valeur."
   ]
  },
  {
   "cell_type": "code",
   "execution_count": 4,
   "metadata": {},
   "outputs": [],
   "source": [
    "x = 100"
   ]
  },
  {
   "cell_type": "markdown",
   "metadata": {},
   "source": [
    "Dorénavant une expression seront évalué avec cette nouvelle valeur. Par exemple:"
   ]
  },
  {
   "cell_type": "code",
   "execution_count": 5,
   "metadata": {},
   "outputs": [
    {
     "data": {
      "text/plain": [
       "(102, 200, 10000)"
      ]
     },
     "execution_count": 5,
     "metadata": {},
     "output_type": "execute_result"
    }
   ],
   "source": [
    "x+2, x*2, x**2"
   ]
  },
  {
   "cell_type": "markdown",
   "metadata": {},
   "source": [
    "### Affectation multiple\n",
    "\n",
    "Python permet d'affecter plusieurs variables sur la meme ligne."
   ]
  },
  {
   "cell_type": "code",
   "execution_count": 8,
   "metadata": {},
   "outputs": [
    {
     "name": "stdout",
     "output_type": "stream",
     "text": [
      "10 20 30\n"
     ]
    }
   ],
   "source": [
    "a, b, c = 10, 20, 30\n",
    "print(a, b, c)"
   ]
  },
  {
   "cell_type": "markdown",
   "metadata": {},
   "source": [
    "### Echange de valeurs\n",
    "\n",
    "L'affectation multiple est une manière élégante d'échanger deux valeurs"
   ]
  },
  {
   "cell_type": "code",
   "execution_count": 9,
   "metadata": {},
   "outputs": [
    {
     "name": "stdout",
     "output_type": "stream",
     "text": [
      "20 10\n"
     ]
    }
   ],
   "source": [
    "a, b = b, a\n",
    "print(a, b)"
   ]
  },
  {
   "cell_type": "markdown",
   "metadata": {},
   "source": [
    "## Fonction input() \n",
    "\n",
    "La fonction `input()` permet de demander une valeur d'entrée à l'utilisateur.\n",
    "\n",
    "    nom = input('votre nom: ')\n",
    "    print('bonjour', nom)\n",
    "    \n",
    "Le resultat affiché dans la console\n",
    "\n",
    "    votre nom: jean\n",
    "    bonjour jean"
   ]
  },
  {
   "cell_type": "markdown",
   "metadata": {},
   "source": [
    "## Valeur, expression et instruction\n",
    "\n",
    "Une **valeur** est une quantité de base. Comme exemple nous pouvons donner:\n",
    "\n",
    "- `1` - un nombre entier\n",
    "- `1.2` - un nombre à virgule flottante\n",
    "- `'abc'` - une chaine de caractères\n",
    "\n",
    "Des valeurs, des operateurs mathématiques et des parenthèses peuvent former une **expression**. Une expression est évalué vers une valeur. L'expression ci-dessous évelue vers 21."
   ]
  },
  {
   "cell_type": "code",
   "execution_count": 3,
   "metadata": {},
   "outputs": [
    {
     "data": {
      "text/plain": [
       "21"
      ]
     },
     "execution_count": 3,
     "metadata": {},
     "output_type": "execute_result"
    }
   ],
   "source": [
    "(1 + 2) * (3 + 4)"
   ]
  },
  {
   "cell_type": "markdown",
   "metadata": {},
   "source": [
    "En Python il y deux types d'instruction: \n",
    "- affectation\n",
    "- fonctions\n",
    "\n",
    "Voici"
   ]
  },
  {
   "cell_type": "code",
   "execution_count": 4,
   "metadata": {},
   "outputs": [
    {
     "name": "stdout",
     "output_type": "stream",
     "text": [
      "3\n"
     ]
    }
   ],
   "source": [
    "x = 1 + 2\n",
    "print(x)"
   ]
  },
  {
   "cell_type": "markdown",
   "metadata": {},
   "source": [
    "## Opérateurs de comparaison\n",
    "\n",
    "(>, <, ==, !=, >=, <=) "
   ]
  },
  {
   "cell_type": "markdown",
   "metadata": {},
   "source": [
    "## Types "
   ]
  },
  {
   "cell_type": "markdown",
   "metadata": {},
   "source": [
    "## Noms de variables (mots-clés) "
   ]
  },
  {
   "cell_type": "markdown",
   "metadata": {},
   "source": [
    "Les objets de base que manipule un programme sont:\n",
    "\n",
    "- nombres\n",
    "- texte\n",
    "\n",
    "L'image ci-dessous montre le résultat d'un programme qui affiche un simple texte."
   ]
  },
  {
   "cell_type": "markdown",
   "metadata": {},
   "source": [
    "![hello world](https://media.giphy.com/media/MeJgB3yMMwIaHmKD4z/giphy.gif)  "
   ]
  },
  {
   "cell_type": "markdown",
   "metadata": {},
   "source": [
    "En Python ce programme s'écrit"
   ]
  },
  {
   "cell_type": "code",
   "execution_count": 1,
   "metadata": {},
   "outputs": [
    {
     "name": "stdout",
     "output_type": "stream",
     "text": [
      "Hello\n",
      "World!\n"
     ]
    }
   ],
   "source": [
    "print('Hello')\n",
    "print('World!')"
   ]
  },
  {
   "cell_type": "markdown",
   "metadata": {},
   "source": [
    "On aurait aussi pu l'écrire sur une seule ligne en utilisant sur une seule ligne, en utilisant le symbole `\\n` (newline) pour le retour à la ligne. "
   ]
  },
  {
   "cell_type": "code",
   "execution_count": 2,
   "metadata": {},
   "outputs": [
    {
     "name": "stdout",
     "output_type": "stream",
     "text": [
      "Hello\n",
      "World!\n"
     ]
    }
   ],
   "source": [
    "print('Hello\\nWorld!')"
   ]
  },
  {
   "cell_type": "markdown",
   "metadata": {},
   "source": [
    "## La chaîne de caractères\n",
    "\n",
    "La partie `bonjour` est une chaine de caractères (string). Une chaine de caractères est délimité par des apostrophes simples (`'`) ou doubles (`\"`). \n",
    "\n",
    "Nous aurions pu écrire:"
   ]
  },
  {
   "cell_type": "code",
   "execution_count": 3,
   "metadata": {},
   "outputs": [
    {
     "name": "stdout",
     "output_type": "stream",
     "text": [
      "au revoir\n"
     ]
    }
   ],
   "source": [
    "print(\"au revoir\")"
   ]
  },
  {
   "cell_type": "markdown",
   "metadata": {},
   "source": [
    "On utilise les apostrophe simples quand la chaine contient un apostrophe double à l'intérieur."
   ]
  },
  {
   "cell_type": "code",
   "execution_count": 4,
   "metadata": {},
   "outputs": [
    {
     "name": "stdout",
     "output_type": "stream",
     "text": [
      "le \"Python\" est puissant.\n"
     ]
    }
   ],
   "source": [
    "print('le \"Python\" est puissant.')"
   ]
  },
  {
   "cell_type": "markdown",
   "metadata": {},
   "source": [
    "On utilise les apostrophe doubles quand la chaine contien un apostrophe simple à l'intérieur."
   ]
  },
  {
   "cell_type": "code",
   "execution_count": 5,
   "metadata": {},
   "outputs": [
    {
     "name": "stdout",
     "output_type": "stream",
     "text": [
      "c'est intéressant\n"
     ]
    }
   ],
   "source": [
    "print(\"c'est intéressant\")"
   ]
  },
  {
   "cell_type": "markdown",
   "metadata": {},
   "source": [
    "Quoi faire si une chaîne contient les deux types d'apostrophes à la fois ?\n",
    "\n",
    "Si la chaîne est délimité par des apostrophes simples, il faut utiliser le symbole d'echappement `\\` devant un apostrophe simple qui apparait à l'intérieur."
   ]
  },
  {
   "cell_type": "code",
   "execution_count": 6,
   "metadata": {},
   "outputs": [
    {
     "name": "stdout",
     "output_type": "stream",
     "text": [
      "c'est \"très\" cool\n"
     ]
    }
   ],
   "source": [
    "print('c\\'est \"très\" cool')"
   ]
  },
  {
   "cell_type": "markdown",
   "metadata": {},
   "source": [
    "Si la chaîne est délimité par des apostrophes doubles, il faut utiliser le symbole d'echappement `\\` devant un apostrophe double à l'intérieur de la chaîne."
   ]
  },
  {
   "cell_type": "code",
   "execution_count": 7,
   "metadata": {},
   "outputs": [
    {
     "name": "stdout",
     "output_type": "stream",
     "text": [
      "c'est \"très\" cool\n"
     ]
    }
   ],
   "source": [
    "print(\"c'est \\\"très\\\" cool\")"
   ]
  },
  {
   "cell_type": "markdown",
   "metadata": {},
   "source": [
    "## Les opérateurs de chaîne\n",
    "Les opérateurs `+` et `*` ont une signification particulières pour les chaines. L'opérateur `+` est enchaine les deux chaines (concaténation)."
   ]
  },
  {
   "cell_type": "code",
   "execution_count": 8,
   "metadata": {},
   "outputs": [
    {
     "data": {
      "text/plain": [
       "'bonjour'"
      ]
     },
     "execution_count": 8,
     "metadata": {},
     "output_type": "execute_result"
    }
   ],
   "source": [
    "'bon' + 'jour'"
   ]
  },
  {
   "cell_type": "markdown",
   "metadata": {},
   "source": [
    "L'opérateur `*` permet de répéter une chaîne."
   ]
  },
  {
   "cell_type": "code",
   "execution_count": 9,
   "metadata": {},
   "outputs": [
    {
     "data": {
      "text/plain": [
       "'hahahahahahahahahaha'"
      ]
     },
     "execution_count": 9,
     "metadata": {},
     "output_type": "execute_result"
    }
   ],
   "source": [
    "'ha' * 10"
   ]
  },
  {
   "cell_type": "code",
   "execution_count": 10,
   "metadata": {},
   "outputs": [
    {
     "data": {
      "text/plain": [
       "'******************************'"
      ]
     },
     "execution_count": 10,
     "metadata": {},
     "output_type": "execute_result"
    }
   ],
   "source": [
    "'*' * 30"
   ]
  },
  {
   "cell_type": "markdown",
   "metadata": {},
   "source": [
    "Les nombres peuvent être représentés comme chaine"
   ]
  },
  {
   "cell_type": "code",
   "execution_count": 11,
   "metadata": {},
   "outputs": [
    {
     "data": {
      "text/plain": [
       "'123'"
      ]
     },
     "execution_count": 11,
     "metadata": {},
     "output_type": "execute_result"
    }
   ],
   "source": [
    "'123'"
   ]
  },
  {
   "cell_type": "markdown",
   "metadata": {},
   "source": [
    "Une opération mathématique représentée comme chaine n'est pas exécutée. Elle est retournée tel quel."
   ]
  },
  {
   "cell_type": "code",
   "execution_count": 12,
   "metadata": {},
   "outputs": [
    {
     "data": {
      "text/plain": [
       "'123 + 123'"
      ]
     },
     "execution_count": 12,
     "metadata": {},
     "output_type": "execute_result"
    }
   ],
   "source": [
    "'123 + 123'"
   ]
  },
  {
   "cell_type": "markdown",
   "metadata": {},
   "source": [
    "Ces deux nombres (représenté sous forme de chaîne) sont concatenés et non pas additionnés."
   ]
  },
  {
   "cell_type": "code",
   "execution_count": 13,
   "metadata": {},
   "outputs": [
    {
     "data": {
      "text/plain": [
       "'123123'"
      ]
     },
     "execution_count": 13,
     "metadata": {},
     "output_type": "execute_result"
    }
   ],
   "source": [
    "'123' + '123'"
   ]
  },
  {
   "cell_type": "markdown",
   "metadata": {},
   "source": [
    "Ce nombre (représenté sour forme de chaîne) est répété et non pas multiplié."
   ]
  },
  {
   "cell_type": "code",
   "execution_count": 14,
   "metadata": {},
   "outputs": [
    {
     "data": {
      "text/plain": [
       "'123123123123123123123123123123123123'"
      ]
     },
     "execution_count": 14,
     "metadata": {},
     "output_type": "execute_result"
    }
   ],
   "source": [
    "'123' * 12"
   ]
  }
 ],
 "metadata": {
  "kernelspec": {
   "display_name": "Python 3",
   "language": "python",
   "name": "python3"
  },
  "language_info": {
   "codemirror_mode": {
    "name": "ipython",
    "version": 3
   },
   "file_extension": ".py",
   "mimetype": "text/x-python",
   "name": "python",
   "nbconvert_exporter": "python",
   "pygments_lexer": "ipython3",
   "version": "3.8.5"
  }
 },
 "nbformat": 4,
 "nbformat_minor": 4
}
