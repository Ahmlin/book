{
 "cells": [
  {
   "cell_type": "markdown",
   "metadata": {},
   "source": [
    "# Variables et expressions \n",
    "\n",
    "Les variables sont des places dans la mémoire de l'ordinateur pour stoquer des objets. Ces objets peuvent être:\n",
    "\n",
    "- des nombres\n",
    "- des caractères\n",
    "- des valeurs booléennes (Vrai/Faux)"
   ]
  },
  {
   "cell_type": "markdown",
   "metadata": {},
   "source": [
    "## Affectation \n",
    "\n",
    "Une variable est caractérisé par \n",
    "\n",
    "- un nom de variable\n",
    "- une valeur\n",
    "- un type\n",
    "\n",
    "On appelle **affectation** l'instruction d'associer une valeur à un nom de variable. \n",
    "Par exemple l'expression suivante associe 123 à la variable **x**."
   ]
  },
  {
   "cell_type": "code",
   "execution_count": 1,
   "metadata": {},
   "outputs": [],
   "source": [
    "x = 123"
   ]
  },
  {
   "cell_type": "markdown",
   "metadata": {},
   "source": [
    "Par la suite, nous pouvons utiliser la variable `x` dans une expression mathématique, tel que"
   ]
  },
  {
   "cell_type": "code",
   "execution_count": 3,
   "metadata": {},
   "outputs": [
    {
     "data": {
      "text/plain": [
       "(125, 246, 15129)"
      ]
     },
     "execution_count": 3,
     "metadata": {},
     "output_type": "execute_result"
    }
   ],
   "source": [
    "x+2, x*2, x**2"
   ]
  },
  {
   "cell_type": "markdown",
   "metadata": {},
   "source": [
    "À n'importe quel moment la variable peut être réaffecté, et donc changer de valeur."
   ]
  },
  {
   "cell_type": "code",
   "execution_count": 4,
   "metadata": {},
   "outputs": [],
   "source": [
    "x = 100"
   ]
  },
  {
   "cell_type": "markdown",
   "metadata": {},
   "source": [
    "Dorénavant une expression sera évalué avec cette nouvelle valeur. Par exemple:"
   ]
  },
  {
   "cell_type": "code",
   "execution_count": 5,
   "metadata": {},
   "outputs": [
    {
     "data": {
      "text/plain": [
       "(102, 200, 10000)"
      ]
     },
     "execution_count": 5,
     "metadata": {},
     "output_type": "execute_result"
    }
   ],
   "source": [
    "x+2, x*2, x**2"
   ]
  },
  {
   "cell_type": "markdown",
   "metadata": {},
   "source": [
    "### Affectation multiple\n",
    "\n",
    "Python permet d'affecter plusieurs variables sur une même ligne."
   ]
  },
  {
   "cell_type": "code",
   "execution_count": 8,
   "metadata": {},
   "outputs": [
    {
     "name": "stdout",
     "output_type": "stream",
     "text": [
      "10 20 30\n"
     ]
    }
   ],
   "source": [
    "a, b, c = 10, 20, 30\n",
    "print(a, b, c)"
   ]
  },
  {
   "cell_type": "markdown",
   "metadata": {},
   "source": [
    "### Échange de valeurs\n",
    "\n",
    "L'affectation multiple est une manière élégante d'échanger deux valeurs"
   ]
  },
  {
   "cell_type": "code",
   "execution_count": 9,
   "metadata": {},
   "outputs": [
    {
     "name": "stdout",
     "output_type": "stream",
     "text": [
      "20 10\n"
     ]
    }
   ],
   "source": [
    "a, b = b, a\n",
    "print(a, b)"
   ]
  },
  {
   "cell_type": "markdown",
   "metadata": {},
   "source": [
    "## Fonction input() \n",
    "\n",
    "La fonction `input()` permet de demander une valeur d'entrée à l'utilisateur. Il est d'usage de stocker la valeur inscrite par l'utilisateur dans une variable.\n",
    "\n",
    "    nombre = input('Nombre à doubler: ')\n",
    "    print(nombre * 2)\n",
    "    \n",
    "Le résultat affiché dans la console\n",
    "\n",
    "    Nombre à doubler: 6\n",
    "    12"
   ]
  },
  {
   "cell_type": "markdown",
   "metadata": {},
   "source": [
    "## Valeur, expression et instruction\n",
    "\n",
    "Une **valeur** est une quantité de base. Comme exemple nous pouvons donner:\n",
    "\n",
    "- `1` - un nombre entier\n",
    "- `1.2` - un nombre à virgule flottante\n",
    "- `'abc'` - une chaîne de caractères\n",
    "\n",
    "Des valeurs, des opérateurs mathématiques et des parenthèses peuvent former une **expression**. Une expression est évaluée et le résultat de cette évaluation donne une valeur. L'évaluation de l'expression ci-dessous retourne 21."
   ]
  },
  {
   "cell_type": "code",
   "execution_count": 3,
   "metadata": {},
   "outputs": [
    {
     "data": {
      "text/plain": [
       "21"
      ]
     },
     "execution_count": 3,
     "metadata": {},
     "output_type": "execute_result"
    }
   ],
   "source": [
    "(1 + 2) * (3 + 4)"
   ]
  },
  {
   "cell_type": "markdown",
   "metadata": {},
   "source": [
    "En Python il y deux types d'instruction: \n",
    "- affectation\n",
    "- fonction\n",
    "\n",
    "Voici"
   ]
  },
  {
   "cell_type": "code",
   "execution_count": 4,
   "metadata": {},
   "outputs": [
    {
     "name": "stdout",
     "output_type": "stream",
     "text": [
      "3\n"
     ]
    }
   ],
   "source": [
    "x = 1 + 2\n",
    "print(x)"
   ]
  },
  {
   "cell_type": "markdown",
   "metadata": {},
   "source": [
    "## Types "
   ]
  },
  {
   "cell_type": "markdown",
   "metadata": {},
   "source": [
    "## Noms de variables (mots-clés) "
   ]
  },
  {
   "cell_type": "markdown",
   "metadata": {},
   "source": [
    "## Exercices"
   ]
  },
  {
   "cell_type": "markdown",
   "metadata": {},
   "source": [
    "### Ex\n",
    "Sans utiliser l'ordinarteur, quelles vont être les 5 valeurs affichées par ce programme ? (si les fonctions print n'avaient pas été en commentaire)"
   ]
  },
  {
   "cell_type": "code",
   "execution_count": 3,
   "metadata": {},
   "outputs": [],
   "source": [
    "a = 23\n",
    "b = \"hello\"\n",
    "c = 2\n",
    "# print(a + 5)\n",
    "# print(a - 1)\n",
    "a = a + c\n",
    "# print(a)\n",
    "c = c + a\n",
    "# print(c)\n",
    "# print(b + a)"
   ]
  },
  {
   "cell_type": "markdown",
   "metadata": {},
   "source": [
    "### Ex\n",
    "Faire un programme qui demande son nom à l'utilisateur et qui retourne la phrase suivante:\n",
    "Bonjour, *'nom de l'utilisateur'* avez-vous passé une bonne journée ?"
   ]
  },
  {
   "cell_type": "markdown",
   "metadata": {},
   "source": [
    "### Ex\n",
    "Faire un programme qui demande la hauteur et le diamètre d'un cylindre à l'utilisateur et qui retourne le volume du cylindre avec une phrase réponse."
   ]
  },
  {
   "cell_type": "markdown",
   "metadata": {},
   "source": [
    "### Ex\n",
    "Faire un programme qui permet de faire un cadavre-exquis. Le premier utilisateur doit mettre un sujet, le 2e un verbe, le 3e un complément d'objet directe, le 4e un complément d'objet indirecte et le dernier un groupe permutable."
   ]
  }
 ],
 "metadata": {
  "kernelspec": {
   "display_name": "Python 3",
   "language": "python",
   "name": "python3"
  },
  "language_info": {
   "codemirror_mode": {
    "name": "ipython",
    "version": 3
   },
   "file_extension": ".py",
   "mimetype": "text/x-python",
   "name": "python",
   "nbconvert_exporter": "python",
   "pygments_lexer": "ipython3",
   "version": "3.8.5"
  }
 },
 "nbformat": 4,
 "nbformat_minor": 4
}
