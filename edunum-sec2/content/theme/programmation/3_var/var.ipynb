{
 "cells": [
  {
   "cell_type": "markdown",
   "metadata": {},
   "source": [
    "# Variables et expressions \n",
    "\n",
    "Les variables sont des places dans la mémoire de l'ordinateur pour stocker des objets. Ces objets peuvent être:\n",
    "\n",
    "- des nombres\n",
    "- des caractères\n",
    "- des valeurs booléennes (Vrai/Faux)"
   ]
  },
  {
   "cell_type": "markdown",
   "metadata": {},
   "source": [
    "## Affectation \n",
    "\n",
    "Une variable est caractérisée par \n",
    "\n",
    "- un nom de variable\n",
    "- une valeur\n",
    "- un type\n",
    "\n",
    "On appelle **affectation** l'instruction d'associer une valeur à un nom de variable. \n",
    "Par exemple l'expression suivante associe 123 à la variable **x**."
   ]
  },
  {
   "cell_type": "code",
   "execution_count": 1,
   "metadata": {},
   "outputs": [],
   "source": [
    "x = 123"
   ]
  },
  {
   "cell_type": "markdown",
   "metadata": {},
   "source": [
    "Par la suite, nous pouvons utiliser la variable `x` dans une expression mathématique, tel que"
   ]
  },
  {
   "cell_type": "code",
   "execution_count": 2,
   "metadata": {},
   "outputs": [
    {
     "data": {
      "text/plain": [
       "(125, 246, 15129)"
      ]
     },
     "execution_count": 2,
     "metadata": {},
     "output_type": "execute_result"
    }
   ],
   "source": [
    "x+2, x*2, x**2"
   ]
  },
  {
   "cell_type": "markdown",
   "metadata": {},
   "source": [
    "À n'importe quel moment la variable peut être réaffectée, et donc changer de valeur."
   ]
  },
  {
   "cell_type": "code",
   "execution_count": 3,
   "metadata": {},
   "outputs": [],
   "source": [
    "x = 100"
   ]
  },
  {
   "cell_type": "markdown",
   "metadata": {},
   "source": [
    "Dorénavant une expression sera évaluée avec cette nouvelle valeur. Par exemple:"
   ]
  },
  {
   "cell_type": "code",
   "execution_count": 4,
   "metadata": {},
   "outputs": [
    {
     "data": {
      "text/plain": [
       "(102, 200, 10000)"
      ]
     },
     "execution_count": 4,
     "metadata": {},
     "output_type": "execute_result"
    }
   ],
   "source": [
    "x+2, x*2, x**2"
   ]
  },
  {
   "cell_type": "markdown",
   "metadata": {},
   "source": [
    "### Affectation multiple\n",
    "\n",
    "Python permet d'affecter plusieurs variables sur une même ligne."
   ]
  },
  {
   "cell_type": "code",
   "execution_count": 5,
   "metadata": {},
   "outputs": [
    {
     "name": "stdout",
     "output_type": "stream",
     "text": [
      "10 20 30\n"
     ]
    }
   ],
   "source": [
    "a, b, c = 10, 20, 30\n",
    "print(a, b, c)"
   ]
  },
  {
   "cell_type": "markdown",
   "metadata": {},
   "source": [
    "### Échange de valeurs\n",
    "\n",
    "L'affectation multiple est une manière élégante d'échanger deux valeurs"
   ]
  },
  {
   "cell_type": "code",
   "execution_count": 6,
   "metadata": {},
   "outputs": [
    {
     "name": "stdout",
     "output_type": "stream",
     "text": [
      "20 10\n"
     ]
    }
   ],
   "source": [
    "a, b = b, a\n",
    "print(a, b)"
   ]
  },
  {
   "cell_type": "markdown",
   "metadata": {},
   "source": [
    "## Fonction input() \n",
    "\n",
    "La fonction `input()` permet de demander une valeur d'entrée à l'utilisateur. Il est d'usage de stocker la valeur inscrite par l'utilisateur dans une variable.\n",
    "\n",
    "    nombre = input('Nombre à doubler: ')\n",
    "    print(nombre * 2)\n",
    "    \n",
    "Le résultat affiché dans la console\n",
    "\n",
    "    Nombre à doubler: 6\n",
    "    12"
   ]
  },
  {
   "cell_type": "markdown",
   "metadata": {},
   "source": [
    "## Valeur, expression et instruction\n",
    "\n",
    "Une **valeur** est une quantité élémentaire. Comme exemple nous pouvons donner:\n",
    "\n",
    "- `1` - un nombre entier\n",
    "- `1.2` - un nombre à virgule flottante\n",
    "- `'abc'` - une chaîne de caractères\n",
    "\n",
    "Des valeurs, des opérateurs mathématiques et des parenthèses peuvent former une **expression**. Une expression est évaluée et le résultat de cette évaluation donne une valeur. L'évaluation de l'expression ci-dessous retourne 21."
   ]
  },
  {
   "cell_type": "code",
   "execution_count": 7,
   "metadata": {},
   "outputs": [
    {
     "data": {
      "text/plain": [
       "21"
      ]
     },
     "execution_count": 7,
     "metadata": {},
     "output_type": "execute_result"
    }
   ],
   "source": [
    "(1 + 2) * (3 + 4)"
   ]
  },
  {
   "cell_type": "markdown",
   "metadata": {},
   "source": [
    "En Python il y deux types d'instruction: \n",
    "- affectation\n",
    "- fonction\n",
    "\n",
    "Voici"
   ]
  },
  {
   "cell_type": "code",
   "execution_count": 8,
   "metadata": {},
   "outputs": [
    {
     "name": "stdout",
     "output_type": "stream",
     "text": [
      "3\n"
     ]
    }
   ],
   "source": [
    "x = 1 + 2\n",
    "print(x)"
   ]
  },
  {
   "cell_type": "markdown",
   "metadata": {},
   "source": [
    "## Types\n",
    "\n",
    "Python traite chaque catégorie d'objet de façon différente. Un nombre et une chaine de texte ne seront pas traités de la même façon.\n",
    "\n",
    "Chaque objet a un type spécifique. La fonction `type()` nous retourne le type d'un objet.\n",
    "\n",
    "Par exemple l'objet `123` est un nombre entier, désigné par `int` qui vient de l'anglais **integer**."
   ]
  },
  {
   "cell_type": "code",
   "execution_count": 9,
   "metadata": {},
   "outputs": [
    {
     "data": {
      "text/plain": [
       "int"
      ]
     },
     "execution_count": 9,
     "metadata": {},
     "output_type": "execute_result"
    }
   ],
   "source": [
    "type(123)"
   ]
  },
  {
   "cell_type": "markdown",
   "metadata": {},
   "source": [
    "L'expression `'123'` par contre est une chaîne de caractère. Son type est `str` qui vient de l'anglais **string**."
   ]
  },
  {
   "cell_type": "code",
   "execution_count": 10,
   "metadata": {},
   "outputs": [
    {
     "data": {
      "text/plain": [
       "str"
      ]
     },
     "execution_count": 10,
     "metadata": {},
     "output_type": "execute_result"
    }
   ],
   "source": [
    "type('123')"
   ]
  },
  {
   "cell_type": "markdown",
   "metadata": {},
   "source": [
    "Les objets `123` et `'123'` sont traités de façon différente dans une expression."
   ]
  },
  {
   "cell_type": "code",
   "execution_count": 11,
   "metadata": {},
   "outputs": [
    {
     "data": {
      "text/plain": [
       "(246, '123123')"
      ]
     },
     "execution_count": 11,
     "metadata": {},
     "output_type": "execute_result"
    }
   ],
   "source": [
    "123 * 2, '123' * 2"
   ]
  },
  {
   "cell_type": "markdown",
   "metadata": {},
   "source": [
    "Les autres types que nous avons vus sont:\n",
    "- nombre à virgule flottante (`float`)\n",
    "- valeurs booléennes (`bool`)"
   ]
  },
  {
   "cell_type": "code",
   "execution_count": 12,
   "metadata": {},
   "outputs": [
    {
     "data": {
      "text/plain": [
       "float"
      ]
     },
     "execution_count": 12,
     "metadata": {},
     "output_type": "execute_result"
    }
   ],
   "source": [
    "type(1.23)"
   ]
  },
  {
   "cell_type": "code",
   "execution_count": 13,
   "metadata": {},
   "outputs": [
    {
     "data": {
      "text/plain": [
       "(bool, bool)"
      ]
     },
     "execution_count": 13,
     "metadata": {},
     "output_type": "execute_result"
    }
   ],
   "source": [
    "type(True), type(3>2)"
   ]
  },
  {
   "cell_type": "markdown",
   "metadata": {},
   "source": [
    "## Nom d'une variable\n",
    "\n",
    "Le nom d'une variable est sensible à la casse (minuscules/majuscules).  \n",
    "Donc `a` et `A` sont deux variables différentes. "
   ]
  },
  {
   "cell_type": "code",
   "execution_count": 14,
   "metadata": {},
   "outputs": [],
   "source": [
    "A = 33"
   ]
  },
  {
   "cell_type": "markdown",
   "metadata": {},
   "source": [
    "Les deux variables ont des valeurs différentes."
   ]
  },
  {
   "cell_type": "code",
   "execution_count": 15,
   "metadata": {},
   "outputs": [
    {
     "data": {
      "text/plain": [
       "(20, 33)"
      ]
     },
     "execution_count": 15,
     "metadata": {},
     "output_type": "execute_result"
    }
   ],
   "source": [
    "a, A"
   ]
  },
  {
   "cell_type": "markdown",
   "metadata": {},
   "source": [
    "Le nom d'une variable (ou d'une fonction) est composé\n",
    "\n",
    "- de lettres (majuscule ou minuscule)\n",
    "- du tiret bas `_`\n",
    "- de chiffres (sauf pour le premier caractère)\n",
    "\n",
    "Sont interdit\n",
    "- les mots-clés (`if`, `else`, ...)\n",
    "- tout autre caractère spécial (`* + % & $ - / ?`)\n",
    "\n",
    "Correct: `a2`, `_a`, `speed`, `pos_x`, `POS_X`\n",
    "\n",
    "Incorrect:\n",
    "- `2var` (commence avec un chiffre)\n",
    "- `if` (correspond à un mot-clé)\n",
    "- `var$2` (contient un caractère spécial)"
   ]
  },
  {
   "cell_type": "markdown",
   "metadata": {},
   "source": [
    "## Exercices\n",
    "Faites ces exercices dans l'éditeur de script, et non plus dans la console."
   ]
  },
  {
   "cell_type": "markdown",
   "metadata": {},
   "source": [
    "### Ex\n",
    "Sans utiliser l'ordinateur, que va être affiché par les 5 instructions `print` dans ce programme ?\n",
    "\n",
    "    a = 23\n",
    "    b = \"hello\"\n",
    "    c = 2\n",
    "    print(a + 5)\n",
    "    print(a - 1)\n",
    "    a = a + c\n",
    "    print(a)\n",
    "    c = c + a\n",
    "    print(c)\n",
    "    print(b + a)"
   ]
  },
  {
   "cell_type": "markdown",
   "metadata": {},
   "source": [
    "### Ex\n",
    "Faites un programme qui demande le **prénom** de l'utilisateur et qui retourne la phrase suivante:\n",
    "    \n",
    "Bonjour, **prénom**, avez-vous passé une bonne journée ?"
   ]
  },
  {
   "cell_type": "markdown",
   "metadata": {},
   "source": [
    "### Ex\n",
    "Faites un programme qui demande à l'utilisateur la hauteur et le diamètre d'un cylindre et retourne le volume du cylindre avec une phrase réponse."
   ]
  },
  {
   "cell_type": "markdown",
   "metadata": {},
   "source": [
    "### Ex\n",
    "Faites un programme qui permet de faire un jeu d'écriture collectif (cadavre exquis). \n",
    "\n",
    "- Le premier utilisateur doit proposer un sujet, \n",
    "- le 2e un verbe, \n",
    "- le 3e un complément d'objet direct (COD), \n",
    "- le 4e un complément d'objet indirect (COI), \n",
    "- le dernier un groupe permutable."
   ]
  },
  {
   "cell_type": "code",
   "execution_count": null,
   "metadata": {},
   "outputs": [],
   "source": []
  }
 ],
 "metadata": {
  "kernelspec": {
   "display_name": "Python 3",
   "language": "python",
   "name": "python3"
  },
  "language_info": {
   "codemirror_mode": {
    "name": "ipython",
    "version": 3
   },
   "file_extension": ".py",
   "mimetype": "text/x-python",
   "name": "python",
   "nbconvert_exporter": "python",
   "pygments_lexer": "ipython3",
   "version": "3.7.9"
  },
  "toc-autonumbering": false
 },
 "nbformat": 4,
 "nbformat_minor": 4
}
