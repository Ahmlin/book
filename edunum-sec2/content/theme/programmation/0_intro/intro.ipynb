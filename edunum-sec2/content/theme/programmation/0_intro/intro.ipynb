{
 "cells": [
  {
   "cell_type": "markdown",
   "metadata": {},
   "source": [
    "# Introduction à l'informatique\n",
    "\n",
    "L'informatique est la science qui traite de la **représentation et du traitement automatique de l'information** par des machines. Ces machines peuvent être basé sur un fonctionnement \n",
    "\n",
    "- mécano-chimique (code génétique)\n",
    "- électro-chimique (système nerveux)\n",
    "- électronique (ordinateur moderne)\n",
    "\n",
    "![dna](dna.jpg)\n",
    "\n",
    "Ce qui est absolument fantastique est ceci: quand vous êtes en train de lire une information sur votre smartphone:\n",
    "\n",
    "1. vous avez devant vous un **machine electronique**\n",
    "1. vous utilisez votre cerveau, qui est un **machine biologique**\n",
    "1. votre corps est constitué de 30 billiards de cellules qui contiennent des **machines moléculaires** qui lisent et exécutent votre code génétique en permanence.\n",
    "\n",
    "La quantité total d'information dans toutes les cellules d'un corps humain est de 45 Zo (zetta-octets). Ceci est l'équivalent de toutes les données produites au niveau mondial dans l'année 2019. "
   ]
  },
  {
   "cell_type": "markdown",
   "metadata": {},
   "source": [
    "## Le traitement de l'information\n",
    "\n",
    "Le traitement automatique de l'information n'est pas quelque chose de nouveau, né avec nos ordinateurs modernes. Il existe depuis des milliards d'années. Ce qui est essentiel est:\n",
    "\n",
    "- un **code**\n",
    "- une **machine** pour executer ce code\n",
    "\n",
    "Nous allons voir l'évolution des procéssus du traitement de l'information au niveau de l'évolution sur terre avec l'apparition:\n",
    "\n",
    "- code génétique - 3.6 millards d'années\n",
    "- système nerveux - 500 millions d'anées\n",
    "- langage naturel - 100'000 années\n",
    "- langage écrit - 5000 ans\n",
    "- impression - 500 ans\n",
    "- informatique moderne - 100 ans"
   ]
  },
  {
   "cell_type": "markdown",
   "metadata": {},
   "source": [
    "## Le code génétique\n",
    "La nature elle-même a dévolopé un langage de représentation d'information et de description de processus. Ce sont le code génétique et la machinerie cellulaire capable de lire ce code et de l'executer. On estime que ces premiers micro-organismes (procaryotes) sont apparue sur terre il y 3.6 millards d'années.\n",
    "\n",
    "![cell](first_cell.png)\n",
    "\n",
    "Physiquement, le code génétique est une chaine composé de 4 molécules que nous nommons **A, C, G et T**. Les noms que nous leurs donnons est complètement arbitraire. Nous avons donc un support physique, ces longues chaines moléculaire, qui sont constitué de quelques milliers de molécules dans les organismes simples, jusqu'à quelques milliards de molécules chez l'humain.\n",
    "\n",
    "Une des fonctions essentielles sont la réplication de code, qui est rendu possible par les double-chaines complémentaires. Les molécules A ont une affinité pour les T, et les G pour les C. Une chaine ACGT aura comme complément TGCA.\n",
    "\n",
    "Le code génétique a **une signification** et il possède une **machinerie pour le lire et executer**. La signification se présente sous forme d'un système hiérarchique. Au plus bas niveau, des chaines de trois lettres que nous appelons triplets forment des mots. Par exemple la séquence CAT représente l'acide aminé glutamine. D'ailleur la représentation de cette molécule avec le langage symbolique à la chimie est celui-ci:\n",
    "\n",
    "![glutamine](glutamine.png)\n",
    "\n",
    "Ces mots (triplets) designent une vingtaine d'acides aminés différentes. Des séquence d'acide aminés forment des protéines. La machine moléculaire capable de lire le code génétique est d'en exécuter la première étape de son interprétation sont les **ribosomes**. C'est eux qui \n",
    "\n",
    "- lisent le code génétique\n",
    "- assemblent des protéines (à partir d'acides aminés)\n",
    "\n",
    "Les ribosomes sont des machines moléculaires (mécano-éléctro-chimique) qui sont eux-même construit de protéines. Ils sont la première étape d'un **procéssus hiérarchique d'auto-construction**.\n",
    "\n",
    "Au cours de l'évolution naturelle le code génétique a subi des légères variation que nous appelons **mutations**. Ces modifications aléatoire du code informatique, avec une séléction naturelle des solutions les plus adaptés à la survie, a mené au code génétique que nous trouvons actuellement dans tous les organismes sur notre planète."
   ]
  },
  {
   "cell_type": "markdown",
   "metadata": {},
   "source": [
    "## Le systèmes nerveux\n",
    "\n",
    "Si le code génétique existe depuis 3.6 milliards d'années, le système nerveux est bien plus récent, faisant son apparence il y a 500 millions d'années.\n",
    "\n",
    "C'est un systèmes composée de quelques centaines de cellules chez des organismes simples, jusq'à  une centaine de milliards de neurones chez l'humain.\n",
    "\n",
    "Le système nerveaux traite des informations provenant des capteurs sensorielles (chimique, mécanique, lumière) pour produire des actions. Dans des organismes simple, des capteurs chimiques peuvent leur permettre de se diriger vers la nourriture, ou de se déplacer et chercher un environnement plus propice à leur survie.\n",
    "\n",
    "La composante de base d'un système nerveux est **le neurone**, un type de cellule spécialisé qui peut:\n",
    "- former des **connexions** avec d'autres neurones\n",
    "- transmettre des **signaux** électriques et chimiques\n",
    "\n",
    "![neuron](synapse.jpg)\n",
    "\n",
    "Si le ribosome est un **système linéaire**, qui lit le code génétique d'un point de départ vers sa fin et produit une protéine, en ajoutant un élément à la fois, le système nerveaux est beaucoup plus complèxe. Nous sommes face à un réseau interconnecté ou les informations peuvent circuler de façon complexe, et simultanémant dans tous ses neurones. Le système nerveux est un **système de calcul en parallèle**.\n",
    "\n",
    "Le *code* qui décrit le comportement du cervaux n'est pas du tout évident. Il n'est **pas localisé dans une séquence linéare** comme dans le code génétique.\n",
    "Bien sur, la forme du neurone, sa composition, son comportement éléctro-chimique, etc. sont tout décrit dans le code génétique de chaque neurone. Le code génétique dirige aussi dans une certaine forme la formation du réseaux d'interconnexions.\n",
    "\n",
    "Mais ensuite **c'est le résaux lui-même**, avec des neurones qui font des nouvelles connexions avec certains neurones, mais pas avec d'autres, qui détermine le comportement global du cerveau.\n",
    "\n",
    "L'information traverse le système nerveux sous deux formes:\n",
    "\n",
    "- des **potentiels d'actions** (signaux électriques)\n",
    "- des **neurotransmetteurs** (signaux chimiques)\n",
    "\n",
    "Les points de contact entre neurones sont appelé **synapses**. Ils sont :\n",
    "\n",
    "- unidirectionnels (on parle de neuron pré- et post-synaptic)\n",
    "- peuvent être de type inhibiteur ou activateur\n",
    "- peuvent varier en intensité au cours du temps\n",
    "\n",
    "Le fait que la force des interconnections (**poids synaptique peut varier**) peut varier au cours du temps sont la base pour:\n",
    "\n",
    "- l'apprentissage \n",
    "- la mémoire"
   ]
  },
  {
   "cell_type": "markdown",
   "metadata": {},
   "source": [
    "## Le langage naturel\n",
    "\n",
    "Un **langage naturel**, ou langage ordinaire, est un langage parlé par un être humain. Il s'oppose au **langage formel**, tel que le langage informatique ou le formalisme en mathématique.\n",
    "\n",
    "Le langage naturel est apparue entre 200'000 et 50'000 ans avant notre ère. \n",
    "On pense que les prémières langues étaient gestuelles et n'avait pas de syntaxes. D'autres théories présument que le **protolangage de l'homme de Néanderthal** était chanté.\n",
    "\n",
    "En 1998 on a découvert que le **gène FOXP2** (la protéine Forkhead-Box P2) donc une partie spécifique du **code génétique**, serait très important pour la transmission du langage et les capacités grammaticales.\n",
    "\n",
    "![foxp2](FOXP2.png)\n",
    "\n",
    "Des études du cerveau nous permet de localiser les régions responsable pour la perception et la production du langage. Ce sont les **aires de Broca** et l'**aire de Wernicke**.\n",
    "\n",
    "Les langues naturelles, tel que le français et l'anglais ont évolué au cours de plusieurs milliers d'année."
   ]
  },
  {
   "cell_type": "markdown",
   "metadata": {},
   "source": [
    "## Le langage écrit\n",
    "\n",
    "L'écriture est un moyen de communication et de stockage d'information à travers l'inscription de symboles sur un support. Par rapport au langage parlé le langage écrit permet:\n",
    "\n",
    "- la communication entre individus distants (la lettre)\n",
    "- le stockage d'information (le livre)\n",
    "\n",
    "Le plus ancien système d'écriture sont les **glyphes du peuple des Maya**, vieux d'environs 5000 ans. Lors de la conquête espagnole au 16e siècle, il existait de nombreux livres semblables qui furent par la suite détruits sur une large échelle par les conquistadors et les prêtres.\n",
    "\n",
    "![Maya](maya.jpg)\n",
    "\n",
    "D'autres systèmes d'écritures ont été dévelopé à peu près dans la même période:\n",
    "\n",
    "- l'écriture cunéiformes des Sumériens en Mésopotamie \n",
    "- les hiéroglyphes égyptiens en Egypte\n",
    "\n",
    "Le premer véritable alphabet est l'**alphabet grec**. L'**alphabet latin** en est un déscendant direct.\n",
    "C'est le système d'écriture le plus utilisée dans le monde d'aujourd'hui.\n",
    "\n",
    "L'alphabet latin s'écrit avec 26 **lettres** ou symboles, qui représentent des phonèmes de la langue parlé. Ces lettres sont combiné en séquences que nous appelons des **mots**. Les mots sont porteur de sens. Ils font référence à des objets, des catégories et des idées. Les mots, séparé par des espaces, sont composé pour former des **phrases**. Les phrases expriment des relations entre des objets, pouvant par exemple décrire une sitation. Les phrases sont délimités par un autre ensemble de symboles que nous appelons **symboles de ponctuation**.\n",
    "\n",
    "Dans un livre, plusieurs phrasese forment des **paragraphes**, qui permettent de formuler une idée. Multiple paragraphes forment un **chapitre**. Multiple chapitres finalament peuvent former un **livre**, qui represente une collection exhaustive sur un sujet particulier ou une narration complexe.\n",
    "\n",
    "On peut aller même plus loins: des collection de livres forment des **bibliothèques**, et l'ensemble des bibliothèques forment le répositioire litéraire mondiale. \n",
    "\n",
    "Nous avons donc un **système hiérarchique** pour la représentation de l'information en langage naturel composé de: lettres, mots, phrases, paragraphes, chapitres, etc."
   ]
  },
  {
   "cell_type": "markdown",
   "metadata": {},
   "source": [
    "## L'invention de l'impression\n",
    "\n",
    "Vers 1450, Johannes Gutenberg, a inventé est mis au point une presse, avec des caractères mobiles en plomb, et de l'encre grasse qui permet de reproduire des pages de texte en très grande quantité. \n",
    "\n",
    "Bien que, les caractères mobiles on été inventé déjà auparavant en Chine et en Corée, l'invention de Gutenberg a déclenché une révolution de l'information. La diffusion rapide de l'information est devenu possible, permettant la diffusion rapide de\n",
    "\n",
    "- affiches\n",
    "- manifestes\n",
    "- journaux\n",
    "- livres\n",
    "\n",
    "![caractères mobiles](gutenberg.png)\n",
    "\n",
    "La **typographie** designe les différents procédes de composition et d'impression, dans un but esthétique et pratique."
   ]
  },
  {
   "cell_type": "markdown",
   "metadata": {},
   "source": [
    "## Les langages formels\n",
    "\n",
    "L'homme a égalament inventé d'autre système descriptifs telle que\n",
    "\n",
    "- le formalisme mathématique\n",
    "- la notation musicale\n",
    "- le symbolisme des réactions chimiques\n",
    "- les langages de programmation pour les ordinateurs\n",
    "\n",
    "Ces langages formelles sont bien décrites, ont leur grammaire, syntaxe, orthographe et lexique."
   ]
  },
  {
   "cell_type": "markdown",
   "metadata": {},
   "source": [
    "## Le langage informatique\n",
    "\n",
    "Un langage de programmation est une façon de dire à un ordinateur ce qu'il doit faire. D'une manière similaire à une langue naturelle, un langage informatique est composé de ceci :\n",
    "\n",
    "- un alphabet\n",
    "- un vocabulaire\n",
    "- une grammaire\n",
    "- des significations\n",
    "\n",
    "Un langage de programmation est avant tout compréhensible pour les humains. Il est facilement compréhensible à un *programmeur*\" et peut être partagé dans une communité de developpeurs.\n",
    "\n",
    "Le langage de programmation est un langage de *haut-niveau* qui n'est pas directement compréhensible par l'ordinateur. Il doit être traduit d'abord en langage machine, langage de *bas-niveau* à l'aide d'un compilateur ou d'un interpréteur.\n",
    "\n",
    "Un **compilateur** traduit le programme source (de haut-niveau) en langage machine d'un seul coup. Le processus peut être assimilé à la traduction d'un livre.\n",
    "\n",
    "Un **interpréteur** traduit le programme ligne par ligne, en temps nécessaire. Le code machine produit n'est pas sauvegardé. Le processus peut être assimilé à un interprête humain, qui traduit une conversion entre deux individus."
   ]
  },
  {
   "cell_type": "markdown",
   "metadata": {},
   "source": [
    "## Le langage machine\n",
    "\n",
    "Le langage machine est composé d'instructions directement compréhensible par le processeur. Ce sont des instructions de base du type:\n",
    "\n",
    "- chargeur une valeur depuis la mémoire (LDA = load accumulator)\n",
    "- mémoriser une valeur vers la mémoire (STA = store accumulator)\n",
    "- faire une opération mathématique de base (ADD, SUB, MUL)\n",
    "- faire une opération logique de base (NOT, AND, OR)\n",
    "- sauter vers un autre endroit dans le programme (JMP)\n",
    "\n",
    "![assembleur](assembleur.png)\n",
    "\n",
    "Dans l'image en-dessus, la première colonne représente l'adresse, la deuxième le code machine, compréhensible par le processeur, et la troisième colonne une representation mnémonique appelé **langage d'assembleur**, compréhensible par l'humain. Nous reconnaisson le code `86 13` qui indique au processeur de placer la valeur hexadécimale `13` dans l'accumulateur A (`LDA A #13`)."
   ]
  },
  {
   "cell_type": "code",
   "execution_count": null,
   "metadata": {},
   "outputs": [],
   "source": []
  }
 ],
 "metadata": {
  "kernelspec": {
   "display_name": "Python 3",
   "language": "python",
   "name": "python3"
  },
  "language_info": {
   "codemirror_mode": {
    "name": "ipython",
    "version": 3
   },
   "file_extension": ".py",
   "mimetype": "text/x-python",
   "name": "python",
   "nbconvert_exporter": "python",
   "pygments_lexer": "ipython3",
   "version": "3.7.4"
  },
  "toc-autonumbering": false
 },
 "nbformat": 4,
 "nbformat_minor": 4
}
