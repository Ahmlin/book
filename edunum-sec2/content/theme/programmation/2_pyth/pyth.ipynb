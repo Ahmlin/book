{
 "cells": [
  {
   "cell_type": "markdown",
   "metadata": {},
   "source": [
    "# Introduction à Python"
   ]
  },
  {
   "cell_type": "markdown",
   "metadata": {},
   "source": [
    "Python est un langage de programmation populaire. \n",
    "Il a été créé par un scientifique néerlandais, Guido van Rossum, en 1991.\n",
    "Le nom fait référence au fameux groupe d'humoristes anglais, les *Monty Python*."
   ]
  },
  {
   "cell_type": "markdown",
   "metadata": {},
   "source": [
    "![Monty phyton](https://media.giphy.com/media/RzKHvdYC3uds4/giphy.gif)  \n",
    "John Cleese des Monty Python dans le sketch *Ministery of Silly Walks*"
   ]
  },
  {
   "cell_type": "markdown",
   "metadata": {},
   "source": [
    "Un langage de programmation permet à un humain de décrire ce que doit faire un ordinateur. Tous les ordinateurs, smartphones et sites web fonctionnent grâce à des programmes.\n",
    "\n",
    "Le langage Python, comme la plupart des langages de programmation, est basé sur l'anglais. \n",
    "\n",
    "Pourquoi choisir ici Python?\n",
    "\n",
    "- Python est multiplateforme (Windows, Mac, Linux)\n",
    "- Python a une syntaxe simple et visuelle\n",
    "- Python est interprété et donne un résultat immédiat"
   ]
  },
  {
   "cell_type": "markdown",
   "metadata": {},
   "source": [
    "## Objectifs\n <!-- REVIEW/JPP: Je crois que ces objectifs ne sont pas liés seulement à cette page, si? -->",
    "\n",
    "- être capable de créer un programme dans un but précis\n",
    "- connaître les concepts transversaux des langages de programmation\n",
    "- pouvoir utiliser la programmation au service d'autres cours"
   ]
  },
  {
   "cell_type": "markdown",
   "metadata": {},
   "source": [
    "## Qu'est un programme ?\n",
    "Un **programme** est une séquence d'instructions pour faire quelque chose par un ordinateur. Par exemple:\n",
    "\n",
    "- faire un calcul mathématique\n",
    "- trier une liste de mots\n",
    "- résoudre une équation\n",
    "\n",
    "En général, un langage de programmation comporte ces 5 composants:\n<!-- REVIEW/JPP: le choix de ces 5 composants me semble arbitraire. Des programmes purement fonctionnels n'ont pas de boucle, par exemple. Pourquoi parler des opérations mathématiques et pas d'autres, par exemple sur du texte? -->",
    "\n",
    "- une entrée (clavier, fichier)\n",
    "- une sortie (écran, fichier)\n",
    "- des opérations mathématiques\n",
    "- des exécutions conditionnelles (if-else)\n",
    "- des répétitions (boucles)"
   ]
  },
  {
   "cell_type": "markdown",
   "metadata": {},
   "source": [
    "## Le premier programme\n",
    "\n",
    "Nous allons nous lancer de toute suite dans la programmation, avec un programme minimaliste d'une seule ligne. <!-- REVIEW/JPP: Serait-ce intéressant de migrer tous ces exemples vers le {codeplay} de Romain? Ce serait exécutable direct sur la page. -->"
   ]
  },
  {
   "cell_type": "code",
   "execution_count": 1,
   "metadata": {},
   "outputs": [
    {
     "name": "stdout",
     "output_type": "stream",
     "text": [
      "bonjour\n"
     ]
    }
   ],
   "source": [
    "print('bonjour')"
   ]
  },
  {
   "cell_type": "markdown",
   "metadata": {},
   "source": [
    "Ce premier programme afficher le mot *bonjour* sur console.\n",
    "\n",
    "Le programme consiste:\n",
    "\n",
    "- d'une fonction `print` qui affiche son argument <!-- REVIEW/JPP: on ne sait pas à ce stade ce qu'est un argument, il faudrait pouvoir le définir -->\n",
    "- des parenthèses `()` qui entourent l'argument\n",
    "- des guillemets `'...'` qui délimitent une <span commented>chaîne de texte</span><!-- REVIEW/JPP: une chaîne de caractères, ou du texte -->\n",
    "- du texte, `bonjour`, qui est délimité par des guillemets"
   ]
  },
  {
   "cell_type": "markdown",
   "metadata": {},
   "source": [
    "## L'éditeur (IDE)\n",
    "\n",
    "Pour éditer et exécuter du code Python, il vous faut un éditeur. L'éditeur **Thonny** est un outil idéal pour débuter. C'est un **IDE**, un environnement de développement intégré. Cela signifie qu'il contient <!-- REVIEW/JPP: n'étions-nous pas parti du principe qu'on ne parlait pas d'outils en particulier? Pourrait-on peut-être mettre ceci en pied de page comme info supplémentaire? -->\n",
    "\n",
    "- Un éditeur de script\n",
    "- Un interprétateur Python\n",
    "\n",
    "Les IDE présentent souvent trois régions dans leur fenêtre:\n",
    "\n",
    "- Une barre d'outils (Nouveau, Ouvrir, Exécuter)\n",
    "- L'editeur de script\n",
    "- La console\n",
    "\n",
    "![Thonny](img/thonny.png)\n",
    "\n",
    "Dans l'éditeur de script vous pouvez écrire des programmes complexes contenant des centaines de lignes. Après avoir été sauvegardé, le script sera exécuté avec un clic sur le bouton vert **Exécuter**.\n",
    "\n",
    "La console permet de rapidement exécuter et tester des expressions de façon interactive. Vous écrivez la commande Python sur la ligne avec l'invite `>>>` et vous exécutez avec la touche **Retour**.\n",
    "\n",
    "Le résultat apparaît sur la ligne suivante, et une nouvelle invite `>>>` est affichée."
   ]
  },
  {
   "cell_type": "markdown",
   "metadata": {},
   "source": [
    "## Opérations arithmétiques <!-- REVIEW/JPP: Il me manque un peu une mini-intro ici… Nous avons découvert une commande simple qui affiche un bout de texte dans la zone de résultat. Avec la plupart des langages de programmation, on manipule aussi facilement des nombres. Voyons comment, en Python, on effectue les opérations arithmétiques de base comme l'addition, la soustraction, la division et la multiplication.  -->"
   ]
  },
  {
   "cell_type": "code",
   "execution_count": 2,
   "metadata": {},
   "outputs": [
    {
     "data": {
      "text/plain": [
       "579"
      ]
     },
     "execution_count": 2,
     "metadata": {},
     "output_type": "execute_result"
    }
   ],
   "source": [
    "123 + 456"
   ]
  },
  {
   "cell_type": "markdown",
   "metadata": {},
   "source": [
    "Voici une multiplication:"
   ]
  },
  {
   "cell_type": "code",
   "execution_count": 3,
   "metadata": {},
   "outputs": [
    {
     "data": {
      "text/plain": [
       "56088"
      ]
     },
     "execution_count": 3,
     "metadata": {},
     "output_type": "execute_result"
    }
   ],
   "source": [
    "123 * 456"
   ]
  },
  {
   "cell_type": "markdown",
   "metadata": {},
   "source": [
    "La division utilise l'opérateur `/` et retourne un <span commented>nombre à virgule flottante</span><!-- REVIEW/JPP: ils ne savent pas ce que c'est --> comme résultat."
   ]
  },
  {
   "cell_type": "markdown",
   "metadata": {},
   "source": [
    "**NOTE**: En Python, les virgules pour les nombre doivent prendre la forme du point <!-- REVIEW/JPP: Proposition de reformulation: En Python, comme dans la plupart des langages de programmation, quand on indique un nombre à virgule, on sépare par un point et non par une virgule la partie entière de la partie décimale. -->"
   ]
  },
  {
   "cell_type": "code",
   "execution_count": 4,
   "metadata": {},
   "outputs": [
    {
     "data": {
      "text/plain": [
       "0.26973684210526316"
      ]
     },
     "execution_count": 4,
     "metadata": {},
     "output_type": "execute_result"
    }
   ],
   "source": [
    "123 / 456"
   ]
  },
  {
   "cell_type": "markdown",
   "metadata": {},
   "source": [
    "Dans une expression complexe, vous pouvez indiquer l'ordre d'exécution avec des parenthèses. <!-- REVIEW/JPP: Proposition d'ajout: Sans cela, les opérations sont effectuées selon la priorité des opérateurs, qui correspond en général à l'idée qu'on s'en ferait en utilisant que que l'on connaît de l'algèbre. Par exemple, ici, la multiplication est effectuée avant l'addition. -->Ici la multiplication est effectuée en premier."
   ]
  },
  {
   "cell_type": "code",
   "execution_count": 5,
   "metadata": {},
   "outputs": [
    {
     "data": {
      "text/plain": [
       "14"
      ]
     },
     "execution_count": 5,
     "metadata": {},
     "output_type": "execute_result"
    }
   ],
   "source": [
    "2 + 3 * 4"
   ]
  },
  {
   "cell_type": "markdown",
   "metadata": {},
   "source": [
    "Ici, l'addition est effectuée en premier grâce aux parenthèses."
   ]
  },
  {
   "cell_type": "code",
   "execution_count": 6,
   "metadata": {},
   "outputs": [
    {
     "data": {
      "text/plain": [
       "20"
      ]
     },
     "execution_count": 6,
     "metadata": {},
     "output_type": "execute_result"
    }
   ],
   "source": [
    "(2 + 3) * 4"
   ]
  },
  {
   "cell_type": "markdown",
   "metadata": {},
   "source": [
    "La mise à la puissance (aussi appelée _exponentiation_) utilise l'opérateur `**`. Cet exemple calcule donc $123^{456}$."
   ]
  },
  {
   "cell_type": "code",
   "execution_count": 7,
   "metadata": {},
   "outputs": [
    {
     "data": {
      "text/plain": [
       "99250068772098856700831462057469632637295940819886900519816298881382867104749399077921128661426144638055424236936271872492800352741649902118143819672601569998100120790496759517636465445895625741609866209900500198407153244604778968016963028050310261417615914468729918240685487878617645976939063464357986165711730976399478507649228686341466967167910126653342134942744851463899927487092486610977146112763567101672645953132196481439339873017088140414661271198500333255713096142335151414630651683065518784081203678487703002802082091236603519026256880624499681781387227574035484831271515683123742149095569260463609655977700938844580611931246495166208695540313698140011638027322566252689780838136351828795314272162111222231170901715612355701347552371530013693855379834865667060014643302459100429783653966913783002290784283455628283355470529932956051484477129333881159930212758687602795088579230431661696010232187390436601614145603241902386663442520160735566561"
      ]
     },
     "execution_count": 7,
     "metadata": {},
     "output_type": "execute_result"
    }
   ],
   "source": [
    "123 ** 456"
   ]
  },
  {
   "cell_type": "markdown",
   "metadata": {},
   "source": [
    "Ceci montre que les résultats des calculs en nombres entiers en Python ne sont pas limités en termes de nombres de chiffres nécessaires à la représentation de ces entiers: le nombre ci-dessus, par exemple, s'écrit avec 953 chiffres."
   ]
  },
  {
   "cell_type": "markdown",
   "metadata": {},
   "source": [
    "## La fonction print()"
   ]
  },
  {
   "cell_type": "markdown",
   "metadata": {},
   "source": [
    "La fonction `print()` affiche sur la sortie («imprime») ce qui se trouve entre les parenthèses. Cette fois, tous les résultats sont affichés."
   ]
  },
  {
   "cell_type": "code",
   "execution_count": 8,
   "metadata": {},
   "outputs": [
    {
     "name": "stdout",
     "output_type": "stream",
     "text": [
      "46\n",
      "0.35294117647058826\n",
      "408\n"
     ]
    }
   ],
   "source": [
    "print(12 + 34)\n",
    "print(12 / 34)\n",
    "print(12 * 34)"
   ]
  },
  {
   "cell_type": "markdown",
   "metadata": {},
   "source": [
    "La fonction `print()` peut aussi afficher du texte."
   ]
  },
  {
   "cell_type": "code",
   "execution_count": 9,
   "metadata": {},
   "outputs": [
    {
     "name": "stdout",
     "output_type": "stream",
     "text": [
      "bonjour\n"
     ]
    }
   ],
   "source": [
    "print('bonjour')"
   ]
  },
  {
   "cell_type": "code",
   "execution_count": 10,
   "metadata": {},
   "outputs": [
    {
     "name": "stdout",
     "output_type": "stream",
     "text": [
      "au revoir\n"
     ]
    }
   ],
   "source": [
    "print(\"au revoir\")"
   ]
  },
  {
   "cell_type": "markdown",
   "metadata": {},
   "source": [
    "En programmation, un tel morceau de texte s'appelle _chaîne de caractères_. En Python, on peut indiquer une chaîne de caractères aussi bien avec les guillemets anglais simples (`'...'`, aussi appelés apostrophes) que les guillemets anglais doubles (`\"...\"`).\n",
    "\n",
    "On utilise les guillemets simples quand la chaîne contient des guillemets doubles."
   ]
  },
  {
   "cell_type": "code",
   "execution_count": 11,
   "metadata": {},
   "outputs": [
    {
     "name": "stdout",
     "output_type": "stream",
     "text": [
      "le langage \"Python\" est puissant\n"
     ]
    }
   ],
   "source": [
    "print('le langage \"Python\" est puissant')"
   ]
  },
  {
   "cell_type": "markdown",
   "metadata": {},
   "source": [
    "On utilise les guillemets doubles quand la chaîne contient des guillemets simples ou des apostrophes."
   ]
  },
  {
   "cell_type": "code",
   "execution_count": 12,
   "metadata": {},
   "outputs": [
    {
     "name": "stdout",
     "output_type": "stream",
     "text": [
      "c'est intéressant\n"
     ]
    }
   ],
   "source": [
    "print(\"c'est intéressant\")"
   ]
  },
  {
   "cell_type": "markdown",
   "metadata": {},
   "source": [
    "Que faire si une chaîne contient à la fois des apostrophes et des guillemets doubles?\n",
    "\n",
    "Si la chaîne est délimité par des guillemets simples, il faut utiliser le symbole d'échappement `\\` (la barre oblique inversée, aussi appelée _backslash_) devant une apostrophe qui apparait à l'intérieur."
   ]
  },
  {
   "cell_type": "code",
   "execution_count": 13,
   "metadata": {},
   "outputs": [
    {
     "name": "stdout",
     "output_type": "stream",
     "text": [
      "c'est \"très\" cool\n"
     ]
    }
   ],
   "source": [
    "print('c\\'est \"très\" cool')"
   ]
  },
  {
   "cell_type": "markdown",
   "metadata": {},
   "source": [
    "Si une sous-partie du texte est délimité par des guillemets doubles, il faut utiliser le symbole d'échappement `\\` devant ces guillemets."
   ]
  },
  {
   "cell_type": "code",
   "execution_count": 14,
   "metadata": {},
   "outputs": [
    {
     "name": "stdout",
     "output_type": "stream",
     "text": [
      "c'est \"très\" cool\n"
     ]
    }
   ],
   "source": [
    "print(\"c'est \\\"très\\\" cool\")"
   ]
  },
  {
    "cell_type": "markdown",
    "metadata": {},
    "source": [
     "Lorsque utilisé avec du texte, l'opérateur `+` crée une nouvelle chaîne de caractères formée à partir des deux chaînes indiquées — une opération appelée _concaténation_."
    ]
   },
   {
   "cell_type": "code",
   "execution_count": 15,
   "metadata": {},
   "outputs": [
    {
     "data": {
      "text/plain": [
       "'bonjour'"
      ]
     },
     "execution_count": 15,
     "metadata": {},
     "output_type": "execute_result"
    }
   ],
   "source": [
    "'bon' + 'jour'"
   ]
  },
  {
   "cell_type": "markdown",
   "metadata": {},
   "source": [
    "L'opérateur `*` permet de répéter une chaîne."
   ]
  },
  {
   "cell_type": "code",
   "execution_count": 16,
   "metadata": {},
   "outputs": [
    {
     "data": {
      "text/plain": [
       "'hahahahahahahahahaha'"
      ]
     },
     "execution_count": 16,
     "metadata": {},
     "output_type": "execute_result"
    }
   ],
   "source": [
    "'ha' * 10"
   ]
  },
  {
   "cell_type": "code",
   "execution_count": 17,
   "metadata": {},
   "outputs": [
    {
     "data": {
      "text/plain": [
       "'******************************'"
      ]
     },
     "execution_count": 17,
     "metadata": {},
     "output_type": "execute_result"
    }
   ],
   "source": [
    "'*' * 30"
   ]
  },
  {
   "cell_type": "markdown",
   "metadata": {},
   "source": [
    "Les nombres peuvent être représentés comme chaîne de caractères:"
   ]
  },
  {
   "cell_type": "code",
   "execution_count": 18,
   "metadata": {},
   "outputs": [
    {
     "data": {
      "text/plain": [
       "'123'"
      ]
     },
     "execution_count": 18,
     "metadata": {},
     "output_type": "execute_result"
    }
   ],
   "source": [
    "'123'"
   ]
  },
  {
   "cell_type": "markdown",
   "metadata": {},
   "source": [
    "Une opération mathématique représentée comme chaine n'est pas exécutée. Elle est retournée telle quelle: en effet, le caractère `+` est inclus à l'intérieur des guillemets et il est considéré comme faisant partie de ce texte plutôt que comme étant l'opérateur `+` représentant l'addition en Python."
   ]
  },
  {
   "cell_type": "code",
   "execution_count": 19,
   "metadata": {},
   "outputs": [
    {
     "data": {
      "text/plain": [
       "'123 + 123'"
      ]
     },
     "execution_count": 19,
     "metadata": {},
     "output_type": "execute_result"
    }
   ],
   "source": [
    "'123 + 123'"
   ]
  },
  {
   "cell_type": "markdown",
   "metadata": {},
   "source": [
    "Ces deux nombres (représenté sous forme de chaîne) sont concaténés et non pas additionnés."
   ]
  },
  {
   "cell_type": "code",
   "execution_count": 20,
   "metadata": {},
   "outputs": [
    {
     "data": {
      "text/plain": [
       "'123123'"
      ]
     },
     "execution_count": 20,
     "metadata": {},
     "output_type": "execute_result"
    }
   ],
   "source": [
    "'123' + '123'"
   ]
  },
  {
   "cell_type": "markdown",
   "metadata": {},
   "source": [
    "Ce nombre (représenté sous forme de chaîne) est répété et non pas multiplié."
   ]
  },
  {
   "cell_type": "code",
   "execution_count": 21,
   "metadata": {},
   "outputs": [
    {
     "data": {
      "text/plain": [
       "'123123123123123123123123123123123123'"
      ]
     },
     "execution_count": 21,
     "metadata": {},
     "output_type": "execute_result"
    }
   ],
   "source": [
    "'123' * 12"
   ]
  },
  {
   "cell_type": "markdown",
   "metadata": {},
   "source": [
    "## <span commented>La comparaison</span><!-- REVIEW/JPP: Je trouve qu'il nous manque une motivation pour savoir pourquoi on va parler de cela maintenant. Pour le moment, c'est un peu 'gratuit' dans le sens qu'on nous demande un peu de ne pas trop poser de questions et d'ingurgiter... On pourrait ajouter un exemple qui motive le besoin de pouvoir faire de telles comparaisons. -->\n",
    "\n",
    "Python connait 6 types de comparaison:\n",
    "\n",
    "- plus petit (`<`)\n",
    "- plus petit ou égal (`<=`)\n",
    "- égal (`==`)\n",
    "- différent (`!=`)\n",
    "- plus grand (`<`)\n",
    "- plus grand ou égal (`>=`)\n",
    "\n",
    "Le résultat d'une comparaison est une valeur qui est soit vraie, soit fausse. C'est une valeur dite _booléene_. En Python, ces deux valeurs sont représentées avec les mots clés `True` et `False`.\n",
    "\n",
    "Voici quelques exemples:"
   ]
  },
  {
   "cell_type": "code",
   "execution_count": 22,
   "metadata": {},
   "outputs": [
    {
     "data": {
      "text/plain": [
       "False"
      ]
     },
     "execution_count": 22,
     "metadata": {},
     "output_type": "execute_result"
    }
   ],
   "source": [
    "2 > 3"
   ]
  },
  {
   "cell_type": "code",
   "execution_count": 23,
   "metadata": {},
   "outputs": [
    {
     "data": {
      "text/plain": [
       "True"
      ]
     },
     "execution_count": 23,
     "metadata": {},
     "output_type": "execute_result"
    }
   ],
   "source": [
    "2 < 3"
   ]
  },
  {
   "cell_type": "code",
   "execution_count": 24,
   "metadata": {},
   "outputs": [
    {
     "data": {
      "text/plain": [
       "True"
      ]
     },
     "execution_count": 24,
     "metadata": {},
     "output_type": "execute_result"
    }
   ],
   "source": [
    "2 != 3"
   ]
  },
  {
   "cell_type": "markdown",
   "metadata": {},
   "source": [
    "On peut aussi comparer des chaînes de caractères. C'est l'ordre alphabétique qui détermine le résultat."
   ]
  },
  {
   "cell_type": "code",
   "execution_count": 25,
   "metadata": {},
   "outputs": [
    {
     "data": {
      "text/plain": [
       "True"
      ]
     },
     "execution_count": 25,
     "metadata": {},
     "output_type": "execute_result"
    }
   ],
   "source": [
    "'antilope' < 'zèbre'"
   ]
  },
  {
   "cell_type": "markdown",
   "metadata": {},
   "source": [
    "L'ordre est des mots est celui utilisé dans les dictionnaires."
   ]
  },
  {
   "cell_type": "code",
   "execution_count": 26,
   "metadata": {},
   "outputs": [
    {
     "data": {
      "text/plain": [
       "True"
      ]
     },
     "execution_count": 26,
     "metadata": {},
     "output_type": "execute_result"
    }
   ],
   "source": [
    "'art' < 'artiste'"
   ]
  },
  {
   "cell_type": "markdown",
   "metadata": {},
   "source": [
    "## Commentaire\n",
    "\n",
    "Un commentaire commence par un dièse (`#`) et se termine naturellement à la fin d'une ligne. Il permet de documenter un programme et n'est pas interprété comme du code."
   ]
  },
  {
   "cell_type": "code",
   "execution_count": 27,
   "metadata": {},
   "outputs": [
    {
     "name": "stdout",
     "output_type": "stream",
     "text": [
      "bonjour\n"
     ]
    }
   ],
   "source": [
    "# ceci est un commentaire\n",
    "print('bonjour')"
   ]
  },
  {
   "cell_type": "markdown",
   "metadata": {},
   "source": [
    "Le symbole `#` peut être utilisé pour signaler à la machine une instruction à ne pas exécuter. "
   ]
  },
  {
   "cell_type": "code",
   "execution_count": 28,
   "metadata": {},
   "outputs": [
    {
     "name": "stdout",
     "output_type": "stream",
     "text": [
      "bonsoir\n"
     ]
    }
   ],
   "source": [
    "# print('bonjour')\n",
    "print('bonsoir')"
   ]
  },
  {
   "cell_type": "markdown",
   "metadata": {},
   "source": [
    "Un commentaire peut aussi être placé après une instruction pour donner une explication supplémentaire."
   ]
  },
  {
   "cell_type": "code",
   "execution_count": 29,
   "metadata": {},
   "outputs": [
    {
     "name": "stdout",
     "output_type": "stream",
     "text": [
      "bonjour\n",
      "bonsoir\n"
     ]
    }
   ],
   "source": [
    "print('bonjour') # utilisé le matin\n",
    "print('bonsoir') # utilisé le soir"
   ]
  },
  {
   "cell_type": "markdown",
   "metadata": {},
   "source": [
    "## <span commented>Exercices</span><!-- REVIEW/JPP: Peut-être faut-il utiliser le futur format standard de Romain pour spécifier les exercies -->\n",
    "Faites les exercices suivants <span commented>dans la console</span><!-- REVIEW/JPP: On ne leur a encore jamais parlé de console ou terminal -->."
   ]
  },
  {
   "cell_type": "markdown",
   "metadata": {},
   "source": [
    "### Ex 1\n",
    "Trouvez une instruction qui affiche votre âge."
   ]
  },
  {
   "cell_type": "markdown",
   "metadata": {},
   "source": [
    "### Ex 2\n",
    "Écrivez un programme qui affiche les phrases suivantes:\n",
    "\n",
    "    Le soleil brille à nouveau sur townsville.\n",
    "    Toi t'es vraiment sympa!\n",
    "    C'est un type \"chelou\", disait-il."
   ]
  },
  {
   "cell_type": "markdown",
   "metadata": {},
   "source": [
    "### Ex 3\n",
    "Trouvez l'expression qui <span commented>affiche</span><!-- REVIEW/JPP: calcule (pour être strict avec le fait qu'une expression, à proprement parler, n'affiche rien) --> le résultat de 4321 multiplié par 1234."
   ]
  },
  {
   "cell_type": "markdown",
   "metadata": {},
   "source": [
    "### Ex 4\n",
    "Trouvez une expression qui calcule la moyenne des 5 notes suivantes: 4.5, 3.5, 6, 5 et 4."
   ]
  },
  {
   "cell_type": "markdown",
   "metadata": {},
   "source": [
    "### Ex 5\n",
    "Trouvez une expression qui calcule la surface d'un carré de 9 cm de côté sans utiliser `9 * 9`."
   ]
  },
  {
   "cell_type": "markdown",
   "metadata": {},
   "source": [
    "### Ex 6\n",
    "Trouvez une <span commented>instruction</span><!-- REVIEW/JPP: ceci n'est expliqué nulle part; est-ce qu'on s'attend à ce qu'ils fassent leurs propres recherches? --> qui renvoie la longueur de la chaîne `\"anticonstitutionnellement\"`."
   ]
  },
  {
   "cell_type": "code",
   "execution_count": null,
   "metadata": {},
   "outputs": [],
   "source": []
  }
 ],
 "metadata": {
  "kernelspec": {
   "display_name": "Python 3",
   "language": "python",
   "name": "python3"
  },
  "language_info": {
   "codemirror_mode": {
    "name": "ipython",
    "version": 3
   },
   "file_extension": ".py",
   "mimetype": "text/x-python",
   "name": "python",
   "nbconvert_exporter": "python",
   "pygments_lexer": "ipython3",
   "version": "3.7.9"
  },
  "toc-autonumbering": false,
  "toc-showcode": false,
  "toc-showmarkdowntxt": false,
  "toc-showtags": false
 },
 "nbformat": 4,
 "nbformat_minor": 4
}
