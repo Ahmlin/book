{
 "cells": [
  {
   "cell_type": "markdown",
   "metadata": {},
   "source": [
    "# Introduction à Python"
   ]
  },
  {
   "cell_type": "markdown",
   "metadata": {},
   "source": [
    "Python est un langage de programmtion populaire. \n",
    "Il a été créé par un scientifique néérlandais, Guido von Rossum, en 1991.\n",
    "Le nom fait référence au fameux groupe d'humouristes anglais, les *Monty Python*."
   ]
  },
  {
   "cell_type": "markdown",
   "metadata": {},
   "source": [
    "![Monty phyton](https://media.giphy.com/media/RzKHvdYC3uds4/giphy.gif)  \n",
    "John Cleese des Monty Python dans le sketch *Ministery Of Silly Walks*"
   ]
  },
  {
   "cell_type": "markdown",
   "metadata": {},
   "source": [
    "Un langage de programmation permet à un humain de décrire ce que doit faire un ordinateur. Tous les ordinateurs, smartphones et sites web fonctionnent grace à des programmes.\n",
    "\n",
    "Le langage Python, comme la pluspart des des langages de programmation, est basé sur l'anglais. \n",
    "\n",
    "Pourquoi Python ?\n",
    "\n",
    "- Python est multiplateforme (Windows, Mac, Linux)\n",
    "- Python a une syntaxe simple et visuel\n",
    "- Python est interprété et donne un résultat immédiat"
   ]
  },
  {
   "cell_type": "markdown",
   "metadata": {},
   "source": [
    "## Objectifs\n",
    "\n",
    "- comprendre ce qu'un programme\n",
    "- créer des opérations numériques\n",
    "- manipuler des chaînes de caractères"
   ]
  },
  {
   "cell_type": "markdown",
   "metadata": {},
   "source": [
    "## Qu'est un programme ?\n",
    "Un **programme** est une séquence d'instructions pour faire quelque chose par un ordinateur. Par exemple:\n",
    "\n",
    "- faire un calcul mathématique\n",
    "- trier une liste de mots\n",
    "- résoudre une équation\n",
    "\n",
    "En général un langage de programmation comporte ces 5 composants:\n",
    "\n",
    "- une entrée (clavier, fichier)\n",
    "- une sortie (écran, fichier)\n",
    "- des opérations mathématiques\n",
    "- des executions conditionelles (if-else)\n",
    "- des répétitions (boucles)"
   ]
  },
  {
   "cell_type": "markdown",
   "metadata": {},
   "source": [
    "## Le premier programme\n",
    "\n",
    "Nous allons nous lancer de toute suite dans la programmation, avec un programme minimaliste d'une seule ligne."
   ]
  },
  {
   "cell_type": "code",
   "execution_count": 9,
   "metadata": {},
   "outputs": [
    {
     "name": "stdout",
     "output_type": "stream",
     "text": [
      "bonjour\n"
     ]
    }
   ],
   "source": [
    "print('bonjour')"
   ]
  },
  {
   "cell_type": "markdown",
   "metadata": {},
   "source": [
    "Ce premier programme afficher le mot *bonjour* sur console.\n",
    "\n",
    "Le programme consiste:\n",
    "\n",
    "- d'une fonction `print` qui affiche son argument\n",
    "- des parenthèses `()` qui entourent l'argument\n",
    "- des guillemets `'...'` qui délimitent une chaîne de texte\n",
    "- du texte `bonjour` qui est délimité par des guillemets"
   ]
  },
  {
   "cell_type": "markdown",
   "metadata": {},
   "source": [
    "## L'éditeur Thonny\n",
    "\n",
    "Pour éditer et executer du code Python il vous faut un éditeur. L'éditeur **Thonny** est un outil idéale pour débuter. C'est un **IDE**, un environnement de développement intégré. Ca veut dire qu'il contient \n",
    "\n",
    "- un éditeur et aussi \n",
    "- un interprétateur Python\n",
    "\n",
    "Allez sur le site https://thonny.org et téléchargez la dernière version.\n",
    "\n",
    "\n",
    "L'éditeur Thonny consiste de trois régions:\n",
    "\n",
    "- les boutons (Nouveau, Ouvrir, Exécuter)\n",
    "- l'editeur de script\n",
    "- la console\n",
    "\n",
    "![Thonny](img/thonny.png)\n",
    "\n",
    "Dans l'éditeur de script vous pouvez écrire des programmes complexes consistant des centaines de lignes. Le script sera executé avec un clic sur le bouton vert **Ecécuter**.\n",
    "\n",
    "La console permet de rapidement executer et tester des expressions de façon interactive. Vous écrivez la commande Python sur la ligne avec l'invite `>>>` et vous executez avec la touche **Retour**.\n",
    "\n",
    "Le resultat apparait sur la ligne suivante, et un nouvau invite `>>>` est affiché."
   ]
  },
  {
   "cell_type": "markdown",
   "metadata": {},
   "source": [
    "## La structure de ce document\n",
    "Ce document est un **Jupyter notebook**. C'est un document composé de deux types de cellules:\n",
    "\n",
    "* text\n",
    "* code\n",
    "\n",
    "Ceci est une cellule **code** avec une très simple expression en Python:"
   ]
  },
  {
   "cell_type": "code",
   "execution_count": 13,
   "metadata": {},
   "outputs": [
    {
     "data": {
      "text/plain": [
       "2"
      ]
     },
     "execution_count": 13,
     "metadata": {},
     "output_type": "execute_result"
    }
   ],
   "source": [
    "1 + 1"
   ]
  },
  {
   "cell_type": "markdown",
   "metadata": {},
   "source": [
    "L'expression `1 + 1` est évaluée et son résultat (2) est imprimé à la suite. \n",
    "\n",
    "Voici une autre addition.\n",
    "Dans un notebook interactive vous pouvez la modifier et appuyer sur les touches **Maj+Retour** pour executer l'instruction."
   ]
  },
  {
   "cell_type": "code",
   "execution_count": 8,
   "metadata": {},
   "outputs": [
    {
     "data": {
      "text/plain": [
       "579"
      ]
     },
     "execution_count": 8,
     "metadata": {},
     "output_type": "execute_result"
    }
   ],
   "source": [
    "123 + 456"
   ]
  },
  {
   "cell_type": "markdown",
   "metadata": {},
   "source": [
    "Voici une multiplication:"
   ]
  },
  {
   "cell_type": "code",
   "execution_count": 9,
   "metadata": {},
   "outputs": [
    {
     "data": {
      "text/plain": [
       "56088"
      ]
     },
     "execution_count": 9,
     "metadata": {},
     "output_type": "execute_result"
    }
   ],
   "source": [
    "123 * 456"
   ]
  },
  {
   "cell_type": "markdown",
   "metadata": {},
   "source": [
    "La division utilise l'opérateur `/` et donne un nombre à virgule flottante comme résultat."
   ]
  },
  {
   "cell_type": "code",
   "execution_count": 10,
   "metadata": {},
   "outputs": [
    {
     "data": {
      "text/plain": [
       "0.26973684210526316"
      ]
     },
     "execution_count": 10,
     "metadata": {},
     "output_type": "execute_result"
    }
   ],
   "source": [
    "123 / 456"
   ]
  },
  {
   "cell_type": "markdown",
   "metadata": {},
   "source": [
    "Dans une expression complexe, vous pouvez indiquer l'ordre d'execution avec des parenthèses. Ici la multiplication est effectué en premier."
   ]
  },
  {
   "cell_type": "code",
   "execution_count": 17,
   "metadata": {},
   "outputs": [
    {
     "data": {
      "text/plain": [
       "14"
      ]
     },
     "execution_count": 17,
     "metadata": {},
     "output_type": "execute_result"
    }
   ],
   "source": [
    "2 + 3 * 4"
   ]
  },
  {
   "cell_type": "markdown",
   "metadata": {},
   "source": [
    "Ici l'addition est effectuée en premier."
   ]
  },
  {
   "cell_type": "code",
   "execution_count": 18,
   "metadata": {},
   "outputs": [
    {
     "data": {
      "text/plain": [
       "20"
      ]
     },
     "execution_count": 18,
     "metadata": {},
     "output_type": "execute_result"
    }
   ],
   "source": [
    "(2 + 3) * 4"
   ]
  },
  {
   "cell_type": "markdown",
   "metadata": {},
   "source": [
    "La puissance utilise l'opérateur `**`."
   ]
  },
  {
   "cell_type": "code",
   "execution_count": 12,
   "metadata": {},
   "outputs": [
    {
     "data": {
      "text/plain": [
       "99250068772098856700831462057469632637295940819886900519816298881382867104749399077921128661426144638055424236936271872492800352741649902118143819672601569998100120790496759517636465445895625741609866209900500198407153244604778968016963028050310261417615914468729918240685487878617645976939063464357986165711730976399478507649228686341466967167910126653342134942744851463899927487092486610977146112763567101672645953132196481439339873017088140414661271198500333255713096142335151414630651683065518784081203678487703002802082091236603519026256880624499681781387227574035484831271515683123742149095569260463609655977700938844580611931246495166208695540313698140011638027322566252689780838136351828795314272162111222231170901715612355701347552371530013693855379834865667060014643302459100429783653966913783002290784283455628283355470529932956051484477129333881159930212758687602795088579230431661696010232187390436601614145603241902386663442520160735566561"
      ]
     },
     "execution_count": 12,
     "metadata": {},
     "output_type": "execute_result"
    }
   ],
   "source": [
    "123 ** 456"
   ]
  },
  {
   "cell_type": "markdown",
   "metadata": {},
   "source": [
    "Cet exemple montre que les résults des calculs entiers en Python ne sont pas limité dans le nombre de positions. "
   ]
  },
  {
   "cell_type": "markdown",
   "metadata": {},
   "source": [
    "## La fonction print()\n",
    "\n",
    "Une cellule de code peut contenir multiple lignes. En interne, toutes les instructions sont executés, mais seulement le derner résultat est imprimé."
   ]
  },
  {
   "cell_type": "code",
   "execution_count": 19,
   "metadata": {},
   "outputs": [
    {
     "data": {
      "text/plain": [
       "408"
      ]
     },
     "execution_count": 19,
     "metadata": {},
     "output_type": "execute_result"
    }
   ],
   "source": [
    "12 + 34\n",
    "12 / 34\n",
    "12 * 34"
   ]
  },
  {
   "cell_type": "markdown",
   "metadata": {},
   "source": [
    "La fonction `print()` imprime ce qui se trouve entre les parenthèses vers la sortie. Cette fois toutes les résultats sont affichés."
   ]
  },
  {
   "cell_type": "code",
   "execution_count": 22,
   "metadata": {},
   "outputs": [
    {
     "name": "stdout",
     "output_type": "stream",
     "text": [
      "46\n",
      "0.35294117647058826\n",
      "408\n"
     ]
    }
   ],
   "source": [
    "print(12 + 34)\n",
    "print(12 / 34)\n",
    "print(12 * 34)"
   ]
  },
  {
   "cell_type": "markdown",
   "metadata": {},
   "source": [
    "La fonction print peux aussi afficher du texte."
   ]
  },
  {
   "cell_type": "code",
   "execution_count": 24,
   "metadata": {},
   "outputs": [
    {
     "name": "stdout",
     "output_type": "stream",
     "text": [
      "bonjour\n"
     ]
    }
   ],
   "source": [
    "print('bonjour')"
   ]
  },
  {
   "cell_type": "code",
   "execution_count": 25,
   "metadata": {},
   "outputs": [
    {
     "name": "stdout",
     "output_type": "stream",
     "text": [
      "au revoir\n"
     ]
    }
   ],
   "source": [
    "print(\"au revoir\")"
   ]
  },
  {
   "cell_type": "markdown",
   "metadata": {},
   "source": [
    "On utilise les apostrophe simples quand la chaine contient un apostrophe double à l'intérieur."
   ]
  },
  {
   "cell_type": "code",
   "execution_count": 32,
   "metadata": {},
   "outputs": [
    {
     "name": "stdout",
     "output_type": "stream",
     "text": [
      "le \"Python\" est puissant.\n"
     ]
    }
   ],
   "source": [
    "print('le \"Python\" est puissant.')"
   ]
  },
  {
   "cell_type": "markdown",
   "metadata": {},
   "source": [
    "On utilise les apostrophe doubles quand la chaine contien un apostrophe simple à l'intérieur."
   ]
  },
  {
   "cell_type": "code",
   "execution_count": 31,
   "metadata": {},
   "outputs": [
    {
     "name": "stdout",
     "output_type": "stream",
     "text": [
      "c'est intéressant\n"
     ]
    }
   ],
   "source": [
    "print(\"c'est intéressant\")"
   ]
  },
  {
   "cell_type": "markdown",
   "metadata": {},
   "source": [
    "Quoi faire si une chaîne contient les deux types d'apostrophes à la fois ?\n",
    "\n",
    "Si la chaîne est délimité par des apostrophes simples, il faut utiliser le symbole d'echappement `\\` devant un apostrophe simple qui apparait à l'intérieur."
   ]
  },
  {
   "cell_type": "code",
   "execution_count": 38,
   "metadata": {},
   "outputs": [
    {
     "name": "stdout",
     "output_type": "stream",
     "text": [
      "c'est \"très\" cool\n"
     ]
    }
   ],
   "source": [
    "print('c\\'est \"très\" cool')"
   ]
  },
  {
   "cell_type": "markdown",
   "metadata": {},
   "source": [
    "Si la chaîne est délimité par des apostrophes doubles, il faut utiliser le symbole d'echappement `\\` devant un apostrophe double à l'intérieur de la chaîne."
   ]
  },
  {
   "cell_type": "code",
   "execution_count": 37,
   "metadata": {},
   "outputs": [
    {
     "name": "stdout",
     "output_type": "stream",
     "text": [
      "c'est \"très\" cool\n"
     ]
    }
   ],
   "source": [
    "print(\"c'est \\\"très\\\" cool\")"
   ]
  },
  {
   "cell_type": "code",
   "execution_count": 39,
   "metadata": {},
   "outputs": [
    {
     "data": {
      "text/plain": [
       "'bonjour'"
      ]
     },
     "execution_count": 39,
     "metadata": {},
     "output_type": "execute_result"
    }
   ],
   "source": [
    "'bon' + 'jour'"
   ]
  },
  {
   "cell_type": "markdown",
   "metadata": {},
   "source": [
    "L'opérateur `*` permet de répéter une chaîne."
   ]
  },
  {
   "cell_type": "code",
   "execution_count": 41,
   "metadata": {},
   "outputs": [
    {
     "data": {
      "text/plain": [
       "'hahahahahahahahahaha'"
      ]
     },
     "execution_count": 41,
     "metadata": {},
     "output_type": "execute_result"
    }
   ],
   "source": [
    "'ha' * 10"
   ]
  },
  {
   "cell_type": "code",
   "execution_count": 50,
   "metadata": {},
   "outputs": [
    {
     "data": {
      "text/plain": [
       "'******************************'"
      ]
     },
     "execution_count": 50,
     "metadata": {},
     "output_type": "execute_result"
    }
   ],
   "source": [
    "'*' * 30"
   ]
  },
  {
   "cell_type": "markdown",
   "metadata": {},
   "source": [
    "Les nombres peuvent être représentés comme chaine"
   ]
  },
  {
   "cell_type": "code",
   "execution_count": 51,
   "metadata": {},
   "outputs": [
    {
     "data": {
      "text/plain": [
       "'123'"
      ]
     },
     "execution_count": 51,
     "metadata": {},
     "output_type": "execute_result"
    }
   ],
   "source": [
    "'123'"
   ]
  },
  {
   "cell_type": "markdown",
   "metadata": {},
   "source": [
    "Une opération mathématique représentée comme chaine n'est pas exécutée. Elle est retournée tel quel."
   ]
  },
  {
   "cell_type": "code",
   "execution_count": 58,
   "metadata": {},
   "outputs": [
    {
     "data": {
      "text/plain": [
       "'123 + 123'"
      ]
     },
     "execution_count": 58,
     "metadata": {},
     "output_type": "execute_result"
    }
   ],
   "source": [
    "'123 + 123'"
   ]
  },
  {
   "cell_type": "markdown",
   "metadata": {},
   "source": [
    "Ces deux nombres (représenté sous forme de chaîne) sont concatenés et non pas additionnés."
   ]
  },
  {
   "cell_type": "code",
   "execution_count": 59,
   "metadata": {},
   "outputs": [
    {
     "data": {
      "text/plain": [
       "'123123'"
      ]
     },
     "execution_count": 59,
     "metadata": {},
     "output_type": "execute_result"
    }
   ],
   "source": [
    "'123' + '123'"
   ]
  },
  {
   "cell_type": "markdown",
   "metadata": {},
   "source": [
    "Ce nombre (représenté sour forme de chaîne) est répété et non pas multiplié."
   ]
  },
  {
   "cell_type": "code",
   "execution_count": 56,
   "metadata": {},
   "outputs": [
    {
     "data": {
      "text/plain": [
       "'123123123123123123123123123123123123'"
      ]
     },
     "execution_count": 56,
     "metadata": {},
     "output_type": "execute_result"
    }
   ],
   "source": [
    "'123' * 12"
   ]
  },
  {
   "cell_type": "markdown",
   "metadata": {},
   "source": [
    "## La comparaison\n",
    "\n",
    "Python connait 6 types de comparaison:\n",
    "\n",
    "- plus petit (`<`)\n",
    "- plus petit ou égal (`<=`)\n",
    "- égal (`==`)\n",
    "- différent (`!=`)\n",
    "- plus grand (`<`)\n",
    "- plus grand ou égal (`>=`)\n",
    "\n",
    "Le résultat d'une comparaison est une valeur booléene (`True` ou `False`).\n",
    "\n",
    "Voici quelques exemples:"
   ]
  },
  {
   "cell_type": "code",
   "execution_count": 63,
   "metadata": {},
   "outputs": [
    {
     "data": {
      "text/plain": [
       "False"
      ]
     },
     "execution_count": 63,
     "metadata": {},
     "output_type": "execute_result"
    }
   ],
   "source": [
    "2 > 3"
   ]
  },
  {
   "cell_type": "code",
   "execution_count": 62,
   "metadata": {},
   "outputs": [
    {
     "data": {
      "text/plain": [
       "True"
      ]
     },
     "execution_count": 62,
     "metadata": {},
     "output_type": "execute_result"
    }
   ],
   "source": [
    "2 < 3"
   ]
  },
  {
   "cell_type": "code",
   "execution_count": 65,
   "metadata": {},
   "outputs": [
    {
     "data": {
      "text/plain": [
       "True"
      ]
     },
     "execution_count": 65,
     "metadata": {},
     "output_type": "execute_result"
    }
   ],
   "source": [
    "2 != 3"
   ]
  },
  {
   "cell_type": "markdown",
   "metadata": {},
   "source": [
    "On peux aussi comparer des chaines de caractères. C'est l'ordre alphabétique qui détermine le résultat."
   ]
  },
  {
   "cell_type": "code",
   "execution_count": 73,
   "metadata": {},
   "outputs": [
    {
     "data": {
      "text/plain": [
       "True"
      ]
     },
     "execution_count": 73,
     "metadata": {},
     "output_type": "execute_result"
    }
   ],
   "source": [
    "'antilope' < 'zèbre'"
   ]
  },
  {
   "cell_type": "markdown",
   "metadata": {},
   "source": [
    "L'ordre est des mots est celui utilisé dans les dictionnaires."
   ]
  },
  {
   "cell_type": "code",
   "execution_count": 72,
   "metadata": {},
   "outputs": [
    {
     "data": {
      "text/plain": [
       "True"
      ]
     },
     "execution_count": 72,
     "metadata": {},
     "output_type": "execute_result"
    }
   ],
   "source": [
    "'art' < 'artiste'"
   ]
  },
  {
   "cell_type": "markdown",
   "metadata": {},
   "source": [
    "## Les variables\n",
    "\n",
    "Une valeur peut être affecté à une variable. Une variable est\n",
    "\n",
    "- une étiquette\n",
    "- composé de lettres, chiffres et symbole tiret bas (`_`)\n",
    "- commençant par une lettre ou un symbole tiret bas (`_`)\n",
    "\n",
    "Voici la création d'une variable `x`"
   ]
  },
  {
   "cell_type": "code",
   "execution_count": 74,
   "metadata": {},
   "outputs": [],
   "source": [
    "x = 10"
   ]
  },
  {
   "cell_type": "markdown",
   "metadata": {},
   "source": [
    "L'affectation en produit pas de sortie. Avec `print` nous pouvons afficher la valeur actuelle"
   ]
  },
  {
   "cell_type": "code",
   "execution_count": 76,
   "metadata": {},
   "outputs": [
    {
     "name": "stdout",
     "output_type": "stream",
     "text": [
      "10\n"
     ]
    }
   ],
   "source": [
    "print(x)"
   ]
  },
  {
   "cell_type": "markdown",
   "metadata": {},
   "source": [
    "Une variable peut être utilisé dans des expressions."
   ]
  },
  {
   "cell_type": "code",
   "execution_count": 77,
   "metadata": {},
   "outputs": [
    {
     "data": {
      "text/plain": [
       "12"
      ]
     },
     "execution_count": 77,
     "metadata": {},
     "output_type": "execute_result"
    }
   ],
   "source": [
    "x + 2"
   ]
  },
  {
   "cell_type": "code",
   "execution_count": 78,
   "metadata": {},
   "outputs": [
    {
     "data": {
      "text/plain": [
       "100"
      ]
     },
     "execution_count": 78,
     "metadata": {},
     "output_type": "execute_result"
    }
   ],
   "source": [
    "x * x"
   ]
  },
  {
   "cell_type": "code",
   "execution_count": 81,
   "metadata": {},
   "outputs": [
    {
     "data": {
      "text/plain": [
       "25937424601"
      ]
     },
     "execution_count": 81,
     "metadata": {},
     "output_type": "execute_result"
    }
   ],
   "source": [
    "(x + 1) ** x"
   ]
  },
  {
   "cell_type": "code",
   "execution_count": 82,
   "metadata": {},
   "outputs": [
    {
     "data": {
      "text/plain": [
       "'xxxxxxxxxx'"
      ]
     },
     "execution_count": 82,
     "metadata": {},
     "output_type": "execute_result"
    }
   ],
   "source": [
    "'x' * x"
   ]
  },
  {
   "cell_type": "markdown",
   "metadata": {},
   "source": [
    "La fonction print peut accepter multiples arguments. Les arguments doivent être sépéarés par des virgules."
   ]
  },
  {
   "cell_type": "code",
   "execution_count": 83,
   "metadata": {},
   "outputs": [
    {
     "name": "stdout",
     "output_type": "stream",
     "text": [
      "x = 10\n"
     ]
    }
   ],
   "source": [
    "print('x =', x)"
   ]
  },
  {
   "cell_type": "code",
   "execution_count": null,
   "metadata": {},
   "outputs": [],
   "source": []
  },
  {
   "cell_type": "code",
   "execution_count": 82,
   "metadata": {},
   "outputs": [
    {
     "data": {
      "text/plain": [
       "'xxxxxxxxxx'"
      ]
     },
     "execution_count": 82,
     "metadata": {},
     "output_type": "execute_result"
    }
   ],
   "source": [
    "'x' * x"
   ]
  },
  {
   "cell_type": "markdown",
   "metadata": {},
   "source": [
    "## Indentation\n",
    "\n",
    "Placer un espace au début de code est appelé **indentation**.\n",
    "Presque toutes les langues utilisent l'indentation pour reféter la structure d'un programme. \n",
    "Tandis que l'indentation est volontaire pour la plupart des autres langages de programmation elle est obligatoire pour Python.\n",
    "\n",
    "Une indentation (d'habitude 4 espace) indique un bloc de code. Par exemple dans cet exemple le corps de la boucle `for` a deux instructions qui sont répétés 3 fois."
   ]
  },
  {
   "cell_type": "code",
   "execution_count": 1,
   "metadata": {},
   "outputs": [
    {
     "name": "stdout",
     "output_type": "stream",
     "text": [
      "0\n",
      "indenté\n",
      "1\n",
      "indenté\n",
      "2\n",
      "indenté\n"
     ]
    }
   ],
   "source": [
    "for i in range(3):\n",
    "    print(i)\n",
    "    print('bonjour')"
   ]
  },
  {
   "cell_type": "markdown",
   "metadata": {},
   "source": [
    "Ici l'instruction `print('bonjour')` n'est pas indententé, et ne fait donc pas partie du corps de la boucle. Cette instruction est executé seuelement une fois, après la fin de la boucle.\n"
   ]
  },
  {
   "cell_type": "code",
   "execution_count": 3,
   "metadata": {},
   "outputs": [
    {
     "name": "stdout",
     "output_type": "stream",
     "text": [
      "0\n",
      "1\n",
      "2\n",
      "bonjour\n"
     ]
    }
   ],
   "source": [
    "for i in range(3):\n",
    "    print(i)\n",
    "print('bonjour')"
   ]
  },
  {
   "cell_type": "markdown",
   "metadata": {},
   "source": [
    "### Commentaire\n",
    "\n",
    "Un commentaire commence par le symbole `#`. Il permet de documenter un programme."
   ]
  },
  {
   "cell_type": "code",
   "execution_count": 5,
   "metadata": {},
   "outputs": [
    {
     "name": "stdout",
     "output_type": "stream",
     "text": [
      "bonjour\n"
     ]
    }
   ],
   "source": [
    "# ceci est un commentaire\n",
    "print('bonjour')"
   ]
  },
  {
   "cell_type": "markdown",
   "metadata": {},
   "source": [
    "Le symbole `#` peut être utilisé pour ne pas executer une instruction. "
   ]
  },
  {
   "cell_type": "code",
   "execution_count": 7,
   "metadata": {},
   "outputs": [
    {
     "name": "stdout",
     "output_type": "stream",
     "text": [
      "bonsoir\n"
     ]
    }
   ],
   "source": [
    "# print('bonjour')\n",
    "print('bonsoir')"
   ]
  },
  {
   "cell_type": "markdown",
   "metadata": {},
   "source": [
    "Un commentair peut être placé après une instruction pour donner une explication supplémentaire."
   ]
  },
  {
   "cell_type": "code",
   "execution_count": null,
   "metadata": {},
   "outputs": [],
   "source": [
    "print('bonjour') # utilisé le matin\n",
    "print('bonsoir') # utilisé le soir"
   ]
  }
 ],
 "metadata": {
  "kernelspec": {
   "display_name": "Python 3",
   "language": "python",
   "name": "python3"
  },
  "language_info": {
   "codemirror_mode": {
    "name": "ipython",
    "version": 3
   },
   "file_extension": ".py",
   "mimetype": "text/x-python",
   "name": "python",
   "nbconvert_exporter": "python",
   "pygments_lexer": "ipython3",
   "version": "3.8.3"
  },
  "toc-autonumbering": false,
  "toc-showcode": false,
  "toc-showmarkdowntxt": false,
  "toc-showtags": false
 },
 "nbformat": 4,
 "nbformat_minor": 4
}
