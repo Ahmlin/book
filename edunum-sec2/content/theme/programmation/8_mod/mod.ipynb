{
 "cells": [
  {
   "cell_type": "markdown",
   "metadata": {},
   "source": [
    "# Modules\n",
    "Les modules sont des fichiers, aussi appelés scripts, contenant un ensemble de déclaration de fonction. Lorsqu'on crée un programme, les modules ne sont pas importés d'office, ils sont stockés sur l'ordinateur lors de l'installation de python et il faut les importer lorsqu'ils sont nécessaire."
   ]
  },
  {
   "cell_type": "markdown",
   "metadata": {},
   "source": [
    "## Importer un module\n",
    "Selon l'utilité qu'on en fait, y a plusieurs façons d'importer un module:\n",
    "- **from** *module* **import** *\n",
    "- **from** *module* **import** *fonction*\n",
    "- **import** *module*\n",
    "- **import** *module* **as** *autre nom*\n",
    "\n",
    "Selon la façon dont on a importé le module, la forme que l'on va donner aux fonction est différente.\n",
    "- Avec la première forme, il suffira d'appeler la fonction par son nom.\n",
    "- Avec les autres formes, il sera nécessaire de précéder le nom de la fonction par celui du module\n",
    "\n",
    "**Bonne pratique : Pourquoi ne pas simplement importer tout le module sans selectionner de fonctions ?**\n",
    "\n",
    "De manière générale, il ne faut pas faire **from** *module* **import** \\*. Ceci encombre l'espace de nommage de l'importateur et rend la détection de noms non-définis beaucoup plus ardue pour les analyseurs de code.\n",
    "\n",
    "De plus il est préférable d'importer les module au début du programme. Ceci permet d'afficher clairement de quels modules le code à besoin et évite de se demander si le module est dans le contexte."
   ]
  },
  {
   "cell_type": "markdown",
   "metadata": {},
   "source": [
    "## Module Math – fonctions trigonométriques et constantes\n",
    "On retrouve dans le module math des fonction arithmétiques, des fonction logarithmiques et exponentielles, de fonction trigonométriques, des constantes et d'autres fonctions. Voici quelques utilisations du module math :"
   ]
  },
  {
   "cell_type": "code",
   "execution_count": 4,
   "metadata": {},
   "outputs": [
    {
     "name": "stdout",
     "output_type": "stream",
     "text": [
      "3.141592653589793\n"
     ]
    }
   ],
   "source": [
    "from math import pi\n",
    "\n",
    "print(pi)"
   ]
  },
  {
   "cell_type": "code",
   "execution_count": 11,
   "metadata": {},
   "outputs": [
    {
     "name": "stdout",
     "output_type": "stream",
     "text": [
      "53.13010235415599\n",
      "53.13010235415599\n",
      "53.13010235415598\n"
     ]
    }
   ],
   "source": [
    "from math import asin, acos, atan, degrees\n",
    "\n",
    "opp = 4\n",
    "hyp = 5\n",
    "adj = 3\n",
    "\n",
    "a = asin(opp/hyp)\n",
    "b = acos(adj/hyp)\n",
    "c = atan(opp/adj)\n",
    "\n",
    "print(degrees(a),degrees(b),degrees(c), sep='\\n')"
   ]
  },
  {
   "cell_type": "markdown",
   "metadata": {},
   "source": [
    "Dans cet exemple on importe les fonction `asin`, `acos`, `atan` et `degrees` du module `math`. Les 3 premières renvoient un angle en radiant et la dernière permet de convertir les radiant en degrés. Pour consulter toutes les fonction diponibles dans un module, la documentation de référence se trouve ici : https://docs.python.org/fr et **l'index des modules de python** ici : https://docs.python.org/fr/3/py-modindex.html"
   ]
  },
  {
   "cell_type": "markdown",
   "metadata": {},
   "source": [
    "## Random – valeurs aléatoires \n",
    "Le module random permet d'utiliser des fonctions aléatoires dans un programme. \n",
    "\n",
    "Exercice jeu de casion : la roulette "
   ]
  },
  {
   "cell_type": "code",
   "execution_count": 18,
   "metadata": {},
   "outputs": [
    {
     "name": "stdout",
     "output_type": "stream",
     "text": [
      "0.980236474447044\n",
      "perdu\n",
      "2\n",
      "35\n"
     ]
    }
   ],
   "source": [
    "from random import random, randrange, choice\n",
    "\n",
    "a = random()\n",
    "\n",
    "b = choice(['gagné', 'perdu', 'match nul'])\n",
    "\n",
    "c = randrange(9)\n",
    "\n",
    "d = randrange(20, 101, 5)\n",
    "\n",
    "print(a,b,c,d,sep='\\n')"
   ]
  },
  {
   "cell_type": "markdown",
   "metadata": {},
   "source": [
    "Dans l'exemple ci-dessus trois fonction sont importées du module `random`. La fonction `random` permet de générer un nombre aléatoire entre 0.0 et 1.0. La fonction `choice` permet de choisir aléatoirement un élément d'une liste. La fonction `randranche` peut être utilisée avec un ou trois arguments: Dans le premier cas, un nombre entier est générer aléatoirement entre 0 et l'argument et dans le deuxième cas, un nombre entier est générer aléatoirement entre le premier et le deuxième argument en respectant des pas définits par le troisième argument."
   ]
  },
  {
   "cell_type": "markdown",
   "metadata": {},
   "source": [
    "## Turtle – dessin avec la tortue Python "
   ]
  },
  {
   "cell_type": "markdown",
   "metadata": {},
   "source": [
    "Python peut être utilisé pour donner des ordres à un robot afin qu'il execute des tâches. Ceci demande une perception particulière de l'espace pour se mettre à la place du robot et ainsi détérminer où est la droite et la gauche en fonction des actions déjà executées. Le module `turtle` permet de reproduire cette logique en animant une tortue virtuelle."
   ]
  },
  {
   "cell_type": "code",
   "execution_count": 3,
   "metadata": {},
   "outputs": [],
   "source": [
    "from turtle import *"
   ]
  },
  {
   "cell_type": "markdown",
   "metadata": {},
   "source": [
    "La tortue peut faire différents déplacements: avancer, reculer, tourner à droite et tourner à gauche. \n",
    "\n",
    "Pour avancer l'instruction s'appelle `forward`, elle est suivie du nombre de pixels entre parenthèses.\n",
    "\n",
    "Pour reculer l'instruction s'appelle `backward`, elle est suivie du nombre de pixels entre parenthèses.\n",
    "\n",
    "Pour tourner à gauche l'instruction s'appelle `left`, elle est suivie du nombre de degrés entre parenthèses.\n",
    "\n",
    "Pour tourner à droite l'instruction s'appelle `right`, elle est suivie du nombre de degrés entre parenthèses "
   ]
  },
  {
   "cell_type": "code",
   "execution_count": 2,
   "metadata": {},
   "outputs": [],
   "source": [
    "from turtle import *\n",
    "forward(100)"
   ]
  },
  {
   "cell_type": "markdown",
   "metadata": {},
   "source": [
    "Mettre un GIF"
   ]
  },
  {
   "cell_type": "code",
   "execution_count": 2,
   "metadata": {},
   "outputs": [],
   "source": [
    "from turtle import *\n",
    "backward(100)"
   ]
  },
  {
   "cell_type": "markdown",
   "metadata": {},
   "source": [
    "Mettre un GIF"
   ]
  },
  {
   "cell_type": "code",
   "execution_count": 2,
   "metadata": {},
   "outputs": [],
   "source": [
    "from turtle import *\n",
    "left(90)"
   ]
  },
  {
   "cell_type": "markdown",
   "metadata": {},
   "source": [
    "Mettre un GIF"
   ]
  },
  {
   "cell_type": "code",
   "execution_count": 2,
   "metadata": {},
   "outputs": [],
   "source": [
    "from turtle import *\n",
    "right(90)"
   ]
  },
  {
   "cell_type": "markdown",
   "metadata": {},
   "source": [
    "Mettre un GIF"
   ]
  },
  {
   "cell_type": "markdown",
   "metadata": {},
   "source": [
    "Il est possible de personnaliser le pinceau et l'apparence du curseur ou de choisir si le pinceau est en train d'écrire ou si il est relevé avec d'autres instructions que l'on peut retrouver via l'index des modules python cité au début de ce chapitre. "
   ]
  },
  {
   "cell_type": "markdown",
   "metadata": {},
   "source": [
    "## Exercices"
   ]
  },
  {
   "cell_type": "markdown",
   "metadata": {},
   "source": [
    "### Ex1\n",
    "Faire un programme permettant de retourner la taille de l'angle en degrés d'un triangle rectangle.\n",
    "\n",
    "Le programme doit demander à l'utilisateur les longeurs des côtés opposés, adjacents et hypoténuse, si l'utilisateur ne connais pas la longeur d'un côté, il doit inscrire un \"x\" comme longeur du côté manquant. Avec ces informations, le programme doit retourner la taill de l'angle en degrés."
   ]
  },
  {
   "cell_type": "markdown",
   "metadata": {},
   "source": [
    "### Ex2\n",
    "Faire un programme contre lequel on peut jouer à feuille-cailloux-ciseaux.\n",
    "\n",
    "Le programme doit demander à l'utilisateur de faire son choix parmis les 3 possibles. Si l'utilisateur fait un choix qui n'existe pas, retourner une information et reposer la question. L'ordinateur doit faire un choix aléatoire. Le programme doit confronter le choix de l'utilisateur et celui de l'ordinateur puis retourner une information sur le gagnant du jeu.\n",
    "\n",
    "Ce programme peut être améliorer en mettant en oeuvre un système de score, de manches ou multijoueurs."
   ]
  },
  {
   "cell_type": "markdown",
   "metadata": {},
   "source": [
    "### Ex3\n",
    "Dessiner une étoile avec la tortue."
   ]
  },
  {
   "cell_type": "markdown",
   "metadata": {},
   "source": [
    "### Ex4\n",
    "Dessiner une maison avec une porte et une fenêtre avec la tortue"
   ]
  }
 ],
 "metadata": {
  "kernelspec": {
   "display_name": "Python 3",
   "language": "python",
   "name": "python3"
  },
  "language_info": {
   "codemirror_mode": {
    "name": "ipython",
    "version": 3
   },
   "file_extension": ".py",
   "mimetype": "text/x-python",
   "name": "python",
   "nbconvert_exporter": "python",
   "pygments_lexer": "ipython3",
   "version": "3.8.5"
  }
 },
 "nbformat": 4,
 "nbformat_minor": 4
}
