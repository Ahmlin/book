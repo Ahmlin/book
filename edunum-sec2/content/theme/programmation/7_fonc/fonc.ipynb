{
 "cells": [
  {
   "cell_type": "markdown",
   "metadata": {},
   "source": [
    "# Fonctions\n",
    "En programmation, les fonctions sont des suites d'instructions nommées qui permettent d'éviter d'écrire plusieurs fois la même suite d'instruction. En effet les fonctions peuvent être utilisées autant de fois que nécessaire dans un programme. Il est d'usage de dire que les fonctions prennent des arguments et renvoient une valeur de retour."
   ]
  },
  {
   "cell_type": "code",
   "execution_count": 9,
   "metadata": {},
   "outputs": [
    {
     "name": "stdout",
     "output_type": "stream",
     "text": [
      "Bonjour Marc Zukerberg\n",
      "Vous êtes en train de programmer!\n"
     ]
    }
   ],
   "source": [
    "def saluer(prenom, nom):\n",
    "    print(\"Bonjour\",prenom,nom)\n",
    "    print(\"Vous êtes en train de programmer!\")\n",
    "\n",
    "a = \"Marc\"\n",
    "b = \"Zukerberg\"\n",
    "saluer(a,b)"
   ]
  },
  {
   "cell_type": "markdown",
   "metadata": {},
   "source": [
    "Dans cet exemple, la fonction s'appelle `saluer` et exécute deux instructions `print`. Elle nécessite deux arguments qui sont nommés **prenom** et **nom**. Le nom de ces arguments est utilisé uniquement au sein de la fonction, il sera impossible d'utiliser \"nom\" comme une variable hors de la fonction. À la dernière ligne on appelle la fonction saluer en utilisant deux variables a et b comme arguments, ces valeurs vont être assignées respectivement à prenom et nom."
   ]
  },
  {
   "cell_type": "markdown",
   "metadata": {},
   "source": [
    "## Appeler une fonction\n",
    "Une fois définie, il est possible d'utiliser une fonction en l'appelant. Pour ce faire, il suffit d'écrire le nom de la fonction suivi des éventuels arguments de la fonction entre parenthèses.\n",
    "\n",
    "La fonction `type` retourne le type de son argument."
   ]
  },
  {
   "cell_type": "code",
   "execution_count": 3,
   "metadata": {},
   "outputs": [
    {
     "data": {
      "text/plain": [
       "str"
      ]
     },
     "execution_count": 3,
     "metadata": {},
     "output_type": "execute_result"
    }
   ],
   "source": [
    "type(\"Bonjour\")"
   ]
  },
  {
   "cell_type": "markdown",
   "metadata": {},
   "source": [
    "La fonction `pow` retourne la puissance de ses deux arguments."
   ]
  },
  {
   "cell_type": "code",
   "execution_count": 5,
   "metadata": {},
   "outputs": [
    {
     "data": {
      "text/plain": [
       "243"
      ]
     },
     "execution_count": 5,
     "metadata": {},
     "output_type": "execute_result"
    }
   ],
   "source": [
    "pow(3,5)"
   ]
  },
  {
   "cell_type": "markdown",
   "metadata": {},
   "source": [
    "La fonction `len` retourne la longueur de chaine."
   ]
  },
  {
   "cell_type": "code",
   "execution_count": 6,
   "metadata": {},
   "outputs": [
    {
     "data": {
      "text/plain": [
       "7"
      ]
     },
     "execution_count": 6,
     "metadata": {},
     "output_type": "execute_result"
    }
   ],
   "source": [
    "len(\"Bonjour\")"
   ]
  },
  {
   "cell_type": "markdown",
   "metadata": {},
   "source": [
    "La fonction `round` retourne la valeur arrondie."
   ]
  },
  {
   "cell_type": "code",
   "execution_count": 8,
   "metadata": {},
   "outputs": [
    {
     "data": {
      "text/plain": [
       "334"
      ]
     },
     "execution_count": 8,
     "metadata": {},
     "output_type": "execute_result"
    }
   ],
   "source": [
    "round(333.76)"
   ]
  },
  {
   "cell_type": "markdown",
   "metadata": {},
   "source": [
    "La fonction `min` retourne la valeur minimale."
   ]
  },
  {
   "cell_type": "code",
   "execution_count": 9,
   "metadata": {},
   "outputs": [
    {
     "data": {
      "text/plain": [
       "5"
      ]
     },
     "execution_count": 9,
     "metadata": {},
     "output_type": "execute_result"
    }
   ],
   "source": [
    "min(5,34,112)"
   ]
  },
  {
   "cell_type": "markdown",
   "metadata": {},
   "source": [
    "## Définir une fonction\n",
    "Pour définir une fonction, il faut écrire le mot-clé `def` puis le nom de la fonction suivi par une paire de parenthèses et d'un double-points. La nomenclature d'une fonction est régie par les mêmes règles que pour les noms de variables : des lettres, des chiffres et des traits de soulignement sont autorisés, mais le premier caractère ne peut pas être un chiffre. Il n'est pas possible d'utiliser un mot-clé comme nom d'une fonction, et vous devriez éviter d'avoir une variable et une fonction du même nom.\n",
    "\n",
    "    def mafonction():"
   ]
  },
  {
   "cell_type": "markdown",
   "metadata": {},
   "source": [
    "Les instructions qui doivent être exécutées à l'appel de la fonction sont indentées."
   ]
  },
  {
   "cell_type": "code",
   "execution_count": 10,
   "metadata": {},
   "outputs": [
    {
     "name": "stdout",
     "output_type": "stream",
     "text": [
      "15\n"
     ]
    }
   ],
   "source": [
    "def mafonction():\n",
    "    a = 3 * 5\n",
    "    return a\n",
    "\n",
    "resultat = mafonction()\n",
    "print (resultat)"
   ]
  },
  {
   "cell_type": "markdown",
   "metadata": {},
   "source": [
    "L'instruction `return` permet de retourner la valeur de retour de la fonction, son résultat. Comme inscrit dans le premier exemple, cette instruction est facultative si le résultat de la fonction n'est pas un objet que l'on veut utiliser."
   ]
  },
  {
   "cell_type": "code",
   "execution_count": 17,
   "metadata": {},
   "outputs": [
    {
     "name": "stdout",
     "output_type": "stream",
     "text": [
      "Spam !\n",
      "Spam !\n",
      "Spam !\n",
      "Spam !\n",
      "Spam !\n",
      "Spam !\n",
      "Spam !\n",
      "Spam !\n"
     ]
    }
   ],
   "source": [
    "def spammer(n):\n",
    "    for i in range(n):\n",
    "        print(\"Spam !\")\n",
    "        \n",
    "spammer(8)"
   ]
  },
  {
   "cell_type": "markdown",
   "metadata": {},
   "source": [
    "Dans l'exemple ci-dessus, la fonction `spammer` a un argument `n` qui indique le nombre de répétitions de la boucle. "
   ]
  },
  {
   "cell_type": "code",
   "execution_count": 30,
   "metadata": {},
   "outputs": [
    {
     "name": "stdout",
     "output_type": "stream",
     "text": [
      "4.0 km/h\n",
      "0.25 km/h\n"
     ]
    }
   ],
   "source": [
    "#Distance en kilomètre et temps en heure\n",
    "\n",
    "def vitesse(distance, temps):\n",
    "    v = distance / temps\n",
    "    return v\n",
    "\n",
    "a = vitesse(12,3)\n",
    "print(a,\"km/h\")\n",
    "\n",
    "b = vitesse(3,12)\n",
    "print(b,\"km/h\")"
   ]
  },
  {
   "cell_type": "markdown",
   "metadata": {},
   "source": [
    "Il est possible d'utiliser plusieurs arguments dans une fonction en les séparant par une virgule. L'ordre des arguments doit être respecté ainsi, `vitesse(12, 3)` ne retournera pas la même valeur que `vitesse(3, 12)`."
   ]
  },
  {
   "cell_type": "markdown",
   "metadata": {},
   "source": [
    "Un élément à prendre en compte dans l'utilisation de fonction est la visibilité des variables. Lorsqu'une variable est utilisée dans une fonction, elle n'est visible (ou dé􏰀nie) qu'à l'intérieur de cette fonction. Dans l'exemple ci-dessus, la variable v n'est pas dé􏰀nie en dehors de la fonction vitesse et ne peut donc pas être utilisée. Par contre, si l'on souhaite utiliser une variable globale (c'est-à-dire dé􏰀nie dans le script principal, en dehors d'une fonction), alors il faut l'indiquer avec le mot-clé `global`, comme dans l'exemple ci-dessous."
   ]
  },
  {
   "cell_type": "code",
   "execution_count": 32,
   "metadata": {},
   "outputs": [
    {
     "name": "stdout",
     "output_type": "stream",
     "text": [
      "Bonjour Pierre\n",
      "Bienvenue\n",
      "Bonjour Jeanne\n",
      "Bienvenue\n",
      "J'ai pu saluer 2 personnes\n"
     ]
    }
   ],
   "source": [
    "def saluer(nom):\n",
    "    global nbpers\n",
    "    nbpers = nbpers + 1\n",
    "    print(\"Bonjour\", nom)\n",
    "    print(\"Bienvenue\")\n",
    "\n",
    "nbpers = 0\n",
    "saluer(\"Pierre\")\n",
    "saluer(\"Jeanne\")\n",
    "print(\"J'ai pu saluer\", nbpers, \"personnes\")"
   ]
  },
  {
   "cell_type": "markdown",
   "metadata": {},
   "source": [
    "Dans l'exemple ci-dessus, le programme garde le compte du nombre de personnes saluées dans la variable globale `nbpers` qui est mise à jour à chaque appel de fonction. Grâce au mot-clé `global` de la ligne 2, Python va chercher la valeur de cette variable à l'extérieur de la fonction. Elle a été initialisée à la ligne 7, qui est la première ligne exécutée par le programme après la définition de la fonction `saluer`."
   ]
  },
  {
   "cell_type": "code",
   "execution_count": 34,
   "metadata": {},
   "outputs": [
    {
     "name": "stdout",
     "output_type": "stream",
     "text": [
      "40\n",
      "40\n"
     ]
    }
   ],
   "source": [
    "def fonction(x): \n",
    "    a = 3\n",
    "    a = a+1\n",
    "    return a*x \n",
    "\n",
    "a = 5\n",
    "b = fonction(10)\n",
    "print(b)\n",
    "b = fonction(10)\n",
    "print(b)"
   ]
  },
  {
   "cell_type": "markdown",
   "metadata": {},
   "source": [
    "Dans cet exemple la variable `a` qui est utilisée dans la fonction n'est pas la même que la variable `a` définie à la ligne 6"
   ]
  },
  {
   "cell_type": "code",
   "execution_count": 11,
   "metadata": {},
   "outputs": [
    {
     "name": "stdout",
     "output_type": "stream",
     "text": [
      "60\n",
      "70\n"
     ]
    }
   ],
   "source": [
    "def fonction(x):\n",
    "    global a\n",
    "    a = a+1\n",
    "    return a*x\n",
    "\n",
    "a = 5\n",
    "b = fonction(10) \n",
    "print(b)\n",
    "b = fonction(10) \n",
    "print(b)"
   ]
  },
  {
   "cell_type": "markdown",
   "metadata": {},
   "source": [
    "Dans cet exemple, la valeur de la variable `a` utilisée dans la fonction est récupérée grâce au mot clé `global`. Ainsi, la variable `a` modifiée lors de l'execution de la fonction peut être utilisée dans la suite du programme."
   ]
  },
  {
   "cell_type": "markdown",
   "metadata": {},
   "source": [
    "## Exercices"
   ]
  },
  {
   "cell_type": "markdown",
   "metadata": {},
   "source": [
    "### Ex\n",
    "Faites un programme qui demande à l'utilisateur les coefficients **a, b** et **c** d'une fonction du 2ème degré et qui retourne les solutions de la fonction mathématique. Afin de pouvoir réutiliser ce calcul dans plusieurs programmes, nous allons créer une fonction `solution2degre acceptant 3 arguments (a, b et c).\n",
    "\n",
    "**Rappel:**.  \n",
    "Si le discriminant est\n",
    "- négatif : il n'y a pas de solution, \n",
    "- nul : il y a qu'une seule solution, \n",
    "- positif : il y a deux solutions.\n",
    "\n",
    "La racine carrée peut s'obtenir avec la puissance 0.5, ou avec la fonction `sqrt` importée du module `math'."
   ]
  },
  {
   "cell_type": "code",
   "execution_count": null,
   "metadata": {},
   "outputs": [],
   "source": []
  }
 ],
 "metadata": {
  "kernelspec": {
   "display_name": "Python 3",
   "language": "python",
   "name": "python3"
  },
  "language_info": {
   "codemirror_mode": {
    "name": "ipython",
    "version": 3
   },
   "file_extension": ".py",
   "mimetype": "text/x-python",
   "name": "python",
   "nbconvert_exporter": "python",
   "pygments_lexer": "ipython3",
   "version": "3.7.9"
  }
 },
 "nbformat": 4,
 "nbformat_minor": 4
}
