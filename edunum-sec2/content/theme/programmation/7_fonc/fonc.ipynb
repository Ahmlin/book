{
 "cells": [
  {
   "cell_type": "markdown",
   "metadata": {},
   "source": [
    "# Fonctions\n",
    "En programmation, les fonctions sont des suites d'instructions nommées qui permettent d'éviter d'écrire plusieurs fois la même suite d'instruction. En effet les fonction peuvent être utilisée autant de fois que nécessaire dans un programme. Il est d'usage de dire que les fonctions prennent des arguments et renvoient une valeur de retour."
   ]
  },
  {
   "cell_type": "code",
   "execution_count": 9,
   "metadata": {},
   "outputs": [
    {
     "name": "stdout",
     "output_type": "stream",
     "text": [
      "Bonjour Marc Zukerberg\n",
      "Vous êtes en train de programmer!\n"
     ]
    }
   ],
   "source": [
    "def saluer(prenom, nom):\n",
    "    print(\"Bonjour\",prenom,nom)\n",
    "    print(\"Vous êtes en train de programmer!\")\n",
    "\n",
    "a = \"Marc\"\n",
    "b = \"Zukerberg\"\n",
    "saluer(a,b)"
   ]
  },
  {
   "cell_type": "markdown",
   "metadata": {},
   "source": [
    "Dans cet exemple, la fonction s'appelle \"saluer\" et execute deux instructions print. Elle nécessite deux arguments qui sont nommés \"prenom\" et \"nom\". Le nom de ces arguments est utilisé uniquement au sein de la fonction, il sera impossible d'utiliser \"nom\" comme une variable hors de la fonction. A la dernière ligne on appelle la fonction saluer en utilisant deux variables a et b comme arguments, ces valeurs vont être assignées respectivement à prenom et nom."
   ]
  },
  {
   "cell_type": "markdown",
   "metadata": {},
   "source": [
    "## Appeler une fonction\n",
    "Une fois définie, il est possible d'utiliser une fonction en l'appelant. Pour ce faire, il suffit d'écrire le nom de la fonction suivi des eventuels arguments de la fonction entre parenthèse."
   ]
  },
  {
   "cell_type": "code",
   "execution_count": 53,
   "metadata": {},
   "outputs": [
    {
     "name": "stdout",
     "output_type": "stream",
     "text": [
      "<class 'str'>\n",
      "243\n",
      "7\n",
      "334\n",
      "5\n"
     ]
    }
   ],
   "source": [
    "a = type(\"Bonjour\") #renvoie le type de l'argument\n",
    "b = pow(3,5) #renvoie 3 à la puissance 5\n",
    "c = len(\"Bonjour\") #renvoie la longeur de l'argument\n",
    "d = round(333.76) #renvoie l'argument numérique arrondi\n",
    "e = min(5,34,112) #renvoie la valeur minimale des arguments\n",
    "print(a,b,c,d,e,sep='\\n') #affiche les variables a,b,c,d,e séparées par un retour à la ligne"
   ]
  },
  {
   "cell_type": "markdown",
   "metadata": {},
   "source": [
    "Dans cet exemple certaines fonction prédéfinies de python sont appelées. Il est d'usage de stocker la valeur de retour dans une variable."
   ]
  },
  {
   "cell_type": "markdown",
   "metadata": {},
   "source": [
    "## Définir une fonction\n",
    "Pour définir une fonction il faut inscrire le mot clé `def` puis le nom de la fonction suivi par une paire de parenthèses et d'un double point. La nomenclature d'une fonction est régie par les mêmes règles que pour les noms de variables : des lettres, des chiffres et des traits de soulignement sont autorisés, mais le premier caractère ne peut pas être un chiffre. Il n'est pas possible d'utiliser un mot-clé comme nom d'une fonction, et vous devriez éviter d'avoir une variable et une fonction du même nom."
   ]
  },
  {
   "cell_type": "markdown",
   "metadata": {},
   "source": [
    "def mafonction():"
   ]
  },
  {
   "cell_type": "markdown",
   "metadata": {},
   "source": [
    "Les instructions qui doivent être executées à l'appel de la fonction sont indentées."
   ]
  },
  {
   "cell_type": "code",
   "execution_count": 13,
   "metadata": {},
   "outputs": [
    {
     "name": "stdout",
     "output_type": "stream",
     "text": [
      "15\n"
     ]
    }
   ],
   "source": [
    "def mafonction():\n",
    "    a = 3 * 5\n",
    "    return a\n",
    "\n",
    "resultat = mafonction()\n",
    "print (resultat)"
   ]
  },
  {
   "cell_type": "markdown",
   "metadata": {},
   "source": [
    "L'instruction `return` permet de retourner la valeur de retour de la fonction, son résultat. Comme inscrit dans le premier exemple, cette instruction est facultative si le résultat de la fonction n'est pas un objet que l'on veut utiliser."
   ]
  },
  {
   "cell_type": "code",
   "execution_count": 17,
   "metadata": {},
   "outputs": [
    {
     "name": "stdout",
     "output_type": "stream",
     "text": [
      "Spam !\n",
      "Spam !\n",
      "Spam !\n",
      "Spam !\n",
      "Spam !\n",
      "Spam !\n",
      "Spam !\n",
      "Spam !\n"
     ]
    }
   ],
   "source": [
    "def spammer(n):\n",
    "    for i in range(n):\n",
    "        print(\"Spam !\")\n",
    "        \n",
    "spammer(8)"
   ]
  },
  {
   "cell_type": "markdown",
   "metadata": {},
   "source": [
    "Dans l'exemple ci-dessus, la fonction spammer a un argument (n) qui est utilisé pour effectuer une boucle. "
   ]
  },
  {
   "cell_type": "code",
   "execution_count": 30,
   "metadata": {},
   "outputs": [
    {
     "name": "stdout",
     "output_type": "stream",
     "text": [
      "4.0 km/h\n",
      "0.25 km/h\n"
     ]
    }
   ],
   "source": [
    "#Distance en kilomètre et temps en heure\n",
    "\n",
    "def vitesse(distance, temps):\n",
    "    v = distance / temps\n",
    "    return v\n",
    "\n",
    "a = vitesse(12,3)\n",
    "print(a,\"km/h\")\n",
    "\n",
    "b = vitesse(3,12)\n",
    "print(b,\"km/h\")"
   ]
  },
  {
   "cell_type": "markdown",
   "metadata": {},
   "source": [
    "Il est possible d'utiliser plusieurs arguments dans une fonction en les séparant par une virgule. L'ordre des arguments doit être respecté ainsi, `vitesse(12,3)` ne retournera pas la même valeur que `vitesse(3,12)`."
   ]
  },
  {
   "cell_type": "markdown",
   "metadata": {},
   "source": [
    "Un élément à prendre en compte dans l'utilisation de fonction est la visibilité des variables. Lorsqu'une variables est utilisée dans une fonction, elle n'est visible (ou dé􏰀nie) qu'à l'intérieur de cette fonction. Dans l'exemple ci-dessus, la variable v n'est pas dé􏰀nie en dehors de la fonction vitesse et ne peut donc pas être utilisée. Par contre, si l'on souhaite utiliser une variable globale (c'est-à-dire dé􏰀nie dans le script principal, en dehors d'une fonction), alors il faut l'indiquer avec le mot- clé `global`, comme dans l'exemple ci-dessous."
   ]
  },
  {
   "cell_type": "code",
   "execution_count": 32,
   "metadata": {},
   "outputs": [
    {
     "name": "stdout",
     "output_type": "stream",
     "text": [
      "Bonjour Pierre\n",
      "Bienvenue\n",
      "Bonjour Jeanne\n",
      "Bienvenue\n",
      "J'ai pu saluer 2 personnes\n"
     ]
    }
   ],
   "source": [
    "def saluer(nom):\n",
    "    global nbpers\n",
    "    nbpers = nbpers + 1\n",
    "    print(\"Bonjour\", nom)\n",
    "    print(\"Bienvenue\")\n",
    "\n",
    "nbpers = 0\n",
    "saluer(\"Pierre\")\n",
    "saluer(\"Jeanne\")\n",
    "print(\"J'ai pu saluer\", nbpers, \"personnes\")"
   ]
  },
  {
   "cell_type": "markdown",
   "metadata": {},
   "source": [
    "Dans l'exemple ci-dessus le programme garde le compte du nombre de personnes saluées dans la variable globale `nbpers` qui est mise à jour à chaque appel de fonction. Grâce au mot-clé `global` de la ligne 2, python va chercher la valeur de cette variable à l'extérieur de la fonction. Elle a été initialisé à la ligne 7, qui est la première ligne exécutée par le programme après la dé􏰀nition de la fonction `saluer`."
   ]
  },
  {
   "cell_type": "code",
   "execution_count": 34,
   "metadata": {},
   "outputs": [
    {
     "name": "stdout",
     "output_type": "stream",
     "text": [
      "40\n",
      "40\n"
     ]
    }
   ],
   "source": [
    "def fonction(x): \n",
    "    a = 3\n",
    "    a = a+1\n",
    "    return a*x \n",
    "\n",
    "a = 5\n",
    "b = fonction(10)\n",
    "print(b)\n",
    "b = fonction(10)\n",
    "print(b)"
   ]
  },
  {
   "cell_type": "markdown",
   "metadata": {},
   "source": [
    "Dans cet exemple la variable `a` qui est utilislée dans la fonction n'est pas la même que la variable `a` définie à la ligne 6"
   ]
  },
  {
   "cell_type": "code",
   "execution_count": 35,
   "metadata": {},
   "outputs": [
    {
     "name": "stdout",
     "output_type": "stream",
     "text": [
      "60\n",
      "70\n"
     ]
    }
   ],
   "source": [
    "def fonction(x):\n",
    "    global a\n",
    "    a = a+1\n",
    "    return a*x\n",
    "\n",
    "a = 5\n",
    "b = fonction(10) \n",
    "print(b)\n",
    "b = fonction(10) \n",
    "print(b)"
   ]
  },
  {
   "cell_type": "markdown",
   "metadata": {},
   "source": [
    "Dans cet exemple, la valeur de la variable `a` utilisée dans la fonction est récupérée grâce au mot clé `global`. Ainsi, la variable `a` modifiée lors de l'execution de la fonction peut être utilisée dans la suite du programme."
   ]
  },
  {
   "cell_type": "markdown",
   "metadata": {},
   "source": [
    "## Exercices"
   ]
  },
  {
   "cell_type": "markdown",
   "metadata": {},
   "source": [
    "### Ex\n",
    "Faire un programme qui demande les coefficients a, b et c d'une fonction du 2ème degré à l'utilisateur et qui retourne les solutions de la fonction mathématique. Afin de pouvoir réutiliser ce calcul dans plusieurs programmes, nous allons créer une fonction \"solution2degre\" acceptant 3 arguments (a, b et c).\n",
    "\n",
    "Rappel: \n",
    "- Si le dicriminant et négatif il n'y a pas de solution, si il est nul il y a qu'une seule solution et si il est positif il y a deux solutions.\n",
    "- La racine carrée s'obitent en faisant la puissance de 0.5 (x\\*\\*0.5), le chapitre sur les modules vous permettra de simplifier cette opération."
   ]
  }
 ],
 "metadata": {
  "kernelspec": {
   "display_name": "Python 3",
   "language": "python",
   "name": "python3"
  },
  "language_info": {
   "codemirror_mode": {
    "name": "ipython",
    "version": 3
   },
   "file_extension": ".py",
   "mimetype": "text/x-python",
   "name": "python",
   "nbconvert_exporter": "python",
   "pygments_lexer": "ipython3",
   "version": "3.8.5"
  }
 },
 "nbformat": 4,
 "nbformat_minor": 4
}
