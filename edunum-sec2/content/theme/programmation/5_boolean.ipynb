{
 "cells": [
  {
   "cell_type": "markdown",
   "metadata": {},
   "source": [
    "# Opérations logiques\n",
    "\n",
    "Une opération de comparaison donne les deux valeurs `True` et `False`."
   ]
  },
  {
   "cell_type": "code",
   "execution_count": 23,
   "metadata": {},
   "outputs": [
    {
     "data": {
      "text/plain": [
       "True"
      ]
     },
     "execution_count": 23,
     "metadata": {},
     "output_type": "execute_result"
    }
   ],
   "source": [
    "x = 2\n",
    "x > 0"
   ]
  },
  {
   "cell_type": "markdown",
   "metadata": {},
   "source": [
    "La la fonction `not` inverse la valeur logique."
   ]
  },
  {
   "cell_type": "code",
   "execution_count": 11,
   "metadata": {},
   "outputs": [
    {
     "name": "stdout",
     "output_type": "stream",
     "text": [
      "p\tnot p\n",
      "False\tTrue\n",
      "True\tFalse\n"
     ]
    }
   ],
   "source": [
    "print('p', 'not p', sep='\\t')\n",
    "for p in (False, True):\n",
    "    print(p, not p, sep='\\t')"
   ]
  },
  {
   "cell_type": "markdown",
   "metadata": {},
   "source": [
    "## opérateur AND"
   ]
  },
  {
   "cell_type": "code",
   "execution_count": 6,
   "metadata": {},
   "outputs": [
    {
     "name": "stdout",
     "output_type": "stream",
     "text": [
      "p\tq\tp and q\n",
      "False\tFalse\tFalse\n",
      "False\tTrue\tFalse\n",
      "True\tFalse\tFalse\n",
      "True\tTrue\tTrue\n"
     ]
    }
   ],
   "source": [
    "print('p', 'q', 'p and q', sep='\\t')\n",
    "for p in (False, True):\n",
    "    for q in (False, True):\n",
    "        print(p, q, p and q, sep='\\t')"
   ]
  },
  {
   "cell_type": "markdown",
   "metadata": {},
   "source": [
    "## opérateur OR\n",
    "\n",
    "L'opérateur logique `or` retourne vrai si au moins un des opérandes est vrai."
   ]
  },
  {
   "cell_type": "code",
   "execution_count": 7,
   "metadata": {},
   "outputs": [
    {
     "name": "stdout",
     "output_type": "stream",
     "text": [
      "p\tq\tp or q\n",
      "False\tFalse\tFalse\n",
      "False\tTrue\tTrue\n",
      "True\tFalse\tTrue\n",
      "True\tTrue\tTrue\n"
     ]
    }
   ],
   "source": [
    "print('p', 'q', 'p or q', sep='\\t')\n",
    "for p in (False, True):\n",
    "    for q in (False, True):\n",
    "        print(p, q, p or q, sep='\\t')"
   ]
  }
 ],
 "metadata": {
  "kernelspec": {
   "display_name": "Python 3",
   "language": "python",
   "name": "python3"
  },
  "language_info": {
   "codemirror_mode": {
    "name": "ipython",
    "version": 3
   },
   "file_extension": ".py",
   "mimetype": "text/x-python",
   "name": "python",
   "nbconvert_exporter": "python",
   "pygments_lexer": "ipython3",
   "version": "3.7.6"
  }
 },
 "nbformat": 4,
 "nbformat_minor": 4
}
