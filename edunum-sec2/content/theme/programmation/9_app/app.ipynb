{
 "cells": [
  {
   "cell_type": "markdown",
   "metadata": {},
   "source": [
    "# Programmation appliquée\n",
    "\n",
    "Dans cette section vous allez explorer des applications informatiques de la vie pratique."
   ]
  },
  {
   "cell_type": "markdown",
   "metadata": {},
   "source": [
    "## Système d'identification\n",
    "La plupart des services sur le web utilisent un système d'identification pour gèrer les accès aux différentes pages d'un site web. Ces systèmes comparent une chaine de caractères entrée par l'utilisateur à celles enregistrées dans une base de données. Si l'utilisateur entre une chaine de caractère qui est présente dans la base de donnée il accède à des informations. Dans l'optique de réaliser un système fonctionnel puis de l'améliorer plusieurs étapes sont à effectuer:"
   ]
  },
  {
   "cell_type": "markdown",
   "metadata": {},
   "source": [
    "1) Pour cette application, l'objectif est de créer un système demandant à l'utilisateur d'insérer sont nom d'utilisateur puis son mot de passe. Si ces derniers sont dans la base de donnée, l'utilisateur aura accès aux informations secrètes."
   ]
  },
  {
   "cell_type": "markdown",
   "metadata": {},
   "source": [
    "2) Pour améliorer l'expérience utilisateur, il faut intégrer des messages d'erreur à l'intention de l'utilisateur pour l'infomer si son nom d'utilisateur n'existe pas ou si son mot de passe est incorrect."
   ]
  },
  {
   "cell_type": "markdown",
   "metadata": {},
   "source": [
    "## Analyser un texte "
   ]
  },
  {
   "cell_type": "markdown",
   "metadata": {},
   "source": []
  },
  {
   "cell_type": "markdown",
   "metadata": {},
   "source": [
    "## Mimer instagram "
   ]
  },
  {
   "cell_type": "markdown",
   "metadata": {},
   "source": [
    "## Programmer un jeu simple avec Pygame "
   ]
  },
  {
   "cell_type": "code",
   "execution_count": null,
   "metadata": {},
   "outputs": [],
   "source": []
  }
 ],
 "metadata": {
  "kernelspec": {
   "display_name": "Python 3",
   "language": "python",
   "name": "python3"
  },
  "language_info": {
   "codemirror_mode": {
    "name": "ipython",
    "version": 3
   },
   "file_extension": ".py",
   "mimetype": "text/x-python",
   "name": "python",
   "nbconvert_exporter": "python",
   "pygments_lexer": "ipython3",
   "version": "3.7.9"
  }
 },
 "nbformat": 4,
 "nbformat_minor": 4
}
