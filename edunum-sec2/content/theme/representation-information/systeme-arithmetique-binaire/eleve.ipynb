{
 "metadata": {
  "language_info": {
   "codemirror_mode": {
    "name": "ipython",
    "version": 3
   },
   "file_extension": ".py",
   "mimetype": "text/x-python",
   "name": "python",
   "nbconvert_exporter": "python",
   "pygments_lexer": "ipython3",
   "version": "3.7.9-final"
  },
  "orig_nbformat": 2,
  "kernelspec": {
   "name": "Python 3.7.9 64-bit ('jupyterbook': conda)",
   "display_name": "Python 3.7.9 64-bit ('jupyterbook': conda)",
   "metadata": {
    "interpreter": {
     "hash": "39cd51a6b62919a40e3c79011c6b00713b7781075a85d57c29d79aaf34dff0a3"
    }
   }
  }
 },
 "nbformat": 4,
 "nbformat_minor": 2,
 "cells": [
  {
   "source": [
    "# Arithmétique binaire\n",
    "\n",
    "## Addition dans $\\mathbb{N}$\n",
    "\n",
    "### Principe\n",
    "\n",
    "### Dépacement de capacité\n",
    "\n",
    "\n",
    "## Addition dans $\\mathbb{Z}$\n",
    "\n",
    "Dépend de la représention des nombre négatifs\n",
    "\n",
    "problème de l'addition d'un nombre et son opposé avec une représentation ayant un bit de signe\n",
    "\n",
    "### Complément à 2\n",
    "\n"
   ],
   "cell_type": "markdown",
   "metadata": {}
  }
 ]
}