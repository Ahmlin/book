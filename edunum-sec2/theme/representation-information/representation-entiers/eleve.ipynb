{
 "metadata": {
  "language_info": {
   "codemirror_mode": {
    "name": "ipython",
    "version": 3
   },
   "file_extension": ".py",
   "mimetype": "text/x-python",
   "name": "python",
   "nbconvert_exporter": "python",
   "pygments_lexer": "ipython3",
   "version": "3.7.9-final"
  },
  "orig_nbformat": 2,
  "kernelspec": {
   "name": "Python 3.7.9 64-bit ('jupyterbook': conda)",
   "display_name": "Python 3.7.9 64-bit ('jupyterbook': conda)",
   "metadata": {
    "interpreter": {
     "hash": "39cd51a6b62919a40e3c79011c6b00713b7781075a85d57c29d79aaf34dff0a3"
    }
   }
  }
 },
 "nbformat": 4,
 "nbformat_minor": 2,
 "cells": [
  {
   "source": [
    "# Représentation des entiers\n",
    "\n",
    "Les Hommes utilisent presque tous le système décimal. Pourquoi ? Tout simplement parce que nous avons 10 doigts.\n",
    "L'ordinateur, lui, n'a pas doigt mais utilse l'électricité. \n",
    "Par conséquent, il ne connaît que deux types d'informations : il y a du courant, il n'y a pas de courant ; allumé, éteint ; vrai, faux ; 1 ou 0.  \n",
    "On dit qu'il travaille dans un système binaire, ou en base deux.\n",
    "\n",
    "## Les systèmes de numération\n",
    "\n",
    "### Le système décimal\n",
    "\n",
    "Ce système est composé de 10 symboles qui sont les chiffres :\n",
    "$0\\quad 1\\quad 2\\quad 3\\quad 4\\quad 5\\quad 6\\quad 7\\quad 8\\quad 9$\n",
    "\n",
    "Ainsi, tout nombre écrit dans la base 10 est composé de ces chiffres.\n",
    "\n",
    "La valeur de chaque chiffre dépend alors du chiffre lui-même et de sa place.\n",
    "Ainsi, le 3 de 1934 et celui de 3008 n'ont pas la même valeur : Le premier vaut 30, alors que le second vaut 3000.  \n",
    "On parle alors de **représentation positionnelle en base 10**.\n",
    "\n",
    "Dans ce système, pour connaître la valeur de chaque chiffre qui compose un nombre, il faut décomposer ce nombre pour identifier chaque chiffre et son coefficient, c'est la **forme canonique**.\n",
    "\n",
    "Par exemple : décomposons le nombre 3528 :\n",
    "* 8 unités.\n",
    "* 2 dizaines\n",
    "* 5 centaines\n",
    "* 3 milliers\n",
    "\n",
    "Sa forme canonique est : $3.10^3 + 5.10^2 + 2.10^1 + 8.10^0$ \n",
    "\n",
    "On peut alors vérifier que le nombre 3528 est bien dans la base 10, car tous ces chiffres appartiennent à la base 10.\n",
    "Les nombres de la base 10 ou du système décimal sont des nombres décimaux.\n",
    "\n",
    "### Le système binaire\n",
    "\n",
    "Le système binaire, ou numération positionnelle en base 2, est représenté à l'aide d'uniquement 2 symboles : 0 et 1.  \n",
    "Un élément binaire se nomme un *bit* et un ensemble de *bits* peut représenter un entier en utilisant le même principe que pour le système décimal.\n",
    "La valeur de chaque chiffre dépend toujours de sa place qui représente, cette fois, une puissance de 2.\n",
    "\n",
    "La forme canonique du nombre binaire $1101_{(2)}$ est : $1.2^3 + 1.2^2 + 0.2^1 + 1.2^0$\n",
    "\n",
    "```{note}\n",
    "La dénomination **bit** vient de la terminologie anglo-saxonne de *binary digit*.  \n",
    "Un ensemble de 8 bits et appelé un **octet**. Ainsi un *kilo-octet* (Ko) correspond à $2^{10} = 1024$ octets, soit 8192 bits.\n",
    "```\n",
    "\n",
    "#### Compter en binaire\n",
    "\n",
    "De la même manière que l'on compte en base 10 en ajoutant\n"
   ],
   "cell_type": "markdown",
   "metadata": {}
  },
  {
   "cell_type": "code",
   "execution_count": 3,
   "metadata": {},
   "outputs": [
    {
     "output_type": "execute_result",
     "data": {
      "text/plain": [
       "8192"
      ]
     },
     "metadata": {},
     "execution_count": 3
    }
   ],
   "source": [
    "1024*8"
   ]
  },
  {
   "cell_type": "code",
   "execution_count": null,
   "metadata": {},
   "outputs": [],
   "source": []
  }
 ]
}