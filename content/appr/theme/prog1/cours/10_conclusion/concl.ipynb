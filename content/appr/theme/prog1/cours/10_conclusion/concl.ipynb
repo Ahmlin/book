{
 "cells": [
  {
   "cell_type": "markdown",
   "metadata": {},
   "source": [
    "# Conclusion\n",
    "\n",
    "Orientation des langages : niveau d'abstraction, objet, conceptualisation. Avenir des langages : quels sont les qualités que l'on va demander dans l'avenir aux langages informatiques, déjà très nombreux ? Machines autonomes ? ......\n",
    "\n"
   ]
  }
 ],
 "metadata": {
  "interpreter": {
   "hash": "c3b061f701dfbdbc8b45ba2c04fdb4125b726d28f4bdc060c70fed5e5e2f8049"
  },
  "kernelspec": {
   "display_name": "Python 3.8.3 64-bit ('base': conda)",
   "name": "python3"
  },
  "language_info": {
   "name": "python",
   "version": ""
  }
 },
 "nbformat": 4,
 "nbformat_minor": 4
}
