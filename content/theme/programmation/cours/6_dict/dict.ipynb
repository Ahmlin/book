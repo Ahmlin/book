{
 "cells": [
  {
   "cell_type": "markdown",
   "source": [
    "# 5. Dictionnaires\n",
    "\n",
    "En Python, un _dictionnaire_ est une structure de données qui, comme une liste, contient plusieurs éléments, mais plus puissant. Dans une liste les indices sont des entiers. Dans un dictionnaire les indices peuvent être de n'importe quel type immuable (entier, nombre, texte, tuple, ...).\n",
    "\n",
    "![](dict.jpg)\n",
    "\n",
    "La fonction `dict` crée un dictionnaire vide. On pourrait aussi le créer avec une paire d'accolades `{}`. "
   ],
   "metadata": {}
  },
  {
   "cell_type": "code",
   "execution_count": 20,
   "source": [
    "d = dict()\n",
    "d"
   ],
   "outputs": [
    {
     "output_type": "execute_result",
     "data": {
      "text/plain": [
       "{}"
      ]
     },
     "metadata": {},
     "execution_count": 20
    }
   ],
   "metadata": {}
  },
  {
   "cell_type": "markdown",
   "source": [
    "## Mémoire associative\n",
    "\n",
    "Un dictionnaire associe une série de **clés** à une autre série de **valeurs**. Cette structure est aussi appelée \n",
    "\n",
    "- <span commented>mémoire</span><!-- REVIEW/JPP: structure plutôt que mémoire --> associative\n",
    "- table de hachage\n",
    "\n",
    "Ce type de structures de données est standard dans les langages récentes (JavaScript, Python, Ruby) mais absent les langages plus anciens (C, Fortran)."
   ],
   "metadata": {}
  },
  {
   "cell_type": "markdown",
   "source": [
    "Pour ajouter un élément à un dictionnaire stocké dans une variable `d`, <span commented>nous</span><!-- REVIEW/JPP: il y a une alternance de 'nous' et de 'on', il faudrait en choisir un et s'y tenir pour être cohérent --> utilisons une <span commented>expression</span><!-- REVIEW/JPP: instruction (en Python, l'affectation avec = n'est pas une expression) --> de la forme `d[clé] = valeur`. Comme pour un 'vrai' dictionnaire qui associe des mots de deux langues, <span commented>nous pouvons définir ceci</span><!-- REVIEW/JPP: Nous avons défini la liste en parlant directement de la syntaxe avec [a,b] pour construire une liste. Pourrions-nous faire la même chose en commençant par construire un dict tout prêt avec {k:v, k:v, etc.} avant de passer par la construction dynamique? Ça aiderait à conceptualiser cette structure diffile à aborder -->."
   ],
   "metadata": {}
  },
  {
   "cell_type": "code",
   "execution_count": 2,
   "source": [
    "d['un'] = 'one'\n",
    "d['deux'] = 'two'\n",
    "d"
   ],
   "outputs": [
    {
     "output_type": "execute_result",
     "data": {
      "text/plain": [
       "{'un': 'one', 'deux': 'two'}"
      ]
     },
     "metadata": {},
     "execution_count": 2
    }
   ],
   "metadata": {}
  },
  {
   "cell_type": "markdown",
   "source": [
    "Un dictionnaire est représenté par ceci:\n",
    "\n",
    "- il est délimité par des accolades (`{}`)\n",
    "- ses éléments sont séparés par des virgules (`,`)\n",
    "- chaque élément est une paire **clé:valeur**, où la clé vient en premier, séparée de la valeur associée par un deux-points (`:`)\n",
    "\n",
    "Pour récupérer la valeur associée à une clé, nous utilisons la clé entre crochets (`[]`) — de façon similaire à ce que nous avions fait avec les index des éléments d'une liste."
   ],
   "metadata": {}
  },
  {
   "cell_type": "code",
   "execution_count": 3,
   "source": [
    "d['deux']"
   ],
   "outputs": [
    {
     "output_type": "execute_result",
     "data": {
      "text/plain": [
       "'two'"
      ]
     },
     "metadata": {},
     "execution_count": 3
    }
   ],
   "metadata": {}
  },
  {
   "cell_type": "markdown",
   "source": [
    "De nouveaux éléments peuvent être ajoutés dans n'importer quel ordre."
   ],
   "metadata": {}
  },
  {
   "cell_type": "code",
   "execution_count": 4,
   "source": [
    "d['dix'] = 'ten'\n",
    "d"
   ],
   "outputs": [
    {
     "output_type": "execute_result",
     "data": {
      "text/plain": [
       "{'un': 'one', 'deux': 'two', 'dix': 'ten'}"
      ]
     },
     "metadata": {},
     "execution_count": 4
    }
   ],
   "metadata": {}
  },
  {
   "cell_type": "markdown",
   "source": [
    "Avec la fonction `len`, nous trouvons la taille du dictionnaire, c'est-à-dire le nombre de paires clé-valeur qu'il contient."
   ],
   "metadata": {}
  },
  {
   "cell_type": "code",
   "execution_count": 5,
   "source": [
    "len(d)"
   ],
   "outputs": [
    {
     "output_type": "execute_result",
     "data": {
      "text/plain": [
       "3"
      ]
     },
     "metadata": {},
     "execution_count": 5
    }
   ],
   "metadata": {}
  },
  {
   "cell_type": "markdown",
   "source": [
    "Avec l'opérateur spécial `in`, on peut tester si une clé donnée fait partie du dictionnaire."
   ],
   "metadata": {}
  },
  {
   "cell_type": "code",
   "execution_count": 6,
   "source": [
    "'deux' in d"
   ],
   "outputs": [
    {
     "output_type": "execute_result",
     "data": {
      "text/plain": [
       "True"
      ]
     },
     "metadata": {},
     "execution_count": 6
    }
   ],
   "metadata": {}
  },
  {
   "cell_type": "markdown",
   "source": [
    "Attention, le test est fait avec les clés, et non pas avec les valeurs."
   ],
   "metadata": {}
  },
  {
   "cell_type": "code",
   "execution_count": 7,
   "source": [
    "'two' in d"
   ],
   "outputs": [
    {
     "output_type": "execute_result",
     "data": {
      "text/plain": [
       "False"
      ]
     },
     "metadata": {},
     "execution_count": 7
    }
   ],
   "metadata": {}
  },
  {
   "cell_type": "markdown",
   "source": [
    "## Compter (histogramme)"
   ],
   "metadata": {}
  },
  {
   "cell_type": "markdown",
   "source": [
    "Un dictionnaire est une structure idéale pour compter les éléments appartenant à différentes catégories. Par exemple si nous voulons compter l'apparence de chaque lettre dans un texte nous pouvons utiliser un dictionnaire.<!-- REVIEW/JPP: J'ai un peu de peine avec ces esemples où beaucoup de variables n'ont plus qu'une lettre. Un œil avertit comprend que d est un dictonnaire, c est un caractère, etc., mais je pense que c'est promouvoir, par les exemples mêmes qui sont censés être exemplaires, un style volontairement cryptique et difficile d'accès. On pourrait appeler ce dictionnaire letter_counts, et la variable de boucle letter par exemple. -->"
   ],
   "metadata": {}
  },
  {
   "cell_type": "code",
   "execution_count": 8,
   "source": [
    "phrase = 'dictionnaire'\n",
    "d = {}\n",
    "for c in phrase:\n",
    "    if c in d:\n",
    "        d[c] += 1\n",
    "    else:\n",
    "        d[c] = 1\n",
    "d"
   ],
   "outputs": [
    {
     "output_type": "execute_result",
     "data": {
      "text/plain": [
       "{'d': 1, 'i': 3, 'c': 1, 't': 1, 'o': 1, 'n': 2, 'a': 1, 'r': 1, 'e': 1}"
      ]
     },
     "metadata": {},
     "execution_count": 8
    }
   ],
   "metadata": {}
  },
  {
   "cell_type": "markdown",
   "source": [
    "On appelle cette structure aussi un **histogramme**. Il nous montre que \n",
    "- la lettre **d** apparait une fois, \n",
    "- la lettre **i** apparait trois fois."
   ],
   "metadata": {}
  },
  {
   "cell_type": "markdown",
   "source": [
    "<span commented>La fonction `get` permet d'obtenir une valeur par défaut</span><!-- REVIEW/JPP: dire auparavant que faire un lookup avec [] et une clé non existante est une erreur -->, si la clé n'existe pas encore dans le dictionnaire. Par exemple la lettre **b** n'est pas une clé du dictionnaire. La fonction retourne alors sa valeur par défaut qui est 0."
   ],
   "metadata": {}
  },
  {
   "cell_type": "code",
   "execution_count": 9,
   "source": [
    "d.get('b', 0)"
   ],
   "outputs": [
    {
     "output_type": "execute_result",
     "data": {
      "text/plain": [
       "0"
      ]
     },
     "metadata": {},
     "execution_count": 9
    }
   ],
   "metadata": {}
  },
  {
   "cell_type": "markdown",
   "source": [
    "Ceci nous permet de raccourcir le programme de l'histogramme encore plus."
   ],
   "metadata": {}
  },
  {
   "cell_type": "code",
   "execution_count": 27,
   "source": [
    "d = {}\n",
    "for c in phrase:\n",
    "    d[c] = d.get(c, 0) + 1\n",
    "d"
   ],
   "outputs": [
    {
     "output_type": "execute_result",
     "data": {
      "text/plain": [
       "{'d': 1, 'i': 3, 'c': 1, 't': 1, 'o': 1, 'n': 2, 'a': 1, 'r': 1, 'e': 1}"
      ]
     },
     "metadata": {},
     "execution_count": 27
    }
   ],
   "metadata": {}
  },
  {
   "cell_type": "markdown",
   "source": [
    "## Itération sur les clés\n",
    "Nous pouvons itérer sur les clés d'un dictionnaire.<!-- REVIEW/JPP: Cet exemple me semble aussi très cryptique avec ces noms de variables -->"
   ],
   "metadata": {}
  },
  {
   "cell_type": "code",
   "execution_count": 28,
   "source": [
    "for c in d:\n",
    "    print(c, d[c])"
   ],
   "outputs": [
    {
     "output_type": "stream",
     "name": "stdout",
     "text": [
      "d 1\n",
      "i 3\n",
      "c 1\n",
      "t 1\n",
      "o 1\n",
      "n 2\n",
      "a 1\n",
      "r 1\n",
      "e 1\n"
     ]
    }
   ],
   "metadata": {}
  },
  {
   "cell_type": "markdown",
   "source": [
    "Transformer un dictionnaire en liste nous retourne une liste de ses clés."
   ],
   "metadata": {}
  },
  {
   "cell_type": "code",
   "execution_count": 11,
   "source": [
    "list(d)"
   ],
   "outputs": [
    {
     "output_type": "execute_result",
     "data": {
      "text/plain": [
       "['d', 'i', 'c', 't', 'o', 'n', 'a', 'r', 'e']"
      ]
     },
     "metadata": {},
     "execution_count": 11
    }
   ],
   "metadata": {}
  },
  {
   "cell_type": "markdown",
   "source": [
    "La fonction `sorted` nous retourne une liste de ses clés, triée."
   ],
   "metadata": {}
  },
  {
   "cell_type": "code",
   "execution_count": 12,
   "source": [
    "sorted(d)"
   ],
   "outputs": [
    {
     "output_type": "execute_result",
     "data": {
      "text/plain": [
       "['a', 'c', 'd', 'e', 'i', 'n', 'o', 'r', 't']"
      ]
     },
     "metadata": {},
     "execution_count": 12
    }
   ],
   "metadata": {}
  },
  {
   "cell_type": "markdown",
   "source": [
    "## List et ensemble des valeurs\n",
    "\n",
    "La méthode `values` retourne toutes les valeurs."
   ],
   "metadata": {}
  },
  {
   "cell_type": "code",
   "execution_count": 13,
   "source": [
    "d.values()"
   ],
   "outputs": [
    {
     "output_type": "execute_result",
     "data": {
      "text/plain": [
       "dict_values([1, 3, 1, 1, 1, 2, 1, 1, 1])"
      ]
     },
     "metadata": {},
     "execution_count": 13
    }
   ],
   "metadata": {}
  },
  {
   "cell_type": "markdown",
   "source": [
    "Nous pouvons les transformer en liste ordinaire."
   ],
   "metadata": {}
  },
  {
   "cell_type": "code",
   "execution_count": 14,
   "source": [
    "list(d.values())"
   ],
   "outputs": [
    {
     "output_type": "execute_result",
     "data": {
      "text/plain": [
       "[1, 3, 1, 1, 1, 2, 1, 1, 1]"
      ]
     },
     "metadata": {},
     "execution_count": 14
    }
   ],
   "metadata": {}
  },
  {
   "cell_type": "markdown",
   "source": [
    "Nous pouvons également la transformer en **ensemble** et <span commented>éliminer les doublons</span><!-- REVIEW/JPP: c'est la première fois qu'on parle de sets... à mon avis, soit on en fait une section à part entière parce qu'on se dit que ça vaut la peine, soit on laisse tomber parce qu'il y a déjà assez comme ça. Préférence pour la seconde solution. -->."
   ],
   "metadata": {}
  },
  {
   "cell_type": "code",
   "execution_count": 15,
   "source": [
    "set(d.values())"
   ],
   "outputs": [
    {
     "output_type": "execute_result",
     "data": {
      "text/plain": [
       "{1, 2, 3}"
      ]
     },
     "metadata": {},
     "execution_count": 15
    }
   ],
   "metadata": {}
  },
  {
   "cell_type": "markdown",
   "source": [
    "## Inverser un dictionnaire\n",
    "\n",
    "<span commented>Toutes les clés d'un dictionnaire sont uniques</span><!-- REVIEW/JPP: Nous devrions mentionner ceci plutôt lors de la description de la structure d'un dictionnaire, aussi avec un exemple qui montre qu'insérer deux fois la même clé remplace la première valeur associée -->. Par contre, il est tout à fait possible d'avoir plusieurs valeurs qui sont identiques. Si nous <span commented>inversons</span><!-- REVIEW/JPP: il faut mieux définir ce qu'“inverser” veut dire, à mon avis --> un dictionnaire, une valeur peut correspondre à plusieurs clés, ce que nous pouvons alors stocker dans une liste. <!-- REVIEW/JPP: Je trouve très complexe, il y a beaucoup de choses qui se cachent dans cet exemple et qui ne sont à mon avis pas assez explicites. -->"
   ],
   "metadata": {}
  },
  {
   "cell_type": "code",
   "execution_count": 16,
   "source": [
    "inverse = {}\n",
    "for c in d:\n",
    "    val = d[c]\n",
    "    if val in inverse:\n",
    "        inverse[val].append(c)\n",
    "    else:\n",
    "        inverse[val] = [c]\n",
    "inverse"
   ],
   "outputs": [
    {
     "output_type": "execute_result",
     "data": {
      "text/plain": [
       "{1: ['d', 'c', 't', 'o', 'a', 'r', 'e'], 3: ['i'], 2: ['n']}"
      ]
     },
     "metadata": {},
     "execution_count": 16
    }
   ],
   "metadata": {}
  },
  {
   "cell_type": "code",
   "execution_count": null,
   "source": [],
   "outputs": [],
   "metadata": {}
  }
 ],
 "metadata": {
  "kernelspec": {
   "display_name": "Python 3",
   "language": "python",
   "name": "python3"
  },
  "language_info": {
   "codemirror_mode": {
    "name": "ipython",
    "version": 3
   },
   "file_extension": ".py",
   "mimetype": "text/x-python",
   "name": "python",
   "nbconvert_exporter": "python",
   "pygments_lexer": "ipython3",
   "version": "3.7.9"
  }
 },
 "nbformat": 4,
 "nbformat_minor": 4
}