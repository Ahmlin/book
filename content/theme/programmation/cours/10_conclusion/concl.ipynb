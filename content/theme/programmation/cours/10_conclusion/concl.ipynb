{
 "cells": [
  {
   "cell_type": "markdown",
   "source": [
    "# *Conclusion* \n",
    "\n"
   ],
   "metadata": {}
  }
 ],
 "metadata": {
  "interpreter": {
   "hash": "c3b061f701dfbdbc8b45ba2c04fdb4125b726d28f4bdc060c70fed5e5e2f8049"
  },
  "kernelspec": {
   "display_name": "Python 3.8.3 64-bit ('base': conda)",
   "name": "python3"
  },
  "language_info": {
   "name": "python",
   "version": ""
  }
 },
 "nbformat": 4,
 "nbformat_minor": 4
}