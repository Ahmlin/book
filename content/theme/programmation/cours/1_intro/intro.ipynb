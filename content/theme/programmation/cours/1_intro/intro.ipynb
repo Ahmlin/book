{
 "cells": [
  {
   "cell_type": "markdown",
   "metadata": {},
   "source": [
    "# *Introduction* \n",
    "\n",
    "La {glo}`programmation|programmation` est le processus consistant à \"dire\" à un ordinateur ce qu'il doit faire. L'opérateur humain va communiquer avec la machine via un langage de programmation afin de lui faire exécuter un certain nombre de tâches.\n",
    "\n",
    "<!-- REVIEW/JPP: les goûts et les couleurs… j'avoue qu'un GIF animé, personnellement, dans un cas comme ça, m'empêche juste de me concentrer sur le texte. Il y a un truc qui bouge, qui est flashy, mais qui est largement inutile car il n'illustre aucun concept qu'on a envie d'expliquer. -->\n",
    "\n",
    "![](https://media.giphy.com/media/26tn33aiTi1jkl6H6/giphy.gif)"
   ]
  },
  {
   "cell_type": "markdown",
   "metadata": {},
   "source": [
    "## Historique\n",
    "\n",
    "En 1642, Blaise Pascal inventa la machine à calculer. Mais il faudra attendre 200 ans avant l'invention d'un langage de programmation qui permettra de **spécifier des opérations** et de les exécuter de façon automatique."
   ]
  },
  {
   "cell_type": "markdown",
   "metadata": {},
   "source": [
    "### Métier à tisser\n",
    "La première machine programmable est probablement le **métier à tisser de Jacquard**, réalisé en 1800. La machine utilisait des cartes perforées pour spécifier le motif à tisser. "
   ]
  },
  {
   "cell_type": "markdown",
   "metadata": {},
   "source": [
    "### Ada Lovelace\n",
    "\n",
    "Ada Lovelace, la fille du poète Lord Byron, est connue pour avoir réalisé en 1843 le premier programme informatique sur un ancêtre de l'ordinateur : la machine analytique de Charles Babbage.\n",
    "\n",
    "![](ada.jpeg)"
   ]
  },
  {
   "cell_type": "markdown",
   "metadata": {},
   "source": [
    "### La machine de Turing\n",
    "En informatique théorique, la **machine de Turing** est un modèle abstrait d'un appareil mécanique de calcul. Ce modèle a été imaginé par Alan Turing en 1936. Une machine de Turing comporte les éléments suivants :\n",
    "\n",
    "- un **ruban infini** divisé en cases. Chaque case contient un symbole (par exemple des 0 et des 1).\n",
    "- une **tête de lecture/écriture** qui permet de lire les symboles sur le ruban,\n",
    "- un **registre d'état** qui mémorise l'état actuel,\n",
    "- une **table d'actions** qui indique quel symbole écrire, basé sur l'état actuel et le symbole lu.\n",
    "\n",
    "![](turing.jpeg) "
   ]
  },
  {
   "cell_type": "markdown",
   "metadata": {},
   "source": [
    "## Langages de programmation\n",
    "\n",
    "<span commented>Les instructions d'un processeur sont représentées avec des séquences binaires (des 0 et des 1). Les ordinateurs, au niveau le plus bas, représentent toutes les données en binaire, avec des 0 et des 1. C'est aussi vrai pour un programme qu'un processeur pourra exécuter : chaque instruction élémentaire sera aussi représentée par une série de 1 et de 0. Il est difficile pour un humain de directement comprendre un tel langage. Donc, rapidement, des **assembleurs et compilateurs** ont été développés, qui permettaient d'écrire un programme avec des commandes exprimées en anglais et plus facilement compréhensibles pour un humain."
   ]
  },
  {
   "cell_type": "markdown",
   "metadata": {},
   "source": [
    "### Langage machine\n",
    "Un processeur peut exécuter un certain nombre d'instructions mathématiques et logiques. Pour la machine, ces instructions sont représentées par un code binaire bien défini, le langage machine ; pour les humains, en général par un mot court qui idenfitie l'action à effectuer. Le langage assembleur est ainsi une première \"étape\" vers un formalisme humain.\n",
    "\n",
    "Un exemple typique est une instruction qui charge une valeur (10) dans un registre (a).\n",
    "\n",
    "    load a, #10\n",
    "    \n",
    "Un autre exemple est une instruction qui additionne un nombre (2) à un registre.\n",
    "\n",
    "    add a, #2\n",
    "    \n",
    "Une instruction problématique est l'<span commented>infâme</span><!-- REVIEW/JPP: il ne me semble pas qu'un tel moit soit approprié ici --> `goto` qui transfère le contrôle vers un autre endroit dans le code.\n",
    "\n",
    "    goto label\n",
    "    \n",
    "Son utilisation peut rendre un programme difficile à comprendre et conduit facilement à des erreurs."
   ]
  },
  {
   "cell_type": "markdown",
   "metadata": {},
   "source": [
    "### Langages haut niveau\n",
    "\n",
    "Les langages de plus haut niveau (C, Java, Python) remplacent l'instruction `goto` par ce qu'on appelle des **structures de contrôle**, telles que :\n",
    "\n",
    "- des boucles (for, while),\n",
    "- des appels de fonctions,\n",
    "- des instructions conditionnelles (if ... then ... else).\n"
   ]
  },
  {
   "cell_type": "markdown",
   "metadata": {},
   "source": [
    "### Langages web\n",
    "Pour construire des sites web, trois langages sont indispensables :\n",
    "- **HTML** pour le contenu de la page,\n",
    "- **CSS** pour le style et le format de la page,\n",
    "- **JavaScript (JS)** pour programmer l'interactivité de la page.\n",
    "\n",
    "````{admonition} Remarque\n",
    "Il faut cependant distinguer ces langages des langages de programmation, qui sont à ranger plutôt dans la case des langages dits \"de balisage\", qui ne transmettent en fait aucune instruction.\n",
    "````"
   ]
  },
  {
   "cell_type": "markdown",
   "metadata": {},
   "source": [
    "## Tendances actuelles\n",
    " <!-- REVIEW/JPP: À mon avis, ceci est intéressant mais un peu hors sujet ici, ce serait mieux de le mettre dans une sorte d'intro générale au bouquin complet. La description de chacun de ces champs est ici su succincte que je crois que les élèves n'en retirent rien s'ils ne savent pas déjà assez bien de quoi il s'agit. -->\n",
    "Le domaine de l'informatique connait plusieurs tendances qui sont à la mode en ce moment. Ces sujets apparaissent régulièrement dans la presse et dans les médias."
   ]
  },
  {
   "cell_type": "markdown",
   "metadata": {},
   "source": [
    "### Machine learning\n",
    "L'apprentissage automatique, où machine learning (ML) en anglais, est un champ d'intelligence artificielle qui donne à l'ordinateur la capacité d'apprendre à partir de données massives."
   ]
  },
  {
   "cell_type": "markdown",
   "metadata": {},
   "source": [
    "### Big data\n",
    "Les données massives, **big data** en anglais, désignent les informations qui résultent d'une explosion quantitative des données durant ces dernières années. Elles nécessitent souvent de multiples machines et des traitements parallélisés.\n",
    "\n",
    "![](big_data.png)"
   ]
  },
  {
   "cell_type": "markdown",
   "metadata": {},
   "source": [
    "### Intelligence artificielle\n",
    "L'intelligence artificielle (IA) désigne un ensemble de théories et techniques permettant la résolution de problèmes complexes : c'est cette puissance de calcul qui autorise le terme d'\"intelligence\" en rapprochement avec l'intelligence humaine.\n",
    "\n",
    "Une avancée majeure fut l'ordinateur **Deep Blue** développé par IBM, premier ordinateur à battre un champion mondial d'échecs, Garry Kasparov, en 1997.\n",
    "\n",
    "En 2011 l'ordinateur **IBM Watson** a gagné au jeu télévisé **Jeopardy !** en répondant à des questions et en utilisant un traitement de langage naturel."
   ]
  },
  {
   "cell_type": "markdown",
   "metadata": {},
   "source": [
    "### Internet des objets\n",
    "L'**internet des objets**, ou Internet of Things (IoT) en anglais, désigne un nombre croissant d'objets connectés à l'internet, dans le domaine de la santé, de la domotique et de la logistique.\n",
    "\n",
    "![](iot.jpeg)"
   ]
  },
  {
   "cell_type": "markdown",
   "metadata": {},
   "source": [
    "### Cybersécurité (blockchain) \n",
    "Le **blockchain** est une technologie de stockage et de transmission d'informations sans organe de contrôle. \n",
    "C'est une base de données distribuée, et protégée contre la falsification.\n",
    "\n",
    "La monnaie virtuelle **bitcoin** utilise cette technologie."
   ]
  },
  {
   "cell_type": "code",
   "execution_count": null,
   "metadata": {},
   "outputs": [],
   "source": []
  }
 ],
 "metadata": {
  "interpreter": {
   "hash": "c3b061f701dfbdbc8b45ba2c04fdb4125b726d28f4bdc060c70fed5e5e2f8049"
  },
  "kernelspec": {
   "display_name": "Python 3.8.3 64-bit ('base': conda)",
   "name": "python3"
  },
  "language_info": {
   "name": "python",
   "version": ""
  }
 },
 "nbformat": 4,
 "nbformat_minor": 4
}
